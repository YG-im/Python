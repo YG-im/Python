{
 "cells": [
  {
   "cell_type": "markdown",
   "metadata": {},
   "source": [
    "# 1번"
   ]
  },
  {
   "cell_type": "code",
   "execution_count": 211,
   "metadata": {},
   "outputs": [],
   "source": [
    "# import sys\n",
    "\n",
    "\n",
    "# def getArea(width, height) -> int:\n",
    "#     '''\n",
    "#     루프가 없기 때문에 복잡도는 O(1)이다.\n",
    "#     '''\n",
    "#     return width*height\n",
    "\n",
    "# def main():\n",
    "#     width, height = map(int, sys.stdin.readline().strip().split(' '))\n",
    "\n",
    "#     if 0<=width<=1024 or 0<=width<=1024:\n",
    "#         pass\n",
    "#     else:\n",
    "#         raise ValueError \n",
    "    \n",
    "#     print(getArea(width, height))\n",
    "    \n",
    "    \n",
    "# main()"
   ]
  },
  {
   "cell_type": "markdown",
   "metadata": {},
   "source": [
    "# 2번"
   ]
  },
  {
   "cell_type": "code",
   "execution_count": 70,
   "metadata": {},
   "outputs": [
    {
     "ename": "IndexError",
     "evalue": "list index out of range",
     "output_type": "error",
     "traceback": [
      "\u001b[0;31m---------------------------------------------------------------------------\u001b[0m",
      "\u001b[0;31mIndexError\u001b[0m                                Traceback (most recent call last)",
      "\u001b[0;32m<ipython-input-70-f6bda525905a>\u001b[0m in \u001b[0;36m<module>\u001b[0;34m\u001b[0m\n\u001b[1;32m      3\u001b[0m \u001b[0mline\u001b[0m \u001b[0;34m=\u001b[0m \u001b[0msys\u001b[0m\u001b[0;34m.\u001b[0m\u001b[0mstdin\u001b[0m\u001b[0;34m.\u001b[0m\u001b[0mreadline\u001b[0m\u001b[0;34m(\u001b[0m\u001b[0;34m)\u001b[0m\u001b[0;34m\u001b[0m\u001b[0m\n\u001b[1;32m      4\u001b[0m \u001b[0mfirstline\u001b[0m \u001b[0;34m=\u001b[0m \u001b[0mline\u001b[0m\u001b[0;34m.\u001b[0m\u001b[0msplit\u001b[0m\u001b[0;34m(\u001b[0m\u001b[0;34m)\u001b[0m\u001b[0;34m\u001b[0m\u001b[0m\n\u001b[0;32m----> 5\u001b[0;31m \u001b[0mcomsize\u001b[0m \u001b[0;34m=\u001b[0m \u001b[0mint\u001b[0m\u001b[0;34m(\u001b[0m\u001b[0mfirstline\u001b[0m\u001b[0;34m[\u001b[0m\u001b[0;36m0\u001b[0m\u001b[0;34m]\u001b[0m\u001b[0;34m)\u001b[0m\u001b[0;34m\u001b[0m\u001b[0m\n\u001b[0m\u001b[1;32m      6\u001b[0m \u001b[0mqsize\u001b[0m \u001b[0;34m=\u001b[0m \u001b[0mint\u001b[0m\u001b[0;34m(\u001b[0m\u001b[0mfirstline\u001b[0m\u001b[0;34m[\u001b[0m\u001b[0;36m1\u001b[0m\u001b[0;34m]\u001b[0m\u001b[0;34m)\u001b[0m\u001b[0;34m\u001b[0m\u001b[0m\n\u001b[1;32m      7\u001b[0m \u001b[0;32mif\u001b[0m \u001b[0mcomsize\u001b[0m \u001b[0;34m<\u001b[0m \u001b[0;36m1\u001b[0m \u001b[0;32mor\u001b[0m \u001b[0mcomsize\u001b[0m \u001b[0;34m>\u001b[0m \u001b[0;36m10000\u001b[0m \u001b[0;32mor\u001b[0m \u001b[0mqsize\u001b[0m \u001b[0;34m<\u001b[0m \u001b[0;36m1\u001b[0m \u001b[0;32mor\u001b[0m \u001b[0mqsize\u001b[0m \u001b[0;34m>\u001b[0m \u001b[0;36m10000\u001b[0m\u001b[0;34m:\u001b[0m\u001b[0;34m\u001b[0m\u001b[0m\n",
      "\u001b[0;31mIndexError\u001b[0m: list index out of range"
     ]
    }
   ],
   "source": [
    "import sys\n",
    "\n",
    "line = sys.stdin.readline()\n",
    "firstline = line.split()\n",
    "comsize = int(firstline[0])\n",
    "qsize = int(firstline[1])\n",
    "if comsize < 1 or comsize > 10000 or qsize < 1 or qsize > 10000:\n",
    "    raise ValueError\n",
    "q = []\n",
    "# 첫번째 인자(comsize) 만큼 선형 입력 받으므로 복잡도는 O(comsize)이다.\n",
    "# queue 의 크기에 따른 복잡도는 파이썬 내부에서 list 타입을 어떻게\n",
    "# 구현했는지에 따라 다를 것인데,\n",
    "# - append 할 때 tail 참조자를 가지고 있을 경우 추가 복잡도는 없을 것이며,\n",
    "# - 참조자가 없을 경우 O(comsize*qsize) 가 될 것이다.\n",
    "for i in range(comsize):\n",
    "    comline = sys.stdin.readline().rstrip().split()\n",
    "    com = comline[0]\n",
    "    if com == 'OFFER':\n",
    "        param = comline[1]\n",
    "        if len(q) >= qsize:\n",
    "            print('false')\n",
    "            continue\n",
    "        else:\n",
    "            print('true')\n",
    "        q.append(param)\n",
    "    elif com == 'TAKE':\n",
    "        if len(q) > 0:\n",
    "            print(q.pop(0))\n",
    "    elif com == 'SIZE':\n",
    "        print(len(q))\n",
    "    else:\n",
    "        raise ValueError"
   ]
  },
  {
   "cell_type": "code",
   "execution_count": null,
   "metadata": {},
   "outputs": [],
   "source": [
    "# 제출본\n",
    "import sys\n",
    "\n",
    "#input \n",
    "line = sys.stdin.readline()\n",
    "firstline = line.split()\n",
    "comsize = int(firstline[0])\n",
    "qsize = int(firstline[1])\n",
    "if 1<= comsize <= 10000 or 1 <= qsize <= 10000:\n",
    "    pass\n",
    "else:\n",
    "    raise ValueError\n",
    "ls = []\n",
    "\n",
    "\n",
    "# main\n",
    "'''\n",
    "comsize 만큼 선형 입력 받으므로 복잡도는 O(comsize)이다.\n",
    "'''\n",
    "for i in range(comsize):\n",
    "    comline = sys.stdin.readline().rstrip().split()\n",
    "    com = comline[0]\n",
    "    if com == 'OFFER':\n",
    "        param = comline[1]\n",
    "        if len(ls) >= qsize:\n",
    "            print('false')\n",
    "            continue\n",
    "        else:\n",
    "            print('true')\n",
    "        ls.append(param)\n",
    "    elif com == 'TAKE':\n",
    "        if len(ls) > 0:\n",
    "            print(ls.pop(0))\n",
    "    elif com == 'SIZE':\n",
    "        print(len(ls))\n",
    "    else:\n",
    "        raise ValueError"
   ]
  },
  {
   "cell_type": "markdown",
   "metadata": {},
   "source": [
    "# 3번"
   ]
  },
  {
   "cell_type": "code",
   "execution_count": 2,
   "metadata": {},
   "outputs": [],
   "source": [
    "line1 = 1, 2, 3, 4, 5\n",
    "line2 = 6\n",
    "\n",
    "#1 5"
   ]
  },
  {
   "cell_type": "code",
   "execution_count": 49,
   "metadata": {},
   "outputs": [],
   "source": [
    "line_ls = list(map(int,line.split(' ')))"
   ]
  },
  {
   "cell_type": "code",
   "execution_count": 51,
   "metadata": {},
   "outputs": [
    {
     "name": "stdout",
     "output_type": "stream",
     "text": [
      "3 4\n"
     ]
    }
   ],
   "source": [
    "prob3(line_ls,int(line2))"
   ]
  },
  {
   "cell_type": "code",
   "execution_count": null,
   "metadata": {},
   "outputs": [],
   "source": [
    "#최종본\n",
    "\n",
    "import sys\n",
    "\n",
    "#input\n",
    "line1 = sys.stdin.readline()\n",
    "target = sys.stdin.readline()\n",
    "line_ls = list(map(int,line1.split(' ')))\n",
    "\n",
    "#main\n",
    "def main(line1, target):\n",
    "    '''\n",
    "    line1의 길이 오더로 두 번 for 문이 있기 때문에 복잡도는 O(line1)이다.\n",
    "    '''\n",
    "    for i in range(len(line1)):\n",
    "        for j in range(i+1,len(line1)):\n",
    "            if line1[i]+line1[j] == target:\n",
    "                return print(line1[i],line1[j])\n",
    "    return print(-1)\n",
    "\n",
    "main(line_ls, int(target))"
   ]
  },
  {
   "cell_type": "markdown",
   "metadata": {},
   "source": [
    "# 4번"
   ]
  },
  {
   "cell_type": "code",
   "execution_count": null,
   "metadata": {},
   "outputs": [],
   "source": [
    "def do_dfs(start, visited, adjlist):\n",
    "    for w in adjlist[start]:\n",
    "        if visited[w] == True:\n",
    "            return True\n",
    "        visited[w] = True\n",
    "        return do_dfs(w, visited, adjlist)\n",
    "\n",
    "'''\n",
    "인접 리스트를 그래프 표현 구조로 선택했고\n",
    "적어도 한번은 노드를 지나갔는지 확인해야 하므로\n",
    "O(vertex 갯수) + O(edge 갯수) \n",
    "=> 복잡도는 O(vertex+edge 갯수)이다.\n",
    "'''    \n",
    "    \n",
    "def detect_cycle(adjlist, visited):\n",
    "    for k in visited.keys():\n",
    "        if visited[k] == True:\n",
    "            continue\n",
    "        else:\n",
    "            visited[k] = True\n",
    "            has_cycle = do_dfs(k, visited, adjlist)\n",
    "            if has_cycle == True:\n",
    "                return 'true'\n",
    "    return 'false'\n",
    "\n",
    "def add_edge_to_adjlist(edge, adjlist):\n",
    "    v = edge[0]\n",
    "    w = edge[1]\n",
    "    adjlist[v].append(w)\n",
    "\n",
    "def main():\n",
    "    n = int(input())\n",
    "    adjlist = {key: [] for key in range(n)}\n",
    "    visited = dict.fromkeys(range(n), False)\n",
    "    \n",
    "    '''\n",
    "    edge 개수만큼 dict에 넣으므로 복잡도는 O(edge 개수)이다.\n",
    "    '''\n",
    "    \n",
    "    while True:\n",
    "        try:\n",
    "            a, b = map(int, input().strip().split(' '))\n",
    "            edge = (a,b)\n",
    "            add_edge_to_adjlist(edge, adjlist)\n",
    "        except EOFError:\n",
    "            break\n",
    "\n",
    "    print(detect_cycle(adjlist, visited))\n",
    "main()"
   ]
  },
  {
   "cell_type": "markdown",
   "metadata": {},
   "source": [
    "# 5번"
   ]
  },
  {
   "cell_type": "code",
   "execution_count": null,
   "metadata": {},
   "outputs": [],
   "source": [
    "# 제출본\n",
    "\n",
    "#input\n",
    "ls = []\n",
    "while True:\n",
    "    try:\n",
    "        s=int(input())\n",
    "        #valueError\n",
    "        if len(ls) == 0:\n",
    "            if s < 0  or 3000000000 < s:\n",
    "                raise ValueError    \n",
    "        else:\n",
    "            if s < -3000000000  or 3000000000 < s:\n",
    "                raise ValueError\n",
    "        # add s in ls\n",
    "        ls.append(s)\n",
    "    except EOFError:\n",
    "        break\n",
    "\n",
    "# main  \n",
    "'''\n",
    "S_ls 길이만큼 선형 입력 받으므로 복잡도는 O(len(S_ls))이다.\n",
    "'''\n",
    "W = ls[0]\n",
    "S_ls = ls[1:]        \n",
    "ls0 = []\n",
    "for i in range(len(S_ls)):\n",
    "    if i+W > len(S_ls):\n",
    "        break\n",
    "    ls0.append(max(S_ls[i:i+W])) \n",
    "\n",
    "#output    \n",
    "while len(ls0) != 0:\n",
    "    print(ls0.pop(0))"
   ]
  },
  {
   "cell_type": "code",
   "execution_count": null,
   "metadata": {},
   "outputs": [],
   "source": []
  },
  {
   "cell_type": "code",
   "execution_count": null,
   "metadata": {},
   "outputs": [],
   "source": []
  },
  {
   "cell_type": "code",
   "execution_count": null,
   "metadata": {},
   "outputs": [],
   "source": []
  },
  {
   "cell_type": "code",
   "execution_count": 147,
   "metadata": {},
   "outputs": [],
   "source": [
    "## input을 list로...\n",
    "# while True:\n",
    "#     try:\n",
    "#         s=input()\n",
    "#         print(s)\n",
    "#     except EOFError:\n",
    "#         break"
   ]
  },
  {
   "cell_type": "code",
   "execution_count": 162,
   "metadata": {},
   "outputs": [
    {
     "data": {
      "text/plain": [
       "[3, 1, 2, -1, 3]"
      ]
     },
     "execution_count": 162,
     "metadata": {},
     "output_type": "execute_result"
    }
   ],
   "source": [
    "# a = \"2 1 2 -1 3\"\n",
    "#a = \"1 1 2 -1 3\"\n",
    "a = \"3 1 2 -1 3\"\n",
    "ls = list(map(int, a.strip().split(' ')))\n",
    "ls"
   ]
  },
  {
   "cell_type": "code",
   "execution_count": 202,
   "metadata": {},
   "outputs": [
    {
     "name": "stdout",
     "output_type": "stream",
     "text": [
      "1\n",
      "2\n",
      "-3000000001\n"
     ]
    },
    {
     "ename": "ValueError",
     "evalue": "",
     "output_type": "error",
     "traceback": [
      "\u001b[0;31m---------------------------------------------------------------------------\u001b[0m",
      "\u001b[0;31mValueError\u001b[0m                                Traceback (most recent call last)",
      "\u001b[0;32m<ipython-input-202-6dc4a768430f>\u001b[0m in \u001b[0;36m<module>\u001b[0;34m\u001b[0m\n\u001b[1;32m      7\u001b[0m         \u001b[0;32melse\u001b[0m\u001b[0;34m:\u001b[0m\u001b[0;34m\u001b[0m\u001b[0m\n\u001b[1;32m      8\u001b[0m             \u001b[0;32mif\u001b[0m \u001b[0ms\u001b[0m \u001b[0;34m<\u001b[0m \u001b[0;34m-\u001b[0m\u001b[0;36m3000000000\u001b[0m  \u001b[0;32mor\u001b[0m \u001b[0;36m3000000000\u001b[0m \u001b[0;34m<\u001b[0m \u001b[0ms\u001b[0m\u001b[0;34m:\u001b[0m\u001b[0;34m\u001b[0m\u001b[0m\n\u001b[0;32m----> 9\u001b[0;31m                 \u001b[0;32mraise\u001b[0m \u001b[0mValueError\u001b[0m\u001b[0;34m\u001b[0m\u001b[0m\n\u001b[0m\u001b[1;32m     10\u001b[0m         \u001b[0mls\u001b[0m\u001b[0;34m.\u001b[0m\u001b[0mappend\u001b[0m\u001b[0;34m(\u001b[0m\u001b[0ms\u001b[0m\u001b[0;34m)\u001b[0m\u001b[0;34m\u001b[0m\u001b[0m\n",
      "\u001b[0;31mValueError\u001b[0m: "
     ]
    }
   ],
   "source": [
    "ls=[]\n",
    "while True:\n",
    "        s=int(input())\n",
    "        if len(ls) == 0:\n",
    "            if s < 0  or 3000000000 < s:\n",
    "                raise ValueError    \n",
    "        else:\n",
    "            if s < -3000000000  or 3000000000 < s:\n",
    "                raise ValueError\n",
    "        ls.append(s)"
   ]
  },
  {
   "cell_type": "code",
   "execution_count": 188,
   "metadata": {},
   "outputs": [],
   "source": [
    "dic = {}"
   ]
  },
  {
   "cell_type": "code",
   "execution_count": 200,
   "metadata": {},
   "outputs": [
    {
     "data": {
      "text/plain": [
       "{1: 2, 2: [3]}"
      ]
     },
     "execution_count": 200,
     "metadata": {},
     "output_type": "execute_result"
    }
   ],
   "source": [
    "dic[1] = 2\n",
    "dic[2] = [3]\n",
    "dic"
   ]
  },
  {
   "cell_type": "code",
   "execution_count": 201,
   "metadata": {},
   "outputs": [
    {
     "ename": "AttributeError",
     "evalue": "'int' object has no attribute 'append'",
     "output_type": "error",
     "traceback": [
      "\u001b[0;31m---------------------------------------------------------------------------\u001b[0m",
      "\u001b[0;31mAttributeError\u001b[0m                            Traceback (most recent call last)",
      "\u001b[0;32m<ipython-input-201-92ae4ec016fe>\u001b[0m in \u001b[0;36m<module>\u001b[0;34m\u001b[0m\n\u001b[0;32m----> 1\u001b[0;31m \u001b[0mdic\u001b[0m\u001b[0;34m[\u001b[0m\u001b[0;36m1\u001b[0m\u001b[0;34m]\u001b[0m\u001b[0;34m.\u001b[0m\u001b[0mappend\u001b[0m\u001b[0;34m(\u001b[0m\u001b[0;36m1\u001b[0m\u001b[0;34m)\u001b[0m\u001b[0;34m\u001b[0m\u001b[0m\n\u001b[0m",
      "\u001b[0;31mAttributeError\u001b[0m: 'int' object has no attribute 'append'"
     ]
    }
   ],
   "source": [
    "dic[1].append(1)"
   ]
  },
  {
   "cell_type": "code",
   "execution_count": 195,
   "metadata": {},
   "outputs": [
    {
     "data": {
      "text/plain": [
       "{1: [2, 1], 2: [3]}"
      ]
     },
     "execution_count": 195,
     "metadata": {},
     "output_type": "execute_result"
    }
   ],
   "source": [
    "dic"
   ]
  },
  {
   "cell_type": "code",
   "execution_count": null,
   "metadata": {},
   "outputs": [],
   "source": []
  },
  {
   "cell_type": "markdown",
   "metadata": {},
   "source": [
    "# 4번 cycle graph"
   ]
  },
  {
   "cell_type": "code",
   "execution_count": 181,
   "metadata": {},
   "outputs": [],
   "source": [
    "#ls = [[3], [1,2], [2,3], [3,1]]   # True\n",
    "ls = [[4], [1,2], [2,3], [3,4]]   # False\n",
    "#ls = [[3], [0, 1], [1, 2], [2, 0]] #True"
   ]
  },
  {
   "cell_type": "code",
   "execution_count": 184,
   "metadata": {},
   "outputs": [
    {
     "data": {
      "text/plain": [
       "(4, [[1, 2], [2, 3], [3, 4]])"
      ]
     },
     "execution_count": 184,
     "metadata": {},
     "output_type": "execute_result"
    }
   ],
   "source": [
    "node = ls[0][0]\n",
    "edge1 = ls[1:]\n",
    "node, edge1"
   ]
  },
  {
   "cell_type": "code",
   "execution_count": 185,
   "metadata": {},
   "outputs": [
    {
     "name": "stdout",
     "output_type": "stream",
     "text": [
      "{1: [2], 2: [3], 3: [4]}\n"
     ]
    },
    {
     "ename": "KeyError",
     "evalue": "4",
     "output_type": "error",
     "traceback": [
      "\u001b[0;31m---------------------------------------------------------------------------\u001b[0m",
      "\u001b[0;31mKeyError\u001b[0m                                  Traceback (most recent call last)",
      "\u001b[0;32m<ipython-input-185-4d359ffc328d>\u001b[0m in \u001b[0;36m<module>\u001b[0;34m\u001b[0m\n\u001b[1;32m     43\u001b[0m     \u001b[0mprint\u001b[0m\u001b[0;34m(\u001b[0m\u001b[0mdetect_cycle\u001b[0m\u001b[0;34m(\u001b[0m\u001b[0madjlist\u001b[0m\u001b[0;34m)\u001b[0m\u001b[0;34m)\u001b[0m\u001b[0;34m\u001b[0m\u001b[0m\n\u001b[1;32m     44\u001b[0m \u001b[0;34m\u001b[0m\u001b[0m\n\u001b[0;32m---> 45\u001b[0;31m \u001b[0mmain\u001b[0m\u001b[0;34m(\u001b[0m\u001b[0;34m)\u001b[0m\u001b[0;34m\u001b[0m\u001b[0m\n\u001b[0m",
      "\u001b[0;32m<ipython-input-185-4d359ffc328d>\u001b[0m in \u001b[0;36mmain\u001b[0;34m()\u001b[0m\n\u001b[1;32m     41\u001b[0m         \u001b[0madd_edge_to_adjlist\u001b[0m\u001b[0;34m(\u001b[0m\u001b[0medge\u001b[0m\u001b[0;34m,\u001b[0m \u001b[0madjlist\u001b[0m\u001b[0;34m)\u001b[0m\u001b[0;34m\u001b[0m\u001b[0m\n\u001b[1;32m     42\u001b[0m     \u001b[0mprint\u001b[0m\u001b[0;34m(\u001b[0m\u001b[0madjlist\u001b[0m\u001b[0;34m)\u001b[0m\u001b[0;34m\u001b[0m\u001b[0m\n\u001b[0;32m---> 43\u001b[0;31m     \u001b[0mprint\u001b[0m\u001b[0;34m(\u001b[0m\u001b[0mdetect_cycle\u001b[0m\u001b[0;34m(\u001b[0m\u001b[0madjlist\u001b[0m\u001b[0;34m)\u001b[0m\u001b[0;34m)\u001b[0m\u001b[0;34m\u001b[0m\u001b[0m\n\u001b[0m\u001b[1;32m     44\u001b[0m \u001b[0;34m\u001b[0m\u001b[0m\n\u001b[1;32m     45\u001b[0m \u001b[0mmain\u001b[0m\u001b[0;34m(\u001b[0m\u001b[0;34m)\u001b[0m\u001b[0;34m\u001b[0m\u001b[0m\n",
      "\u001b[0;32m<ipython-input-185-4d359ffc328d>\u001b[0m in \u001b[0;36mdetect_cycle\u001b[0;34m(adjlist)\u001b[0m\n\u001b[1;32m     20\u001b[0m         \u001b[0;32melse\u001b[0m\u001b[0;34m:\u001b[0m\u001b[0;34m\u001b[0m\u001b[0m\n\u001b[1;32m     21\u001b[0m             \u001b[0mvisited\u001b[0m\u001b[0;34m[\u001b[0m\u001b[0mk\u001b[0m\u001b[0;34m]\u001b[0m \u001b[0;34m=\u001b[0m \u001b[0;32mTrue\u001b[0m\u001b[0;34m\u001b[0m\u001b[0m\n\u001b[0;32m---> 22\u001b[0;31m             \u001b[0mhas_cycle\u001b[0m \u001b[0;34m=\u001b[0m \u001b[0mdo_dfs\u001b[0m\u001b[0;34m(\u001b[0m\u001b[0mk\u001b[0m\u001b[0;34m,\u001b[0m \u001b[0mvisited\u001b[0m\u001b[0;34m,\u001b[0m \u001b[0madjlist\u001b[0m\u001b[0;34m)\u001b[0m\u001b[0;34m\u001b[0m\u001b[0m\n\u001b[0m\u001b[1;32m     23\u001b[0m             \u001b[0;31m# cycle 발견되면 즉시 루프를 빠져나온다\u001b[0m\u001b[0;34m\u001b[0m\u001b[0;34m\u001b[0m\u001b[0m\n\u001b[1;32m     24\u001b[0m             \u001b[0;32mif\u001b[0m \u001b[0mhas_cycle\u001b[0m \u001b[0;34m==\u001b[0m \u001b[0;32mTrue\u001b[0m\u001b[0;34m:\u001b[0m\u001b[0;34m\u001b[0m\u001b[0m\n",
      "\u001b[0;32m<ipython-input-185-4d359ffc328d>\u001b[0m in \u001b[0;36mdo_dfs\u001b[0;34m(start, visited, adjlist)\u001b[0m\n\u001b[1;32m      4\u001b[0m             \u001b[0;32mreturn\u001b[0m \u001b[0;32mTrue\u001b[0m\u001b[0;34m\u001b[0m\u001b[0m\n\u001b[1;32m      5\u001b[0m         \u001b[0mvisited\u001b[0m\u001b[0;34m[\u001b[0m\u001b[0mw\u001b[0m\u001b[0;34m]\u001b[0m \u001b[0;34m=\u001b[0m \u001b[0;32mTrue\u001b[0m\u001b[0;34m\u001b[0m\u001b[0m\n\u001b[0;32m----> 6\u001b[0;31m         \u001b[0;32mreturn\u001b[0m \u001b[0mdo_dfs\u001b[0m\u001b[0;34m(\u001b[0m\u001b[0mw\u001b[0m\u001b[0;34m,\u001b[0m \u001b[0mvisited\u001b[0m\u001b[0;34m,\u001b[0m \u001b[0madjlist\u001b[0m\u001b[0;34m)\u001b[0m\u001b[0;34m\u001b[0m\u001b[0m\n\u001b[0m\u001b[1;32m      7\u001b[0m \u001b[0;34m\u001b[0m\u001b[0m\n\u001b[1;32m      8\u001b[0m \u001b[0;32mdef\u001b[0m \u001b[0mdetect_cycle\u001b[0m\u001b[0;34m(\u001b[0m\u001b[0madjlist\u001b[0m\u001b[0;34m)\u001b[0m\u001b[0;34m:\u001b[0m\u001b[0;34m\u001b[0m\u001b[0m\n",
      "\u001b[0;32m<ipython-input-185-4d359ffc328d>\u001b[0m in \u001b[0;36mdo_dfs\u001b[0;34m(start, visited, adjlist)\u001b[0m\n\u001b[1;32m      4\u001b[0m             \u001b[0;32mreturn\u001b[0m \u001b[0;32mTrue\u001b[0m\u001b[0;34m\u001b[0m\u001b[0m\n\u001b[1;32m      5\u001b[0m         \u001b[0mvisited\u001b[0m\u001b[0;34m[\u001b[0m\u001b[0mw\u001b[0m\u001b[0;34m]\u001b[0m \u001b[0;34m=\u001b[0m \u001b[0;32mTrue\u001b[0m\u001b[0;34m\u001b[0m\u001b[0m\n\u001b[0;32m----> 6\u001b[0;31m         \u001b[0;32mreturn\u001b[0m \u001b[0mdo_dfs\u001b[0m\u001b[0;34m(\u001b[0m\u001b[0mw\u001b[0m\u001b[0;34m,\u001b[0m \u001b[0mvisited\u001b[0m\u001b[0;34m,\u001b[0m \u001b[0madjlist\u001b[0m\u001b[0;34m)\u001b[0m\u001b[0;34m\u001b[0m\u001b[0m\n\u001b[0m\u001b[1;32m      7\u001b[0m \u001b[0;34m\u001b[0m\u001b[0m\n\u001b[1;32m      8\u001b[0m \u001b[0;32mdef\u001b[0m \u001b[0mdetect_cycle\u001b[0m\u001b[0;34m(\u001b[0m\u001b[0madjlist\u001b[0m\u001b[0;34m)\u001b[0m\u001b[0;34m:\u001b[0m\u001b[0;34m\u001b[0m\u001b[0m\n",
      "\u001b[0;32m<ipython-input-185-4d359ffc328d>\u001b[0m in \u001b[0;36mdo_dfs\u001b[0;34m(start, visited, adjlist)\u001b[0m\n\u001b[1;32m      4\u001b[0m             \u001b[0;32mreturn\u001b[0m \u001b[0;32mTrue\u001b[0m\u001b[0;34m\u001b[0m\u001b[0m\n\u001b[1;32m      5\u001b[0m         \u001b[0mvisited\u001b[0m\u001b[0;34m[\u001b[0m\u001b[0mw\u001b[0m\u001b[0;34m]\u001b[0m \u001b[0;34m=\u001b[0m \u001b[0;32mTrue\u001b[0m\u001b[0;34m\u001b[0m\u001b[0m\n\u001b[0;32m----> 6\u001b[0;31m         \u001b[0;32mreturn\u001b[0m \u001b[0mdo_dfs\u001b[0m\u001b[0;34m(\u001b[0m\u001b[0mw\u001b[0m\u001b[0;34m,\u001b[0m \u001b[0mvisited\u001b[0m\u001b[0;34m,\u001b[0m \u001b[0madjlist\u001b[0m\u001b[0;34m)\u001b[0m\u001b[0;34m\u001b[0m\u001b[0m\n\u001b[0m\u001b[1;32m      7\u001b[0m \u001b[0;34m\u001b[0m\u001b[0m\n\u001b[1;32m      8\u001b[0m \u001b[0;32mdef\u001b[0m \u001b[0mdetect_cycle\u001b[0m\u001b[0;34m(\u001b[0m\u001b[0madjlist\u001b[0m\u001b[0;34m)\u001b[0m\u001b[0;34m:\u001b[0m\u001b[0;34m\u001b[0m\u001b[0m\n",
      "\u001b[0;32m<ipython-input-185-4d359ffc328d>\u001b[0m in \u001b[0;36mdo_dfs\u001b[0;34m(start, visited, adjlist)\u001b[0m\n\u001b[1;32m      1\u001b[0m \u001b[0;32mdef\u001b[0m \u001b[0mdo_dfs\u001b[0m\u001b[0;34m(\u001b[0m\u001b[0mstart\u001b[0m\u001b[0;34m,\u001b[0m \u001b[0mvisited\u001b[0m\u001b[0;34m,\u001b[0m \u001b[0madjlist\u001b[0m\u001b[0;34m)\u001b[0m\u001b[0;34m:\u001b[0m\u001b[0;34m\u001b[0m\u001b[0m\n\u001b[0;32m----> 2\u001b[0;31m     \u001b[0;32mfor\u001b[0m \u001b[0mw\u001b[0m \u001b[0;32min\u001b[0m \u001b[0madjlist\u001b[0m\u001b[0;34m[\u001b[0m\u001b[0mstart\u001b[0m\u001b[0;34m]\u001b[0m\u001b[0;34m:\u001b[0m\u001b[0;34m\u001b[0m\u001b[0m\n\u001b[0m\u001b[1;32m      3\u001b[0m         \u001b[0;32mif\u001b[0m \u001b[0mvisited\u001b[0m\u001b[0;34m[\u001b[0m\u001b[0mw\u001b[0m\u001b[0;34m]\u001b[0m \u001b[0;34m==\u001b[0m \u001b[0;32mTrue\u001b[0m\u001b[0;34m:\u001b[0m\u001b[0;34m\u001b[0m\u001b[0m\n\u001b[1;32m      4\u001b[0m             \u001b[0;32mreturn\u001b[0m \u001b[0;32mTrue\u001b[0m\u001b[0;34m\u001b[0m\u001b[0m\n\u001b[1;32m      5\u001b[0m         \u001b[0mvisited\u001b[0m\u001b[0;34m[\u001b[0m\u001b[0mw\u001b[0m\u001b[0;34m]\u001b[0m \u001b[0;34m=\u001b[0m \u001b[0;32mTrue\u001b[0m\u001b[0;34m\u001b[0m\u001b[0m\n",
      "\u001b[0;31mKeyError\u001b[0m: 4"
     ]
    }
   ],
   "source": [
    "def do_dfs(start, visited, adjlist):\n",
    "    for w in adjlist[start]:\n",
    "        if visited[w] == True:\n",
    "            return True\n",
    "        visited[w] = True\n",
    "        return do_dfs(w, visited, adjlist)\n",
    "\n",
    "def detect_cycle(adjlist, visited):\n",
    "    for k in visited.keys():\n",
    "        # 이미 확인이 끝난 경로에 대해서 체크하지 않는다\n",
    "        if visited[k] == True:\n",
    "            continue\n",
    "        else:\n",
    "            visited[k] = True\n",
    "            has_cycle = do_dfs(k, visited, adjlist)\n",
    "            # cycle 발견되면 즉시 루프를 빠져나온다\n",
    "            if has_cycle == True:\n",
    "                return True\n",
    "    return False\n",
    "\n",
    "def add_edge_to_adjlist(edge, adjlist):\n",
    "    # direct graph 이므로 반대방향은 신경쓰지 않는다\n",
    "    v = edge[0]\n",
    "    w = edge[1]\n",
    "    adjlist[v].append(w)\n",
    "\n",
    "def main():\n",
    "    n = int(input())\n",
    "    adjlist = {key: [] for key in range(n)}\n",
    "    visited = dict.fromkeys(range(n), False)\n",
    "\n",
    "    while True:\n",
    "        try:\n",
    "            a, b = map(int, input().strip().split(' '))\n",
    "            edge = (a,b)\n",
    "            add_edge_to_adjlist(edge, adjlist)\n",
    "        except EOFError:\n",
    "            break\n",
    "\n",
    "    print(detect_cycle(adjlist, visited))"
   ]
  },
  {
   "cell_type": "code",
   "execution_count": null,
   "metadata": {},
   "outputs": [],
   "source": []
  },
  {
   "cell_type": "code",
   "execution_count": null,
   "metadata": {},
   "outputs": [],
   "source": []
  },
  {
   "cell_type": "code",
   "execution_count": null,
   "metadata": {},
   "outputs": [],
   "source": []
  },
  {
   "cell_type": "code",
   "execution_count": null,
   "metadata": {},
   "outputs": [],
   "source": []
  },
  {
   "cell_type": "code",
   "execution_count": null,
   "metadata": {},
   "outputs": [],
   "source": []
  },
  {
   "cell_type": "code",
   "execution_count": 186,
   "metadata": {},
   "outputs": [
    {
     "name": "stdout",
     "output_type": "stream",
     "text": [
      "{1: [2], 2: [3], 3: [4]}\n"
     ]
    }
   ],
   "source": [
    "adjlist = {}\n",
    "for i in edge1:\n",
    "    edge = (i[0],i[1])\n",
    "    add_edge_to_adjlist(edge, adjlist)\n",
    "print(adjlist)"
   ]
  },
  {
   "cell_type": "code",
   "execution_count": 187,
   "metadata": {},
   "outputs": [
    {
     "data": {
      "text/plain": [
       "False"
      ]
     },
     "execution_count": 187,
     "metadata": {},
     "output_type": "execute_result"
    }
   ],
   "source": [
    "cyclic(adjlist)"
   ]
  },
  {
   "cell_type": "code",
   "execution_count": 165,
   "metadata": {},
   "outputs": [],
   "source": [
    "def cyclic(g):\n",
    "    path = set()\n",
    "\n",
    "    def visit(vertex):\n",
    "        path.add(vertex)\n",
    "        for neighbour in g.get(vertex, ()):\n",
    "            if neighbour in path or visit(neighbour):\n",
    "                return True\n",
    "        path.remove(vertex)\n",
    "        return False\n",
    "\n",
    "    return any(visit(v) for v in g)"
   ]
  },
  {
   "cell_type": "code",
   "execution_count": 209,
   "metadata": {},
   "outputs": [],
   "source": [
    "a,b =4,2"
   ]
  },
  {
   "cell_type": "code",
   "execution_count": 210,
   "metadata": {},
   "outputs": [],
   "source": [
    "if 0<a<3:\n",
    "    print(True)"
   ]
  },
  {
   "cell_type": "code",
   "execution_count": null,
   "metadata": {},
   "outputs": [],
   "source": []
  }
 ],
 "metadata": {
  "kernelspec": {
   "display_name": "Python 3",
   "language": "python",
   "name": "python3"
  },
  "language_info": {
   "codemirror_mode": {
    "name": "ipython",
    "version": 3
   },
   "file_extension": ".py",
   "mimetype": "text/x-python",
   "name": "python",
   "nbconvert_exporter": "python",
   "pygments_lexer": "ipython3",
   "version": "3.6.5"
  }
 },
 "nbformat": 4,
 "nbformat_minor": 2
}
