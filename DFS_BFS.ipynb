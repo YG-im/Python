{
 "cells": [
  {
   "cell_type": "markdown",
   "metadata": {},
   "source": [
    "# DFS"
   ]
  },
  {
   "cell_type": "code",
   "execution_count": 44,
   "metadata": {},
   "outputs": [
    {
     "data": {
      "text/plain": [
       "[[3, 2], [3, 1, 4, 5], [6, 4, 2, 1], [3, 2], [2], [3]]"
      ]
     },
     "execution_count": 44,
     "metadata": {},
     "output_type": "execute_result"
    }
   ],
   "source": [
    "n, edge = 6, [[3, 6], [4, 3], [3, 2], [1, 3], [1, 2], [2, 4], [5, 2]]\n",
    "\n",
    "vertexList=list(range(1,n+1))\n",
    "adjacencyList = [[] for vertex in vertexList]\n",
    "\n",
    "for e in edge:\n",
    "    adjacencyList[e[0]-1].append(e[1])\n",
    "    adjacencyList[e[1]-1].append(e[0])\n",
    "adjacencyList    "
   ]
  },
  {
   "cell_type": "code",
   "execution_count": 45,
   "metadata": {},
   "outputs": [
    {
     "name": "stdout",
     "output_type": "stream",
     "text": [
      "3\n",
      "2\n",
      "stack:  [3, 2]\n",
      "visit: [1]\n",
      "3\n",
      "1\n",
      "4\n",
      "5\n",
      "stack:  [3, 4, 5]\n",
      "visit: [1, 2]\n",
      "2\n",
      "stack:  [3, 4]\n",
      "visit: [1, 2, 5]\n",
      "3\n",
      "2\n",
      "stack:  [3]\n",
      "visit: [1, 2, 5, 4]\n",
      "6\n",
      "4\n",
      "2\n",
      "1\n",
      "stack:  [6]\n",
      "visit: [1, 2, 5, 4, 3]\n",
      "3\n",
      "stack:  []\n",
      "visit: [1, 2, 5, 4, 3, 6]\n"
     ]
    }
   ],
   "source": [
    "\n",
    "visitedVertex = []\n",
    "stack = [1]  \n",
    "\n",
    "while len(stack)!=0:\n",
    "    current = stack.pop()\n",
    "    for neighbor in adjacencyList[current-1]:\n",
    "        print(neighbor)\n",
    "        if neighbor not in visitedVertex and neighbor not in stack:\n",
    "            stack.append(neighbor)\n",
    "    visitedVertex.append(current)\n",
    "    print('stack: ',stack)\n",
    "    print('visit:', visitedVertex)"
   ]
  },
  {
   "cell_type": "code",
   "execution_count": 59,
   "metadata": {},
   "outputs": [],
   "source": [
    "n, edge = 6, [[3, 6], [4, 3], [3, 2], [1, 3], [1, 2], [2, 4], [5, 2]]\n",
    "\n",
    "def edge_to_adjlist(n, edge):\n",
    "    vertexList=list(range(1,n+1))\n",
    "    adjlist = [[] for vertex in vertexList]\n",
    "    \n",
    "    for e in edge:\n",
    "        adjlist[e[0]-1].append(e[1])\n",
    "        adjlist[e[1]-1].append(e[0])\n",
    "    return adjlist    \n",
    "\n",
    "def solution(n,edge):\n",
    "    \n",
    "    adjlist = edge_to_adjlist(n,edge)\n",
    "    \n",
    "    visitedVertex = []\n",
    "    stack = [1]  \n",
    "    \n",
    "    while len(stack)!=0:\n",
    "        current = stack.pop(0)\n",
    "        for neighbor in adjlist[current-1]:\n",
    "            if neighbor not in visitedVertex and neighbor not in stack:\n",
    "                stack.append(neighbor)\n",
    "        visitedVertex.append(current)\n",
    "    #print('stack: ',stack)\n",
    "    #print('visit:', visitedVertex)\n",
    "    \n",
    "    return visitedVertex"
   ]
  },
  {
   "cell_type": "code",
   "execution_count": 60,
   "metadata": {},
   "outputs": [
    {
     "data": {
      "text/plain": [
       "[1, 3, 2, 6, 4, 5]"
      ]
     },
     "execution_count": 60,
     "metadata": {},
     "output_type": "execute_result"
    }
   ],
   "source": [
    "solution(n, edge)"
   ]
  },
  {
   "cell_type": "markdown",
   "metadata": {},
   "source": [
    "# BFS"
   ]
  },
  {
   "cell_type": "code",
   "execution_count": 57,
   "metadata": {},
   "outputs": [],
   "source": [
    "def bfs(graph, root):\n",
    "    # -1 : 레벨 끊어주는놈\n",
    "    visited, queue = [root], [root,-1]\n",
    "    depth=1\n",
    "    nodes_in_depth = 0\n",
    "    while queue:\n",
    "        vertex = queue.pop(0)\n",
    "        if vertex == -1:\n",
    "            if len(queue) == 0:\n",
    "                break\n",
    "            queue.append(-1)\n",
    "            depth = depth + 1\n",
    "            nodes_in_depth = 0\n",
    "        else:\n",
    "            nodes_in_depth = nodes_in_depth + 1\n",
    "            if vertex in graph:\n",
    "                for w in graph[vertex]:\n",
    "                    if w not in visited:\n",
    "                        visited.append(w)\n",
    "                        queue.append(w)\n",
    "    return nodes_in_depth\n",
    "\n",
    "def edge_to_adjlist(n,edge):\n",
    "    adjlist = {}\n",
    "    for e in edge:\n",
    "        v = e[0]\n",
    "        w = e[1]\n",
    "        if (v in adjlist.keys()):\n",
    "            adjlist[v].append(w)\n",
    "        else:\n",
    "            adjlist[v] = [w]\n",
    "        w = e[0]\n",
    "    return adjlist    \n"
   ]
  },
  {
   "cell_type": "code",
   "execution_count": null,
   "metadata": {},
   "outputs": [],
   "source": []
  }
 ],
 "metadata": {
  "kernelspec": {
   "display_name": "Python 3",
   "language": "python",
   "name": "python3"
  },
  "language_info": {
   "codemirror_mode": {
    "name": "ipython",
    "version": 3
   },
   "file_extension": ".py",
   "mimetype": "text/x-python",
   "name": "python",
   "nbconvert_exporter": "python",
   "pygments_lexer": "ipython3",
   "version": "3.6.5"
  }
 },
 "nbformat": 4,
 "nbformat_minor": 2
}
