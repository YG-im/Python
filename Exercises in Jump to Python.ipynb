{
 "cells": [
  {
   "cell_type": "markdown",
   "metadata": {},
   "source": [
    "# 점푸투 파이썬 종합문제"
   ]
  },
  {
   "cell_type": "markdown",
   "metadata": {},
   "source": [
    "### 1번 문제 : DashInsert\n",
    "DashInsert 함수는 숫자로 구성된 문자열을 입력받은 뒤, 문자열 내에서 홀수가 연속되면 두 수 사이에 - 를 추가하고, 짝수가 연속되면 \\* 를 추가하는 기능을 갖고 있다. (예, 454 => 454, 4546793 => 454\\*67-9-3)\n",
    "\n",
    "DashInsert 함수를 완성하자.\n",
    "\n",
    "입력 : 화면에서 숫자로 된 문자열을 입력받는다.\n",
    "4546793\n",
    "출력 : \\*, -가 적절히 추가된 문자열을 화면에 출력한다.\n",
    "454\\*67-9-3"
   ]
  },
  {
   "cell_type": "code",
   "execution_count": 27,
   "metadata": {},
   "outputs": [
    {
     "name": "stdout",
     "output_type": "stream",
     "text": [
      "4546793\n"
     ]
    },
    {
     "data": {
      "text/plain": [
       "'4546793'"
      ]
     },
     "execution_count": 27,
     "metadata": {},
     "output_type": "execute_result"
    }
   ],
   "source": [
    "import numpy as np\n",
    "a=4546793\n",
    "a_str = str(a)\n",
    "print(a_str)\n",
    "np.array(range(len(a_str)))\n",
    "int(a_str[1])/2\n",
    "str(a)"
   ]
  },
  {
   "cell_type": "code",
   "execution_count": 39,
   "metadata": {},
   "outputs": [
    {
     "name": "stdout",
     "output_type": "stream",
     "text": [
      "4\n",
      "5\n",
      "4*\n",
      "6\n",
      "7-\n",
      "9-\n",
      "3\n",
      "454*67-9-3\n"
     ]
    }
   ],
   "source": [
    "\n",
    "a_mod = ''\n",
    "for i in range(len(a_str)) :\n",
    "    if i == len(a_str)-1 :\n",
    "        a_mod += a_str[i]\n",
    "        print(a_str[i])\n",
    "        print(a_mod)\n",
    "    elif int(a_str[i])%2 == 0 and int(a_str[i+1])%2 == 0 :\n",
    "        a_mod = a_mod + a_str[i] + '*'\n",
    "        print(a_str[i]+'*')\n",
    "    elif  int(a_str[i])%2 == 1 and int(a_str[i+1])%2 == 1 :\n",
    "        a_mod = a_mod + a_str[i] + '-'\n",
    "        print(a_str[i]+'-')\n",
    "    else :\n",
    "        a_mod = a_mod + a_str[i]\n",
    "        print(a_str[i])"
   ]
  },
  {
   "cell_type": "code",
   "execution_count": 43,
   "metadata": {},
   "outputs": [],
   "source": [
    "# 정답.\n",
    "def DashInsert(a):\n",
    "    a_str = str(a)   # 숫자로 받은 값을 indexing을 위해서 string으로 변환.\n",
    "    a_mod = ''       # 비어있는 string.\n",
    "    for i in range(len(a_str)) : # a의 값들을 하나씩 불러낸다.\n",
    "        if i == len(a_str)-1 :   # a의 마지막 값까지 오면 \\*도 -도 안붙일 것이기때문에 기대로 끝.\n",
    "            a_mod += a_str[i]    # a_mod에 추가\n",
    "        elif int(a_str[i])%2 == 0 and int(a_str[i+1])%2 == 0 : # a_str[i]과 그 다음 것이 짝수인지 체크.\n",
    "            a_mod = a_mod + a_str[i] + '*'                     # 그렇다면 \\*붙이기\n",
    "        elif int(a_str[i])%2 == 1 and int(a_str[i+1])%2 == 1 : # a_str[i]과 그 다음 것이 홀수인지 체크.\n",
    "            a_mod = a_mod + a_str[i] + '-'                     # 그렇다면 -붙이기\n",
    "        else :\n",
    "            a_mod = a_mod + a_str[i]                           # 나머지 경우엔 그냥 붙여넣기\n",
    "    return a_mod   #a_mod출력"
   ]
  },
  {
   "cell_type": "code",
   "execution_count": 44,
   "metadata": {},
   "outputs": [
    {
     "data": {
      "text/plain": [
       "'454*67-9-3'"
      ]
     },
     "execution_count": 44,
     "metadata": {},
     "output_type": "execute_result"
    }
   ],
   "source": [
    "DashInsert(4546793)"
   ]
  },
  {
   "cell_type": "code",
   "execution_count": 46,
   "metadata": {},
   "outputs": [
    {
     "name": "stdout",
     "output_type": "stream",
     "text": [
      "['4', '5', '4', '*', '6', '7', '-', '9', '-', '3']\n",
      "454*67-9-3\n"
     ]
    }
   ],
   "source": [
    "# 점프 투 파이썬 해설\n",
    "data = \"4546793\"\n",
    "\n",
    "numbers = list(map(int, data))  # 숫자 문자열을 숫자 리스트로 변경\n",
    "result = []\n",
    "\n",
    "for i, num in enumerate(numbers):\n",
    "    result.append(str(num))\n",
    "    if i < len(numbers)-1:  # 다음수가 있다면\n",
    "        is_odd = num % 2 == 1  # 현재수가 홀수\n",
    "        is_next_odd = numbers[i+1] % 2 == 1  # 다음수가 홀수\n",
    "        if is_odd and is_next_odd: # 연속 홀수\n",
    "            result.append(\"-\")\n",
    "        elif not is_odd and not is_next_odd: # 연속 짝수\n",
    "            result.append(\"*\")\n",
    "\n",
    "print(result)\n",
    "print(\"\".join(result))"
   ]
  },
  {
   "cell_type": "markdown",
   "metadata": {},
   "source": [
    "### 2번 문제 : 문자열 압축하기\n",
    "문자열을 입력 받아 같은 문자가 연속적으로 반복되는 경우에 그 반복 횟수를 표시하여 문자열을 압축하여 표시해 보자.\n",
    "\n",
    "입력 예시: aaabbcccccca\n",
    "\n",
    "출력 예시: a3b2c6a1"
   ]
  },
  {
   "cell_type": "code",
   "execution_count": 330,
   "metadata": {},
   "outputs": [],
   "source": [
    "# string을 list로 변환하기\n",
    "def str_to_ls(string):\n",
    "    Input_list = []\n",
    "    for i in string:\n",
    "        Input_list.append(i)\n",
    "    return Input_list\n"
   ]
  },
  {
   "cell_type": "code",
   "execution_count": 262,
   "metadata": {},
   "outputs": [
    {
     "data": {
      "text/plain": [
       "'a3b2c8a5b1'"
      ]
     },
     "execution_count": 262,
     "metadata": {},
     "output_type": "execute_result"
    }
   ],
   "source": [
    "input_str = 'aaabbccccccccaaaaab'  # 입력\n",
    "# string을 list로 변환하기\n",
    "input_list = str_to_ls(input_str)\n",
    "# 압축하기\n",
    "result = []\n",
    "count = 1\n",
    "for i in range(len(input_list)):\n",
    "    if i == len(input_list)-1:   #마지막 숫자에 도달하면\n",
    "        result.append(input_list[i]) #마지막 알파벳 추가\n",
    "        result.append(str(count))  #count 추가\n",
    "        break\n",
    "    elif input_list[i] == input_list[i+1]: # i번째 숫자와 다음 숫자가 같을 시 count만 올리기.\n",
    "        count += 1\n",
    "    else:\n",
    "        result.append(input_list[i])   # i번째 숫자와 다음 숫자가 다를 시 숫자 세던 것 멈추고 result에 카운트한 결과들 추가.\n",
    "        result.append(str(count))\n",
    "        count = 1   # count 리셋\n",
    "    \n",
    "''.join(result)"
   ]
  },
  {
   "cell_type": "code",
   "execution_count": null,
   "metadata": {},
   "outputs": [],
   "source": [
    "# 정답\n",
    "def compress_string(s):\n",
    "    _c = \"\"\n",
    "    cnt = 0\n",
    "    result = \"\"\n",
    "    for c in s:\n",
    "        if c!=_c:\n",
    "            _c = c\n",
    "            if cnt: result += str(cnt)\n",
    "            result += c\n",
    "            cnt = 1\n",
    "        else:\n",
    "            cnt +=1\n",
    "    if cnt: result += str(cnt)\n",
    "    return result\n",
    "\n",
    "print (compress_string(\"aaabbcccccca\")) #a3b2c6a1 출력"
   ]
  },
  {
   "cell_type": "markdown",
   "metadata": {},
   "source": [
    "### 3번 문제 : Duplicate Numbers\n",
    "0~9까지의 문자로 된 숫자를 입력받았을 때, 이 입력값이 0~9까지의 모든 숫자가 각각 한 번씩만 사용된 것인지 확인하는 함수를 작성해 보자.\n",
    "\n",
    "예시: 입력---------------출력\n",
    "\n",
    "    0123456789   true\n",
    "\n",
    "    01234        false\n",
    "\n",
    "    01234567890  false\n",
    "    \n",
    "    6789012345   true\n",
    "    \n",
    "    012322456789 false\n",
    "\n",
    "         "
   ]
  },
  {
   "cell_type": "code",
   "execution_count": 333,
   "metadata": {},
   "outputs": [],
   "source": [
    "def duplicate_num(input_str):\n",
    "    #input에는 string을 넣으세요.\n",
    "    input_ls = str_to_ls(input_str)   #입력값을 list로 만들어준다.\n",
    "    input_ls.sort()                   #입력값을 sorting 시켜준다. 순서대로 만들어준다.\n",
    "    z_to_n = ['0', '1', '2', '3', '4', '5', '6', '7', '8', '9']  #비교군 데이터 입력\n",
    "    i = 0\n",
    "    while i <= len(z_to_n):             \n",
    "        if len(input_ls) != len(z_to_n):  # 순서대로 만들었는대도 두 list의 길이가 다르면 일단 다른것이니 false 출력\n",
    "            return False\n",
    "            break\n",
    "        elif i == len(z_to_n): # i를 차곡차곡 올려서 10개 성분에대한 검토가 끝나는 지점 체크\n",
    "            return True        # 루프가 무사히 끝났다면 z_to_n가 완전히 같다는 것이니 True출력.\n",
    "            break             # 루프를 끝낸다.\n",
    "        elif input_ls[i] == z_to_n[i]: # 첫번째 if 조건에서 길이가 같았으면 성분들도 같은지 테스트\n",
    "            i += 1                     # 같다는게 확인 될때마다 i를 1씩 높여주며 다음 성분을 비교한다.\n",
    "        else:\n",
    "            return input_ls[i] == z_to_n[i] # 성분들이 같지 않다면 false를 출력하고 루프 멈춤.\n",
    "            break\n",
    "    "
   ]
  },
  {
   "cell_type": "code",
   "execution_count": 338,
   "metadata": {},
   "outputs": [
    {
     "name": "stdout",
     "output_type": "stream",
     "text": [
      "True\n",
      "True\n",
      "True\n",
      "True\n",
      "True\n"
     ]
    }
   ],
   "source": [
    "test = ['0123456789', '01234', '01234567890', '6789012345', '012322456789']   \n",
    "test_result = [True, False, False, True, False]\n",
    "\n",
    "for i in range(len(test)):\n",
    "    print(duplicate_num(test[i]) == test_result[i])"
   ]
  },
  {
   "cell_type": "code",
   "execution_count": 339,
   "metadata": {},
   "outputs": [
    {
     "name": "stdout",
     "output_type": "stream",
     "text": [
      "True\n",
      "False\n",
      "False\n",
      "True\n",
      "False\n"
     ]
    }
   ],
   "source": [
    "# 정답 \n",
    "def chkDupNum(s):\n",
    "    result = [ ]\n",
    "    for num in s:\n",
    "        if num not in result: # 오.. 이 명령어 재밌네. 하나씩 넣어보면서 있나없나 체크하고 있으면 false출력. 없으면 차곡차곡 쌓아간다.\n",
    "            result.append(num) \n",
    "        else:\n",
    "            return False\n",
    "    return len(result) == 10  # 이 명령어의 단점은 0~9를 체크하는 것에는 도움이 되나 두자리수부터는 코드 응용이 안된다.\n",
    "\n",
    "print(chkDupNum(\"0123456789\")) # True 리턴\n",
    "print(chkDupNum(\"01234\")) # False 리턴\n",
    "print(chkDupNum(\"01234567890\")) # False 리턴\n",
    "print(chkDupNum(\"6789012345\")) # True 리턴\n",
    "print(chkDupNum(\"012322456789\")) # False 리턴"
   ]
  },
  {
   "cell_type": "markdown",
   "metadata": {},
   "source": [
    "### 4번 문제 : 모스 부호 해독\n",
    "\n",
    "문자열 형식으로 입력받은 모스 부호(dot: . dash:-)를 해독하여 영어 문장으로 출력하는 프로그램을 작성해 보자.\n",
    "\n",
    "글자와 글자 사이는 공백 하나, 단어와 단어 사이는 공백 두개로 구분한다.\n",
    "예를 들어 다음 모스부호는 \"HE SLEEPS EARLY\"로 해석해야 한다.\n",
    "\n",
    "\".... .  ... .-.. . . .--. ...  . .- .-. .-.. -.--\"\n",
    "모스부호 규칙 표\n",
    "\n",
    "문자   부호\n",
    "\n",
    "A\t.-\t\n",
    "B\t-...\t\n",
    "C\t-.-.\n",
    "D\t-..\t\n",
    "E\t.\t\n",
    "F\t..-.\n",
    "\n",
    "G\t--.\t\n",
    "H\t....\n",
    "I\t..\t\n",
    "J\t.---\n",
    "K\t-.-\t\n",
    "L\t.-..\n",
    "M\t--\t\n",
    "N\t-.\n",
    "\n",
    "O\t---\n",
    "P\t.--.\n",
    "Q\t--.-\n",
    "R\t.-.\n",
    "S\t...\n",
    "T\t-\n",
    "\n",
    "U\t..-\n",
    "V\t...-\n",
    "W\t.--\n",
    "X\t-..-\n",
    "Y\t-.--\n",
    "Z\t--.."
   ]
  },
  {
   "cell_type": "code",
   "execution_count": 369,
   "metadata": {},
   "outputs": [
    {
     "data": {
      "text/plain": [
       "'.... .   .-- .. .-.. .-..   -... . -.-. --- -- .   .... . .-. . '"
      ]
     },
     "execution_count": 369,
     "metadata": {},
     "output_type": "execute_result"
    }
   ],
   "source": [
    "# 알파벳을 모스부호로 만드는 함수\n",
    "\n",
    "def moss_incode(string):\n",
    "\n",
    "    input_str_up = string.upper() # 인코딩하려는 스트링을 모두 대문자로 바꾸기.\n",
    "    \n",
    "    #모스부호 데이터 전처리해서 딕셔너리로 만들기\n",
    "    moss1 = 'A .- B -... C -.-. D -.. E . F ..-. G --. H .... I .. J .--- K -.- L .-.. M -- N -. O --- P .--. '\n",
    "    moss2 = 'Q --.- R .-. S ... T - U ..- V ...- W .-- X -..- Y -.-- Z --..' #모스부호들 정보 가져오기\n",
    "    moss = moss1 + moss2\n",
    "    moss_list = moss.split(\" \")\n",
    "    key = []\n",
    "    value = []\n",
    "    for i in range(len(moss_list)):\n",
    "        if i%2 == 0:\n",
    "            key.append(moss_list[i]) #moss에서 짝수면 키로 홀수면 값의 집합으로.\n",
    "        else:\n",
    "            value.append(moss_list[i])\n",
    "\n",
    "    moss_dic = dict(zip(key, value)) #분류한것들 딕셔너리로 넣기.\n",
    "\n",
    "    result = ''\n",
    "    for key in input_str_up:  \n",
    "        if key == \" \":   # 띄어쓰기는 두개띄어쓰기로 변형\n",
    "            result += '  '\n",
    "        else:\n",
    "            result = result + moss_dic[str(key)] + ' '  #알파벳은 모스부호로 바꾸고 그 뒤에 띄어쓰기 하기\n",
    "        \n",
    "    return result\n",
    "    \n",
    "moss_incode('He will become here')\n",
    "\n",
    "\n"
   ]
  },
  {
   "cell_type": "code",
   "execution_count": 472,
   "metadata": {},
   "outputs": [],
   "source": [
    "\n",
    "#모스부호 처리하는 클래스\n",
    "\n",
    "class Moss:\n",
    "\n",
    "    #모스부호 데이터 전처리해서 딕셔너리로 만들기\n",
    "\n",
    "    def dic_moss(self):\n",
    "        moss1 = 'A .- B -... C -.-. D -.. E . F ..-. G --. H .... I .. J .--- K -.- L .-.. M -- N -. O --- P .--. '\n",
    "        moss2 = 'Q --.- R .-. S ... T - U ..- V ...- W .-- X -..- Y -.-- Z --..' #모스부호들 정보 가져오기\n",
    "        moss = moss1 + moss2\n",
    "        moss_list = moss.split(\" \")\n",
    "        key = []\n",
    "        value = []\n",
    "        for i in range(len(moss_list)):\n",
    "            if i%2 == 0:\n",
    "                key.append(moss_list[i]) #moss에서 짝수면 키로 홀수면 값의 집합으로.\n",
    "            else:\n",
    "                value.append(moss_list[i])\n",
    "        return {'incode' : dict(zip(key, value)), 'decode' : dict(zip(value, key))} #분류한것들 딕셔너리로 넣기.\n",
    "\n",
    "    def Incode(self, string):\n",
    "        \n",
    "        input_str_up = string.upper() # 인코딩하려는 스트링을 모두 대문자로 바꾸기.\n",
    "        result = ''\n",
    "    \n",
    "        for key in input_str_up:  \n",
    "            if key == \" \":   # 띄어쓰기는 두개띄어쓰기로 변형\n",
    "                result += '  '\n",
    "            else:\n",
    "                result = result + self.dic_moss()['incode'][str(key)] + ' '  #알파벳은 모스부호로 바꾸고 그 뒤에 띄어쓰기 하기\n",
    "        \n",
    "        return result\n",
    "    \n",
    "    def Decode(self, string):\n",
    "        \n",
    "        input_str_split = string.split('  ')\n",
    "        result = ''\n",
    "    \n",
    "        for i in range(len(input_str_split)):\n",
    "            input_str_split2 = input_str_split[i].split(' ')\n",
    "            for key in input_str_split2:  \n",
    "                if key == '':\n",
    "                    result += ' '\n",
    "                elif key in self.dic_moss()['decode']:\n",
    "                    result = result + self.dic_moss()['decode'][str(key)]  #알파벳은 모스부호로 바꾸고 그 뒤에 띄어쓰기 하기\n",
    "                else:\n",
    "                    result = result + \"'error'\" + ' '\n",
    "        return result"
   ]
  },
  {
   "cell_type": "code",
   "execution_count": 477,
   "metadata": {},
   "outputs": [
    {
     "data": {
      "text/plain": [
       "'.... .   .-- .. .-.. .-..   -... . -.-. --- -- .   .... . .-. . '"
      ]
     },
     "execution_count": 477,
     "metadata": {},
     "output_type": "execute_result"
    }
   ],
   "source": [
    "#체크\n",
    "moss = Moss()\n",
    "\n",
    "#moss.dic_moss()['decode']\n",
    "moss.Incode('He will become here')"
   ]
  },
  {
   "cell_type": "code",
   "execution_count": 478,
   "metadata": {},
   "outputs": [
    {
     "data": {
      "text/plain": [
       "'HE WILL BECOME HERE '"
      ]
     },
     "execution_count": 478,
     "metadata": {},
     "output_type": "execute_result"
    }
   ],
   "source": [
    "#체크\n",
    "moss.Decode(_)"
   ]
  },
  {
   "cell_type": "code",
   "execution_count": null,
   "metadata": {},
   "outputs": [],
   "source": []
  }
 ],
 "metadata": {
  "kernelspec": {
   "display_name": "Python 3",
   "language": "python",
   "name": "python3"
  },
  "language_info": {
   "codemirror_mode": {
    "name": "ipython",
    "version": 3
   },
   "file_extension": ".py",
   "mimetype": "text/x-python",
   "name": "python",
   "nbconvert_exporter": "python",
   "pygments_lexer": "ipython3",
   "version": "3.6.8"
  }
 },
 "nbformat": 4,
 "nbformat_minor": 2
}
