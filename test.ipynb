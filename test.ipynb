{
 "cells": [
  {
   "cell_type": "markdown",
   "metadata": {},
   "source": [
    "# 1번"
   ]
  },
  {
   "cell_type": "code",
   "execution_count": 314,
   "metadata": {},
   "outputs": [],
   "source": [
    "a=[1,2,3]; rotate=[1,2,3,4] #[1,0,2,1]\n",
    "#a=[1,2,4,3]; rotate=[0,2] #[2,0]\n",
    "#a = [1,2,4,3]; rotate = [1,3] #[1,3]\n",
    "#a = [1, 2, 4, 3, 5]; rotate = [6, 9, 12] #[3,0,2]"
   ]
  },
  {
   "cell_type": "code",
   "execution_count": 315,
   "metadata": {},
   "outputs": [
    {
     "data": {
      "text/plain": [
       "[1, 0, 2, 1]"
      ]
     },
     "execution_count": 315,
     "metadata": {},
     "output_type": "execute_result"
    }
   ],
   "source": [
    "# 정답 제출\n",
    "ls = []\n",
    "max_a = a.index(max(a))\n",
    "for rot in rotate:\n",
    "    k = rot%len(a)\n",
    "    if k<=max_a:\n",
    "        ls.append(max_a - k)\n",
    "    else:\n",
    "        ls.append(len(a) +max_a- k)\n",
    "ls        "
   ]
  },
  {
   "cell_type": "code",
   "execution_count": 317,
   "metadata": {},
   "outputs": [
    {
     "data": {
      "text/plain": [
       "[1, 0, 2, 1]"
      ]
     },
     "execution_count": 317,
     "metadata": {},
     "output_type": "execute_result"
    }
   ],
   "source": [
    "# 다른 솔루션 \n",
    "ls = []\n",
    "max_a = a.index(max(a))\n",
    "for rot in rotate:\n",
    "    q = rot%len(a) # 몫\n",
    "    a2 = a*2 # 두배로 뻥튀기\n",
    "    ls.append((a2[q:]+a2[:q]).index(max(a))) # 잘라서\n",
    "ls"
   ]
  },
  {
   "cell_type": "markdown",
   "metadata": {},
   "source": [
    "# 2번"
   ]
  },
  {
   "cell_type": "code",
   "execution_count": 151,
   "metadata": {},
   "outputs": [],
   "source": [
    "issuePriorities= [1, 3, 7, 3] # [1,2,3,2]"
   ]
  },
  {
   "cell_type": "code",
   "execution_count": 221,
   "metadata": {
    "scrolled": true
   },
   "outputs": [
    {
     "name": "stdout",
     "output_type": "stream",
     "text": [
      "[[0, 1], [1, 3], [2, 7], [3, 3]]\n",
      "[[0, 1], [1, 3], [3, 3], [2, 7]]\n"
     ]
    },
    {
     "data": {
      "text/plain": [
       "[1, 2, 3, 2]"
      ]
     },
     "execution_count": 221,
     "metadata": {},
     "output_type": "execute_result"
    }
   ],
   "source": [
    "# 내 답\n",
    "ls = []\n",
    "ls_zip = [[i, issuePriorities[i]] for i in range(len(issuePriorities))]\n",
    "ls_sort = sorted(ls_zip, key = lambda x: x[1])\n",
    "print(ls_zip)\n",
    "print(ls_sort)\n",
    "k = 1\n",
    "for i in range(len(ls_sort)):\n",
    "    ls.append([ls_sort[i][0],k])\n",
    "    if i+1<len(ls_sort):\n",
    "        if ls_sort[i][1] != ls_sort[i+1][1]:\n",
    "            k+=1\n",
    "    \n",
    "[sol[1] for sol in sorted(ls, key = lambda x: x[0])]"
   ]
  },
  {
   "cell_type": "code",
   "execution_count": 145,
   "metadata": {},
   "outputs": [],
   "source": [
    "# 또 다른 답\n",
    "'''\n",
    "배열 두개를 해서 \n",
    "1 3 7 3 , [0,0,0,0]\n",
    "100 3 7 3 , [1,0,0,0]\n",
    "\n",
    "100 3 7 3 , [1,0,0,0]\n",
    "100 100 7 3 , [1, 2,0,]\n",
    "\n",
    "'''\n",
    "def reassignedPriorities(issuePriorities):\n",
    "    length = len(issuePriorities)\n",
    "    li = issuePriorities.copy()\n",
    "\n",
    "    # remains = [100] * length\n",
    "    remains = li.copy()\n",
    "    new_priority = [0] * length\n",
    "    order = 1\n",
    "    for i in range(length):\n",
    "        # smallest_idx = remains.index(min(remains))\n",
    "        smallest_one = min(remains)\n",
    "        # do it iteratively\n",
    "        for j in range(length):\n",
    "            if remains[j] == smallest_one:\n",
    "                new_priority[j] = order\n",
    "                remains[j] = 100\n",
    "\n",
    "        order = order + 1\n",
    "        # print(new_priority)\n",
    "        # print(remains)\n",
    "        if min(remains) == 100:\n",
    "            break"
   ]
  },
  {
   "cell_type": "markdown",
   "metadata": {},
   "source": [
    "# 3번"
   ]
  },
  {
   "cell_type": "code",
   "execution_count": 273,
   "metadata": {},
   "outputs": [],
   "source": [
    "# num = 123512\n",
    "#num = 909\n",
    "num = 11110# 자체가 최소\n",
    "#num = 1111"
   ]
  },
  {
   "cell_type": "code",
   "execution_count": 283,
   "metadata": {},
   "outputs": [],
   "source": [
    "def min_Max_value(num,minMax=True): # minMax=True : max, False: min\n",
    "    if minMax:\n",
    "        str_minMax = '9'\n",
    "        str_minMax2 = '9'\n",
    "    else:\n",
    "        str_minMax = '1'\n",
    "        str_minMax2 = '0'\n",
    "        \n",
    "    str_num = str(num)\n",
    "\n",
    "    if str_num[0] == str_minMax:\n",
    "        for i in range(1,len(str_num)):\n",
    "            if str_num[i] == str_num[0]:\n",
    "                continue\n",
    "            else: #str_num[i] != str_num[0]\n",
    "                min_num = str_num.replace(str_num[i],str_minMax2)\n",
    "                return int(min_num)\n",
    "    else:\n",
    "        min_num = str_num.replace(str_num[0],str_minMax)\n",
    "        return int(min_num)\n",
    "    \n",
    "    return num"
   ]
  },
  {
   "cell_type": "code",
   "execution_count": 287,
   "metadata": {},
   "outputs": [
    {
     "data": {
      "text/plain": [
       "88880"
      ]
     },
     "execution_count": 287,
     "metadata": {},
     "output_type": "execute_result"
    }
   ],
   "source": [
    "min_Max_value(num,minMax=True) - min_Max_value(num,minMax=False)"
   ]
  },
  {
   "cell_type": "code",
   "execution_count": null,
   "metadata": {},
   "outputs": [],
   "source": [
    "# 다른 솔루션\n",
    "def find_max_recon(li):\n",
    "    # for fast searching\n",
    "    len_li = len(li)\n",
    "    max_val = ['9'] * len_li\n",
    "    if (li == max_val):\n",
    "        return max_val\n",
    "\n",
    "    max_val = li.copy()\n",
    "    for i in range(len_li):\n",
    "        if max_val[i] == '9':\n",
    "            continue\n",
    "        else :\n",
    "            max_val = ['9' if x == max_val[i] else x for x in max_val]\n",
    "            break\n",
    "    return max_val\n",
    "\n",
    "def find_min_recon(li):\n",
    "    # for fast searching\n",
    "    len_li = len(li)\n",
    "    min_val = ['0'] * len_li\n",
    "    min_val[0] = '1'\n",
    "    if (li == min_val):\n",
    "        return min_val\n",
    "\n",
    "    min_val = li.copy()\n",
    "    if (min_val[0] != '1') :\n",
    "        min_val = ['1' if x == min_val[0] else x for x in min_val]\n",
    "    else:\n",
    "        # have to change zero\n",
    "        for i in range(1,len_li):\n",
    "            if min_val[i] == 0 or min_val[i] == 1:\n",
    "                continue\n",
    "            else :\n",
    "                min_val = ['0' if x == min_val[i] else x for x in min_val]\n",
    "                break\n",
    "    return min_val\n",
    "\n",
    "def solution(int_num):\n",
    "    list_num = list(str(int_num))\n",
    "    max = find_max_recon(list_num)\n",
    "    print(max)\n",
    "    min = find_min_recon(list_num)\n",
    "    print(min)\n",
    "    return int(''.join(max)) - int(''.join(min))"
   ]
  }
 ],
 "metadata": {
  "kernelspec": {
   "display_name": "Python 3",
   "language": "python",
   "name": "python3"
  },
  "language_info": {
   "codemirror_mode": {
    "name": "ipython",
    "version": 3
   },
   "file_extension": ".py",
   "mimetype": "text/x-python",
   "name": "python",
   "nbconvert_exporter": "python",
   "pygments_lexer": "ipython3",
   "version": "3.6.5"
  }
 },
 "nbformat": 4,
 "nbformat_minor": 2
}
