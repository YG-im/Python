{
 "cells": [
  {
   "cell_type": "markdown",
   "metadata": {},
   "source": [
    "# 베스트 앨범"
   ]
  },
  {
   "cell_type": "code",
   "execution_count": 57,
   "metadata": {},
   "outputs": [],
   "source": [
    "genres = [\"classic\", \"pop\", \"classic\", \"classic\", \"pop\",\"song\",'song','song','song']; \n",
    "plays= [500, 600, 150, 800, 2500,100,300,500,1000]\n"
   ]
  },
  {
   "cell_type": "code",
   "execution_count": 58,
   "metadata": {},
   "outputs": [
    {
     "name": "stdout",
     "output_type": "stream",
     "text": [
      "{'classic': [], 'pop': [], 'song': []}\n",
      "{'classic': [(0, 500), (2, 150), (3, 800)], 'pop': [(1, 600), (4, 2500)], 'song': [(5, 100), (6, 300), (7, 500), (8, 1000)]}\n"
     ]
    }
   ],
   "source": [
    "g_dic = {genre : [] for genre in genres}\n",
    "print(g_dic)\n",
    "for i, g, c in zip(range(len(genres)), genres, plays):\n",
    "    g_dic[g].append((i,c))\n",
    "print(g_dic)"
   ]
  },
  {
   "cell_type": "code",
   "execution_count": 60,
   "metadata": {},
   "outputs": [
    {
     "data": {
      "text/plain": [
       "1900"
      ]
     },
     "execution_count": 60,
     "metadata": {},
     "output_type": "execute_result"
    }
   ],
   "source": [
    "sum([ c[1] for c in g_dic['song']])"
   ]
  },
  {
   "cell_type": "code",
   "execution_count": 63,
   "metadata": {},
   "outputs": [
    {
     "name": "stdout",
     "output_type": "stream",
     "text": [
      "dict_keys(['classic', 'pop', 'song'])\n",
      "['pop', 'song', 'classic']\n"
     ]
    }
   ],
   "source": [
    "print(g_dic.keys())\n",
    "g_sorted = sorted(g_dic.keys(),key= lambda x: sum([ c[1] for c in g_dic[x]]),reverse=True)\n",
    "print(g_sorted)"
   ]
  },
  {
   "cell_type": "code",
   "execution_count": 70,
   "metadata": {},
   "outputs": [
    {
     "name": "stdout",
     "output_type": "stream",
     "text": [
      "[(5, 100), (6, 300), (7, 500), (8, 1000)]\n",
      "[(8, 1000), (7, 500), (6, 300), (5, 100)]\n",
      "[8, 7, 6, 5]\n"
     ]
    },
    {
     "data": {
      "text/plain": [
       "[8, 7]"
      ]
     },
     "execution_count": 70,
     "metadata": {},
     "output_type": "execute_result"
    }
   ],
   "source": [
    "print(g_dic['song'])\n",
    "print(sorted(g_dic[g], key = lambda x: x[1], reverse=True))\n",
    "temp = [i for i, c in sorted(g_dic[g], key = lambda x: x[1], reverse=True)]\n",
    "print(temp)\n",
    "temp[:min(len(temp),2)]"
   ]
  },
  {
   "cell_type": "code",
   "execution_count": 71,
   "metadata": {},
   "outputs": [
    {
     "data": {
      "text/plain": [
       "[4, 1, 8, 7, 3, 0]"
      ]
     },
     "execution_count": 71,
     "metadata": {},
     "output_type": "execute_result"
    }
   ],
   "source": [
    "answer = []\n",
    "for g in g_sorted:\n",
    "    temp = [i for i, c in sorted(g_dic[g], key = lambda x: x[1], reverse=True)]\n",
    "    answer += temp[:min(len(temp),2)]\n",
    "    \n",
    "answer    \n",
    "        "
   ]
  },
  {
   "cell_type": "code",
   "execution_count": 72,
   "metadata": {},
   "outputs": [],
   "source": [
    "# 정리\n",
    "def solution(genres, plays):\n",
    "    answer = []\n",
    "    g_dic = {genre : [] for genre in genres}\n",
    "    for i, g, c in zip(range(len(genres)), genres, plays):\n",
    "        g_dic[g].append((i,c))\n",
    "    g_sorted = sorted(g_dic.keys(),key= lambda x: sum([ c[1] for c in g_dic[x]]),reverse=True)    \n",
    "    temp = [i for i, c in sorted(g_dic[g], key = lambda x: x[1], reverse=True)]\n",
    "    temp[:min(len(temp),2)]\n",
    "\n",
    "    for g in g_sorted:\n",
    "        temp = [i for i, c in sorted(g_dic[g], key = lambda x: x[1], reverse=True)]\n",
    "        answer += temp[:min(len(temp),2)]\n",
    "    return answer    "
   ]
  },
  {
   "cell_type": "code",
   "execution_count": 73,
   "metadata": {},
   "outputs": [
    {
     "data": {
      "text/plain": [
       "[4, 1, 8, 7, 3, 0]"
      ]
     },
     "execution_count": 73,
     "metadata": {},
     "output_type": "execute_result"
    }
   ],
   "source": [
    "solution(genres, plays)"
   ]
  },
  {
   "cell_type": "markdown",
   "metadata": {},
   "source": [
    "### 베스트 앨범 문제 좋은 답 분석"
   ]
  },
  {
   "cell_type": "code",
   "execution_count": 2,
   "metadata": {},
   "outputs": [
    {
     "data": {
      "text/plain": [
       "{'song': [], 'pop': [], 'classic': []}"
      ]
     },
     "execution_count": 2,
     "metadata": {},
     "output_type": "execute_result"
    }
   ],
   "source": [
    "answer = []\n",
    "d = {genre:[] for genre in set(genres)}  # genre로 해서 empty dic 만듦.\n",
    "d"
   ]
  },
  {
   "cell_type": "code",
   "execution_count": 4,
   "metadata": {},
   "outputs": [
    {
     "data": {
      "text/plain": [
       "[('classic', 500, 0),\n",
       " ('pop', 600, 1),\n",
       " ('classic', 150, 2),\n",
       " ('classic', 800, 3),\n",
       " ('pop', 2500, 4),\n",
       " ('song', 100, 5),\n",
       " ('song', 300, 6),\n",
       " ('song', 50, 7),\n",
       " ('song', 1000, 8)]"
      ]
     },
     "execution_count": 4,
     "metadata": {},
     "output_type": "execute_result"
    }
   ],
   "source": [
    "list(zip(genres, plays, range(len(plays)))) #genre, view_count, id"
   ]
  },
  {
   "cell_type": "code",
   "execution_count": 5,
   "metadata": {},
   "outputs": [],
   "source": [
    "for e in zip(genres, plays, range(len(plays))):\n",
    "    d[e[0]].append([e[1] , e[2]]) # 장르에 따른 view_count and id를 dic형태로\n",
    "    #append형태로 넣으니, 그냥 들어감.\n",
    "    # id로 고유번호 매기고 조회수 넣으니 구분 가능."
   ]
  },
  {
   "cell_type": "code",
   "execution_count": 6,
   "metadata": {},
   "outputs": [
    {
     "data": {
      "text/plain": [
       "{'song': [[100, 5], [300, 6], [50, 7], [1000, 8]],\n",
       " 'pop': [[600, 1], [2500, 4]],\n",
       " 'classic': [[500, 0], [150, 2], [800, 3]]}"
      ]
     },
     "execution_count": 6,
     "metadata": {},
     "output_type": "execute_result"
    }
   ],
   "source": [
    "d"
   ]
  },
  {
   "cell_type": "code",
   "execution_count": 17,
   "metadata": {},
   "outputs": [
    {
     "data": {
      "text/plain": [
       "['pop', 'song', 'classic']"
      ]
     },
     "execution_count": 17,
     "metadata": {},
     "output_type": "execute_result"
    }
   ],
   "source": [
    "genreSort =sorted(list(d.keys()), \\\n",
    "        key= lambda x: sum( map(lambda y: y[0],d[x])), reverse = True)\n",
    "'''\n",
    "- list(d.keys()) : d에서 key만 뽑아서 list로 만듦.\n",
    "- 그 list에 다음 함수를 적용한다.\n",
    "key= lambda x: sum( map(lambda y: y[0],d[x]))\n",
    "x='pop','song','classic'이 들어가겠네.\n",
    "- map(lambda y: y[0],d[genre]) : d[genre]list에서 0번째 성분만 한번에 빼내기.\n",
    "- 그럼 조회수가 나온다.\n",
    "- 그 조회수들을 sum(...)한다.\n",
    "- 그 총 조회수를 기준으로 d.keys()를 sorting한다.\n",
    "'''\n",
    "\n",
    "genreSort"
   ]
  },
  {
   "cell_type": "code",
   "execution_count": 16,
   "metadata": {},
   "outputs": [
    {
     "name": "stdout",
     "output_type": "stream",
     "text": [
      "{'song': [[100, 5], [300, 6], [50, 7], [1000, 8]], 'pop': [[600, 1], [2500, 4]], 'classic': [[500, 0], [150, 2], [800, 3]]}\n"
     ]
    },
    {
     "data": {
      "text/plain": [
       "[100, 300, 50, 1000]"
      ]
     },
     "execution_count": 16,
     "metadata": {},
     "output_type": "execute_result"
    }
   ],
   "source": [
    "#cf)\n",
    "print(d)\n",
    "list(map(lambda y: y[0],d['song']))"
   ]
  },
  {
   "cell_type": "code",
   "execution_count": 23,
   "metadata": {},
   "outputs": [
    {
     "data": {
      "text/plain": [
       "[[800, 3], [500, 0], [150, 2]]"
      ]
     },
     "execution_count": 23,
     "metadata": {},
     "output_type": "execute_result"
    }
   ],
   "source": [
    "sorted(d['classic'],key= lambda x: x[0], reverse = True)"
   ]
  },
  {
   "cell_type": "code",
   "execution_count": 29,
   "metadata": {},
   "outputs": [
    {
     "name": "stdout",
     "output_type": "stream",
     "text": [
      "[3, 0, 2]\n"
     ]
    },
    {
     "data": {
      "text/plain": [
       "[3, 0]"
      ]
     },
     "execution_count": 29,
     "metadata": {},
     "output_type": "execute_result"
    }
   ],
   "source": [
    "# [e[1] for e \\\n",
    "#     in sorted(d['pop'],key= lambda x: (x[0], -x[1]), reverse = True)]\n",
    "'''\n",
    "d['classic'] : [[500, 0], [800, 3], [150, 2]]\n",
    "을 lambda x : x[0] 즉, 조회수 순서로 정렬 : [[800, 3], [500, 0], [150, 2]]\n",
    "그리고 여기서 각각의 e[1] 즉, id를 list로 만든다.\n",
    "'''\n",
    "\n",
    "temp = [e[1] for e \\\n",
    "    in sorted(d['classic'],key= lambda x: x[0], reverse = True)]\n",
    "print(temp)\n",
    "answer = []\n",
    "#answer += temp[:min(len(temp),2)]\n",
    "temp[:min(len(temp),2)] # min(len(temp),2) : len(temp)와 2 중 작은 거 출력.\n",
    "# temp 길이가 1이면 2로 설정하면 오류나기때문.\n",
    "answer += temp[:min(len(temp),2)] # 그것만 answer에 추가.\n",
    "answer"
   ]
  },
  {
   "cell_type": "code",
   "execution_count": 30,
   "metadata": {},
   "outputs": [
    {
     "data": {
      "text/plain": [
       "[4, 1, 8, 6, 3, 0]"
      ]
     },
     "execution_count": 30,
     "metadata": {},
     "output_type": "execute_result"
    }
   ],
   "source": [
    "answer = []\n",
    "for g in genreSort: # 총 조회수가 많은 순서대로\n",
    "    temp = [e[1] for e in sorted(d[g],key= lambda x: (x[0], -x[1]), reverse = True)]\n",
    "    answer += temp[:min(len(temp),2)]\n",
    "answer\n",
    "\n"
   ]
  },
  {
   "cell_type": "markdown",
   "metadata": {},
   "source": [
    "- 아...dic, min, list sum, lambda function, sorted & key 너무 잘 씀."
   ]
  },
  {
   "cell_type": "markdown",
   "metadata": {},
   "source": [
    "# k 번째 수"
   ]
  },
  {
   "cell_type": "code",
   "execution_count": 74,
   "metadata": {},
   "outputs": [],
   "source": [
    "array = [1, 5, 2, 6, 3, 7, 4]\n",
    "commands = [[2, 5, 3], [4, 4, 1], [1, 7, 3]]\n",
    "# [5, 6, 3]"
   ]
  },
  {
   "cell_type": "code",
   "execution_count": 75,
   "metadata": {},
   "outputs": [
    {
     "name": "stdout",
     "output_type": "stream",
     "text": [
      "2 5 3\n",
      "4 4 1\n",
      "1 7 3\n"
     ]
    }
   ],
   "source": [
    "for i,j,k in commands:\n",
    "    print(i,j,k)"
   ]
  },
  {
   "cell_type": "code",
   "execution_count": 81,
   "metadata": {},
   "outputs": [
    {
     "data": {
      "text/plain": [
       "5"
      ]
     },
     "execution_count": 81,
     "metadata": {},
     "output_type": "execute_result"
    }
   ],
   "source": [
    "i=2; j=5; k=3;\n",
    "sorted(array[i-1:j])[k-1]"
   ]
  },
  {
   "cell_type": "code",
   "execution_count": 82,
   "metadata": {},
   "outputs": [
    {
     "data": {
      "text/plain": [
       "[5, 6, 3]"
      ]
     },
     "execution_count": 82,
     "metadata": {},
     "output_type": "execute_result"
    }
   ],
   "source": [
    "[sorted(array[i-1:j])[k-1] for i,j,k in commands]"
   ]
  },
  {
   "cell_type": "markdown",
   "metadata": {},
   "source": [
    "# 가장 큰수"
   ]
  },
  {
   "cell_type": "code",
   "execution_count": 165,
   "metadata": {},
   "outputs": [],
   "source": [
    "numbers = [3, 30, 34, 5, 9]\n",
    "#기댓값 \"9534330\""
   ]
  },
  {
   "cell_type": "code",
   "execution_count": 167,
   "metadata": {},
   "outputs": [],
   "source": [
    "a = ''\n",
    "numbers = list(map(str, numbers)) # numbers를 string으로.."
   ]
  },
  {
   "cell_type": "code",
   "execution_count": 168,
   "metadata": {},
   "outputs": [
    {
     "name": "stdout",
     "output_type": "stream",
     "text": [
      "['9', '5', '34', '30', '3']\n",
      "['99', '55', '3434', '33', '3030']\n",
      "['999', '555', '343434', '333', '303030']\n",
      "['9999', '5555', '34343434', '3333', '30303030']\n"
     ]
    }
   ],
   "source": [
    "# string은 알아서 숫자 크기, 다음 숫자까지 고려해서 정렬해주네..\n",
    "for n in range(1,len(numbers)):\n",
    "    print(sorted([numbers[0]*n, numbers[1]*n, numbers[2]*n, numbers[3]*n, numbers[4]*n], reverse=True))"
   ]
  },
  {
   "cell_type": "code",
   "execution_count": 171,
   "metadata": {},
   "outputs": [
    {
     "data": {
      "text/plain": [
       "'9534303'"
      ]
     },
     "execution_count": 171,
     "metadata": {},
     "output_type": "execute_result"
    }
   ],
   "source": [
    "ls = sorted(numbers, reverse = True)\n",
    "a.join(ls)"
   ]
  },
  {
   "cell_type": "code",
   "execution_count": 172,
   "metadata": {},
   "outputs": [
    {
     "data": {
      "text/plain": [
       "'9534330'"
      ]
     },
     "execution_count": 172,
     "metadata": {},
     "output_type": "execute_result"
    }
   ],
   "source": [
    "a.join(sorted(list(map(str, numbers)),key=lambda x: x*3, reverse = True))"
   ]
  },
  {
   "cell_type": "code",
   "execution_count": null,
   "metadata": {},
   "outputs": [],
   "source": [
    "str(int(''.join(sorted(list(map(str, numbers)), key=lambda x: x*3, reverse=True))))\n",
    "# str(int(...)) 이거해주는게 중요하나?"
   ]
  },
  {
   "cell_type": "code",
   "execution_count": 142,
   "metadata": {},
   "outputs": [
    {
     "data": {
      "text/plain": [
       "'9534330'"
      ]
     },
     "execution_count": 142,
     "metadata": {},
     "output_type": "execute_result"
    }
   ],
   "source": [
    "numbers = list(map(str, numbers))\n",
    "numbers.sort(key=lambda x: x*3, reverse=True)\n",
    "str(int(''.join(numbers)))"
   ]
  },
  {
   "cell_type": "markdown",
   "metadata": {},
   "source": [
    "# H index"
   ]
  },
  {
   "cell_type": "code",
   "execution_count": 184,
   "metadata": {},
   "outputs": [],
   "source": [
    "a = [3, 0,4,4, 6, 1, 5,7]"
   ]
  },
  {
   "cell_type": "code",
   "execution_count": 182,
   "metadata": {},
   "outputs": [
    {
     "data": {
      "text/plain": [
       "4"
      ]
     },
     "execution_count": 182,
     "metadata": {},
     "output_type": "execute_result"
    }
   ],
   "source": [
    "a.sort(reverse=True)\n",
    "h = 0\n",
    "ls = []\n",
    "for i in a:\n",
    "    if len(ls) < i:\n",
    "        ls.append(i)\n",
    "len(ls)"
   ]
  },
  {
   "cell_type": "markdown",
   "metadata": {},
   "source": [
    "# 소수 찾기"
   ]
  },
  {
   "cell_type": "code",
   "execution_count": 190,
   "metadata": {},
   "outputs": [],
   "source": [
    "from itertools import combinations"
   ]
  },
  {
   "cell_type": "code",
   "execution_count": 194,
   "metadata": {},
   "outputs": [],
   "source": [
    "numbers = '011'\n",
    "num_ls = list(numbers)"
   ]
  },
  {
   "cell_type": "code",
   "execution_count": 203,
   "metadata": {},
   "outputs": [
    {
     "data": {
      "text/plain": [
       "[[('1',), ('0',)], [('1', '1'), ('0', '1')], [('0', '1', '1')]]"
      ]
     },
     "execution_count": 203,
     "metadata": {},
     "output_type": "execute_result"
    }
   ],
   "source": [
    "[list(set(combinations(num_ls,i))) for i in range(1,len(num_ls)+1)]"
   ]
  },
  {
   "cell_type": "code",
   "execution_count": 206,
   "metadata": {},
   "outputs": [
    {
     "name": "stdout",
     "output_type": "stream",
     "text": [
      "enter a number: -1\n",
      "prime number\n"
     ]
    }
   ],
   "source": [
    "num = int(input(\"enter a number: \"))\n",
    " \n",
    "for i in range(2, num):\n",
    "    if num % i  == 0:\n",
    "        print(\"not prime number\")\n",
    "        break\n",
    "else:\n",
    "    print(\"prime number\")"
   ]
  },
  {
   "cell_type": "markdown",
   "metadata": {},
   "source": [
    "# 쇠막대기"
   ]
  },
  {
   "cell_type": "code",
   "execution_count": 207,
   "metadata": {},
   "outputs": [],
   "source": [
    "arrangement = \"()(((()())(())()))(())\""
   ]
  },
  {
   "cell_type": "code",
   "execution_count": 225,
   "metadata": {},
   "outputs": [],
   "source": [
    "arrangement = arrangement.replace('()','|')"
   ]
  },
  {
   "cell_type": "code",
   "execution_count": 227,
   "metadata": {},
   "outputs": [
    {
     "data": {
      "text/plain": [
       "17"
      ]
     },
     "execution_count": 227,
     "metadata": {},
     "output_type": "execute_result"
    }
   ],
   "source": [
    "i_sum=0\n",
    "j_laser=0\n",
    "for k in arrangement:\n",
    "    if k=='|':\n",
    "        j_laser += i_sum\n",
    "    elif k=='(':\n",
    "        i_sum += 1\n",
    "    elif k==')':\n",
    "        i_sum -=1\n",
    "        j_laser +=1\n",
    "j_laser        "
   ]
  },
  {
   "cell_type": "markdown",
   "metadata": {},
   "source": [
    "# 프린터\n"
   ]
  },
  {
   "cell_type": "code",
   "execution_count": 267,
   "metadata": {},
   "outputs": [],
   "source": [
    "# priorities = [2, 1, 3, 2];\n",
    "# location = 2 #기댓값 1\n",
    "priorities =[1, 1, 9, 1, 1, 1]\n",
    "location = 0\n"
   ]
  },
  {
   "cell_type": "code",
   "execution_count": 268,
   "metadata": {},
   "outputs": [
    {
     "data": {
      "text/plain": [
       "[(0, 1), (1, 1), (2, 9), (3, 1), (4, 1), (5, 1)]"
      ]
     },
     "execution_count": 268,
     "metadata": {},
     "output_type": "execute_result"
    }
   ],
   "source": [
    "priorities = list(zip(range(len(priorities)), priorities))\n",
    "priorities"
   ]
  },
  {
   "cell_type": "code",
   "execution_count": 269,
   "metadata": {},
   "outputs": [
    {
     "data": {
      "text/plain": [
       "(0, 1)"
      ]
     },
     "execution_count": 269,
     "metadata": {},
     "output_type": "execute_result"
    }
   ],
   "source": [
    "mine = priorities[location]\n",
    "mine"
   ]
  },
  {
   "cell_type": "code",
   "execution_count": 270,
   "metadata": {},
   "outputs": [
    {
     "data": {
      "text/plain": [
       "(2, 9)"
      ]
     },
     "execution_count": 270,
     "metadata": {},
     "output_type": "execute_result"
    }
   ],
   "source": [
    "sorted(priorities, key= lambda x: x[1], reverse=True)[0]"
   ]
  },
  {
   "cell_type": "code",
   "execution_count": 271,
   "metadata": {},
   "outputs": [
    {
     "name": "stdout",
     "output_type": "stream",
     "text": [
      "[(2, 9)]\n",
      "[(3, 1), (4, 1), (5, 1), (0, 1), (1, 1)]\n",
      "[(2, 9), (3, 1)]\n",
      "[(4, 1), (5, 1), (0, 1), (1, 1)]\n",
      "[(2, 9), (3, 1), (4, 1)]\n",
      "[(5, 1), (0, 1), (1, 1)]\n",
      "[(2, 9), (3, 1), (4, 1), (5, 1)]\n",
      "[(0, 1), (1, 1)]\n",
      "[(2, 9), (3, 1), (4, 1), (5, 1), (0, 1)]\n",
      "[(1, 1)]\n"
     ]
    }
   ],
   "source": [
    "#print(sorted(priorities,reverse=True))\n",
    "ls = []\n",
    "while mine not in ls:\n",
    "    maximum = sorted(priorities, key= lambda x: x[1], reverse=True)[0]\n",
    "#print(maximum)\n",
    "\n",
    "    while maximum in priorities:\n",
    "        i_pop = priorities.pop(0)\n",
    "        if i_pop==maximum:\n",
    "            ls.append(i_pop)\n",
    "            break\n",
    "        else:\n",
    "            priorities.append(i_pop)\n",
    "    print(ls)\n",
    "    print(priorities)"
   ]
  },
  {
   "cell_type": "code",
   "execution_count": 272,
   "metadata": {},
   "outputs": [
    {
     "data": {
      "text/plain": [
       "5"
      ]
     },
     "execution_count": 272,
     "metadata": {},
     "output_type": "execute_result"
    }
   ],
   "source": [
    "len(ls)"
   ]
  },
  {
   "cell_type": "markdown",
   "metadata": {},
   "source": [
    "# 다리를 지나는 트럭"
   ]
  },
  {
   "cell_type": "code",
   "execution_count": 499,
   "metadata": {},
   "outputs": [],
   "source": [
    "#bridge_length, weight, truck_weights = 2, 10, [7, 4, 5, 6] #기댓값 8\n",
    "#bridge_length, weight, truck_weights = 100, 100, [10] #기댓값 101\n",
    "bridge_length, weight, truck_weights = 100, 100, [10, 10, 10, 10, 10, 10, 10, 10, 10, 10]\n",
    "#기댓값 110"
   ]
  },
  {
   "cell_type": "code",
   "execution_count": 500,
   "metadata": {},
   "outputs": [],
   "source": [
    "time=0\n",
    "truck_ls = []\n",
    "truck_finish= []\n",
    "finish_len = len(truck_weights)"
   ]
  },
  {
   "cell_type": "code",
   "execution_count": 501,
   "metadata": {},
   "outputs": [
    {
     "name": "stdout",
     "output_type": "stream",
     "text": [
      "time :  1\n",
      "start line :  [10, 10, 10, 10, 10, 10, 10, 10, 10]\n",
      "gogo :  [[1, 10]]\n",
      "finish :  []\n",
      "time :  2\n",
      "start line :  [10, 10, 10, 10, 10, 10, 10, 10]\n",
      "gogo :  [[2, 10], [1, 10]]\n",
      "finish :  []\n",
      "time :  3\n",
      "start line :  [10, 10, 10, 10, 10, 10, 10]\n",
      "gogo :  [[3, 10], [2, 10], [1, 10]]\n",
      "finish :  []\n",
      "time :  4\n",
      "start line :  [10, 10, 10, 10, 10, 10]\n",
      "gogo :  [[4, 10], [3, 10], [2, 10], [1, 10]]\n",
      "finish :  []\n",
      "time :  5\n",
      "start line :  [10, 10, 10, 10, 10]\n",
      "gogo :  [[5, 10], [4, 10], [3, 10], [2, 10], [1, 10]]\n",
      "finish :  []\n",
      "time :  6\n",
      "start line :  [10, 10, 10, 10]\n",
      "gogo :  [[6, 10], [5, 10], [4, 10], [3, 10], [2, 10], [1, 10]]\n",
      "finish :  []\n",
      "time :  7\n",
      "start line :  [10, 10, 10]\n",
      "gogo :  [[7, 10], [6, 10], [5, 10], [4, 10], [3, 10], [2, 10], [1, 10]]\n",
      "finish :  []\n",
      "time :  8\n",
      "start line :  [10, 10]\n",
      "gogo :  [[8, 10], [7, 10], [6, 10], [5, 10], [4, 10], [3, 10], [2, 10], [1, 10]]\n",
      "finish :  []\n",
      "time :  9\n",
      "start line :  [10]\n",
      "gogo :  [[9, 10], [8, 10], [7, 10], [6, 10], [5, 10], [4, 10], [3, 10], [2, 10], [1, 10]]\n",
      "finish :  []\n",
      "time :  10\n",
      "start line :  []\n",
      "gogo :  [[10, 10], [9, 10], [8, 10], [7, 10], [6, 10], [5, 10], [4, 10], [3, 10], [2, 10], [1, 10]]\n",
      "finish :  []\n",
      "time :  11\n",
      "start line :  []\n",
      "gogo :  [[11, 10], [10, 10], [9, 10], [8, 10], [7, 10], [6, 10], [5, 10], [4, 10], [3, 10], [2, 10]]\n",
      "finish :  []\n",
      "time :  12\n",
      "start line :  []\n",
      "gogo :  [[12, 10], [11, 10], [10, 10], [9, 10], [8, 10], [7, 10], [6, 10], [5, 10], [4, 10], [3, 10]]\n",
      "finish :  []\n",
      "time :  13\n",
      "start line :  []\n",
      "gogo :  [[13, 10], [12, 10], [11, 10], [10, 10], [9, 10], [8, 10], [7, 10], [6, 10], [5, 10], [4, 10]]\n",
      "finish :  []\n",
      "time :  14\n",
      "start line :  []\n",
      "gogo :  [[14, 10], [13, 10], [12, 10], [11, 10], [10, 10], [9, 10], [8, 10], [7, 10], [6, 10], [5, 10]]\n",
      "finish :  []\n",
      "time :  15\n",
      "start line :  []\n",
      "gogo :  [[15, 10], [14, 10], [13, 10], [12, 10], [11, 10], [10, 10], [9, 10], [8, 10], [7, 10], [6, 10]]\n",
      "finish :  []\n",
      "time :  16\n",
      "start line :  []\n",
      "gogo :  [[16, 10], [15, 10], [14, 10], [13, 10], [12, 10], [11, 10], [10, 10], [9, 10], [8, 10], [7, 10]]\n",
      "finish :  []\n",
      "time :  17\n",
      "start line :  []\n",
      "gogo :  [[17, 10], [16, 10], [15, 10], [14, 10], [13, 10], [12, 10], [11, 10], [10, 10], [9, 10], [8, 10]]\n",
      "finish :  []\n",
      "time :  18\n",
      "start line :  []\n",
      "gogo :  [[18, 10], [17, 10], [16, 10], [15, 10], [14, 10], [13, 10], [12, 10], [11, 10], [10, 10], [9, 10]]\n",
      "finish :  []\n",
      "time :  19\n",
      "start line :  []\n",
      "gogo :  [[19, 10], [18, 10], [17, 10], [16, 10], [15, 10], [14, 10], [13, 10], [12, 10], [11, 10], [10, 10]]\n",
      "finish :  []\n",
      "time :  20\n",
      "start line :  []\n",
      "gogo :  [[20, 10], [19, 10], [18, 10], [17, 10], [16, 10], [15, 10], [14, 10], [13, 10], [12, 10], [11, 10]]\n",
      "finish :  []\n",
      "time :  21\n",
      "start line :  []\n",
      "gogo :  [[21, 10], [20, 10], [19, 10], [18, 10], [17, 10], [16, 10], [15, 10], [14, 10], [13, 10], [12, 10]]\n",
      "finish :  []\n",
      "time :  22\n",
      "start line :  []\n",
      "gogo :  [[22, 10], [21, 10], [20, 10], [19, 10], [18, 10], [17, 10], [16, 10], [15, 10], [14, 10], [13, 10]]\n",
      "finish :  []\n",
      "time :  23\n",
      "start line :  []\n",
      "gogo :  [[23, 10], [22, 10], [21, 10], [20, 10], [19, 10], [18, 10], [17, 10], [16, 10], [15, 10], [14, 10]]\n",
      "finish :  []\n",
      "time :  24\n",
      "start line :  []\n",
      "gogo :  [[24, 10], [23, 10], [22, 10], [21, 10], [20, 10], [19, 10], [18, 10], [17, 10], [16, 10], [15, 10]]\n",
      "finish :  []\n",
      "time :  25\n",
      "start line :  []\n",
      "gogo :  [[25, 10], [24, 10], [23, 10], [22, 10], [21, 10], [20, 10], [19, 10], [18, 10], [17, 10], [16, 10]]\n",
      "finish :  []\n",
      "time :  26\n",
      "start line :  []\n",
      "gogo :  [[26, 10], [25, 10], [24, 10], [23, 10], [22, 10], [21, 10], [20, 10], [19, 10], [18, 10], [17, 10]]\n",
      "finish :  []\n",
      "time :  27\n",
      "start line :  []\n",
      "gogo :  [[27, 10], [26, 10], [25, 10], [24, 10], [23, 10], [22, 10], [21, 10], [20, 10], [19, 10], [18, 10]]\n",
      "finish :  []\n",
      "time :  28\n",
      "start line :  []\n",
      "gogo :  [[28, 10], [27, 10], [26, 10], [25, 10], [24, 10], [23, 10], [22, 10], [21, 10], [20, 10], [19, 10]]\n",
      "finish :  []\n",
      "time :  29\n",
      "start line :  []\n",
      "gogo :  [[29, 10], [28, 10], [27, 10], [26, 10], [25, 10], [24, 10], [23, 10], [22, 10], [21, 10], [20, 10]]\n",
      "finish :  []\n",
      "time :  30\n",
      "start line :  []\n",
      "gogo :  [[30, 10], [29, 10], [28, 10], [27, 10], [26, 10], [25, 10], [24, 10], [23, 10], [22, 10], [21, 10]]\n",
      "finish :  []\n",
      "time :  31\n",
      "start line :  []\n",
      "gogo :  [[31, 10], [30, 10], [29, 10], [28, 10], [27, 10], [26, 10], [25, 10], [24, 10], [23, 10], [22, 10]]\n",
      "finish :  []\n",
      "time :  32\n",
      "start line :  []\n",
      "gogo :  [[32, 10], [31, 10], [30, 10], [29, 10], [28, 10], [27, 10], [26, 10], [25, 10], [24, 10], [23, 10]]\n",
      "finish :  []\n",
      "time :  33\n",
      "start line :  []\n",
      "gogo :  [[33, 10], [32, 10], [31, 10], [30, 10], [29, 10], [28, 10], [27, 10], [26, 10], [25, 10], [24, 10]]\n",
      "finish :  []\n",
      "time :  34\n",
      "start line :  []\n",
      "gogo :  [[34, 10], [33, 10], [32, 10], [31, 10], [30, 10], [29, 10], [28, 10], [27, 10], [26, 10], [25, 10]]\n",
      "finish :  []\n",
      "time :  35\n",
      "start line :  []\n",
      "gogo :  [[35, 10], [34, 10], [33, 10], [32, 10], [31, 10], [30, 10], [29, 10], [28, 10], [27, 10], [26, 10]]\n",
      "finish :  []\n",
      "time :  36\n",
      "start line :  []\n",
      "gogo :  [[36, 10], [35, 10], [34, 10], [33, 10], [32, 10], [31, 10], [30, 10], [29, 10], [28, 10], [27, 10]]\n",
      "finish :  []\n",
      "time :  37\n",
      "start line :  []\n",
      "gogo :  [[37, 10], [36, 10], [35, 10], [34, 10], [33, 10], [32, 10], [31, 10], [30, 10], [29, 10], [28, 10]]\n",
      "finish :  []\n",
      "time :  38\n",
      "start line :  []\n",
      "gogo :  [[38, 10], [37, 10], [36, 10], [35, 10], [34, 10], [33, 10], [32, 10], [31, 10], [30, 10], [29, 10]]\n",
      "finish :  []\n",
      "time :  39\n",
      "start line :  []\n",
      "gogo :  [[39, 10], [38, 10], [37, 10], [36, 10], [35, 10], [34, 10], [33, 10], [32, 10], [31, 10], [30, 10]]\n",
      "finish :  []\n",
      "time :  40\n",
      "start line :  []\n",
      "gogo :  [[40, 10], [39, 10], [38, 10], [37, 10], [36, 10], [35, 10], [34, 10], [33, 10], [32, 10], [31, 10]]\n",
      "finish :  []\n",
      "time :  41\n",
      "start line :  []\n",
      "gogo :  [[41, 10], [40, 10], [39, 10], [38, 10], [37, 10], [36, 10], [35, 10], [34, 10], [33, 10], [32, 10]]\n",
      "finish :  []\n",
      "time :  42\n",
      "start line :  []\n",
      "gogo :  [[42, 10], [41, 10], [40, 10], [39, 10], [38, 10], [37, 10], [36, 10], [35, 10], [34, 10], [33, 10]]\n",
      "finish :  []\n",
      "time :  43\n",
      "start line :  []\n",
      "gogo :  [[43, 10], [42, 10], [41, 10], [40, 10], [39, 10], [38, 10], [37, 10], [36, 10], [35, 10], [34, 10]]\n",
      "finish :  []\n",
      "time :  44\n",
      "start line :  []\n",
      "gogo :  [[44, 10], [43, 10], [42, 10], [41, 10], [40, 10], [39, 10], [38, 10], [37, 10], [36, 10], [35, 10]]\n",
      "finish :  []\n",
      "time :  45\n",
      "start line :  []\n",
      "gogo :  [[45, 10], [44, 10], [43, 10], [42, 10], [41, 10], [40, 10], [39, 10], [38, 10], [37, 10], [36, 10]]\n",
      "finish :  []\n",
      "time :  46\n",
      "start line :  []\n",
      "gogo :  [[46, 10], [45, 10], [44, 10], [43, 10], [42, 10], [41, 10], [40, 10], [39, 10], [38, 10], [37, 10]]\n",
      "finish :  []\n",
      "time :  47\n",
      "start line :  []\n",
      "gogo :  [[47, 10], [46, 10], [45, 10], [44, 10], [43, 10], [42, 10], [41, 10], [40, 10], [39, 10], [38, 10]]\n",
      "finish :  []\n",
      "time :  48\n",
      "start line :  []\n",
      "gogo :  [[48, 10], [47, 10], [46, 10], [45, 10], [44, 10], [43, 10], [42, 10], [41, 10], [40, 10], [39, 10]]\n",
      "finish :  []\n",
      "time :  49\n",
      "start line :  []\n",
      "gogo :  [[49, 10], [48, 10], [47, 10], [46, 10], [45, 10], [44, 10], [43, 10], [42, 10], [41, 10], [40, 10]]\n",
      "finish :  []\n",
      "time :  50\n",
      "start line :  []\n",
      "gogo :  [[50, 10], [49, 10], [48, 10], [47, 10], [46, 10], [45, 10], [44, 10], [43, 10], [42, 10], [41, 10]]\n",
      "finish :  []\n",
      "time :  51\n",
      "start line :  []\n",
      "gogo :  [[51, 10], [50, 10], [49, 10], [48, 10], [47, 10], [46, 10], [45, 10], [44, 10], [43, 10], [42, 10]]\n",
      "finish :  []\n",
      "time :  52\n",
      "start line :  []\n",
      "gogo :  [[52, 10], [51, 10], [50, 10], [49, 10], [48, 10], [47, 10], [46, 10], [45, 10], [44, 10], [43, 10]]\n",
      "finish :  []\n",
      "time :  53\n",
      "start line :  []\n",
      "gogo :  [[53, 10], [52, 10], [51, 10], [50, 10], [49, 10], [48, 10], [47, 10], [46, 10], [45, 10], [44, 10]]\n",
      "finish :  []\n",
      "time :  54\n",
      "start line :  []\n",
      "gogo :  [[54, 10], [53, 10], [52, 10], [51, 10], [50, 10], [49, 10], [48, 10], [47, 10], [46, 10], [45, 10]]\n",
      "finish :  []\n",
      "time :  55\n",
      "start line :  []\n",
      "gogo :  [[55, 10], [54, 10], [53, 10], [52, 10], [51, 10], [50, 10], [49, 10], [48, 10], [47, 10], [46, 10]]\n",
      "finish :  []\n",
      "time :  56\n",
      "start line :  []\n",
      "gogo :  [[56, 10], [55, 10], [54, 10], [53, 10], [52, 10], [51, 10], [50, 10], [49, 10], [48, 10], [47, 10]]\n",
      "finish :  []\n",
      "time :  57\n",
      "start line :  []\n",
      "gogo :  [[57, 10], [56, 10], [55, 10], [54, 10], [53, 10], [52, 10], [51, 10], [50, 10], [49, 10], [48, 10]]\n",
      "finish :  []\n",
      "time :  58\n",
      "start line :  []\n",
      "gogo :  [[58, 10], [57, 10], [56, 10], [55, 10], [54, 10], [53, 10], [52, 10], [51, 10], [50, 10], [49, 10]]\n",
      "finish :  []\n",
      "time :  59\n",
      "start line :  []\n",
      "gogo :  [[59, 10], [58, 10], [57, 10], [56, 10], [55, 10], [54, 10], [53, 10], [52, 10], [51, 10], [50, 10]]\n",
      "finish :  []\n",
      "time :  60\n",
      "start line :  []\n",
      "gogo :  [[60, 10], [59, 10], [58, 10], [57, 10], [56, 10], [55, 10], [54, 10], [53, 10], [52, 10], [51, 10]]\n",
      "finish :  []\n",
      "time :  61\n",
      "start line :  []\n",
      "gogo :  [[61, 10], [60, 10], [59, 10], [58, 10], [57, 10], [56, 10], [55, 10], [54, 10], [53, 10], [52, 10]]\n",
      "finish :  []\n",
      "time :  62\n",
      "start line :  []\n",
      "gogo :  [[62, 10], [61, 10], [60, 10], [59, 10], [58, 10], [57, 10], [56, 10], [55, 10], [54, 10], [53, 10]]\n",
      "finish :  []\n",
      "time :  63\n",
      "start line :  []\n",
      "gogo :  [[63, 10], [62, 10], [61, 10], [60, 10], [59, 10], [58, 10], [57, 10], [56, 10], [55, 10], [54, 10]]\n",
      "finish :  []\n",
      "time :  64\n",
      "start line :  []\n",
      "gogo :  [[64, 10], [63, 10], [62, 10], [61, 10], [60, 10], [59, 10], [58, 10], [57, 10], [56, 10], [55, 10]]\n",
      "finish :  []\n",
      "time :  65\n",
      "start line :  []\n",
      "gogo :  [[65, 10], [64, 10], [63, 10], [62, 10], [61, 10], [60, 10], [59, 10], [58, 10], [57, 10], [56, 10]]\n",
      "finish :  []\n",
      "time :  66\n",
      "start line :  []\n",
      "gogo :  [[66, 10], [65, 10], [64, 10], [63, 10], [62, 10], [61, 10], [60, 10], [59, 10], [58, 10], [57, 10]]\n",
      "finish :  []\n",
      "time :  67\n",
      "start line :  []\n",
      "gogo :  [[67, 10], [66, 10], [65, 10], [64, 10], [63, 10], [62, 10], [61, 10], [60, 10], [59, 10], [58, 10]]\n",
      "finish :  []\n",
      "time :  68\n",
      "start line :  []\n",
      "gogo :  [[68, 10], [67, 10], [66, 10], [65, 10], [64, 10], [63, 10], [62, 10], [61, 10], [60, 10], [59, 10]]\n",
      "finish :  []\n",
      "time :  69\n",
      "start line :  []\n",
      "gogo :  [[69, 10], [68, 10], [67, 10], [66, 10], [65, 10], [64, 10], [63, 10], [62, 10], [61, 10], [60, 10]]\n",
      "finish :  []\n",
      "time :  70\n",
      "start line :  []\n",
      "gogo :  [[70, 10], [69, 10], [68, 10], [67, 10], [66, 10], [65, 10], [64, 10], [63, 10], [62, 10], [61, 10]]\n",
      "finish :  []\n",
      "time :  71\n",
      "start line :  []\n",
      "gogo :  [[71, 10], [70, 10], [69, 10], [68, 10], [67, 10], [66, 10], [65, 10], [64, 10], [63, 10], [62, 10]]\n",
      "finish :  []\n",
      "time :  72\n",
      "start line :  []\n",
      "gogo :  [[72, 10], [71, 10], [70, 10], [69, 10], [68, 10], [67, 10], [66, 10], [65, 10], [64, 10], [63, 10]]\n",
      "finish :  []\n",
      "time :  73\n",
      "start line :  []\n",
      "gogo :  [[73, 10], [72, 10], [71, 10], [70, 10], [69, 10], [68, 10], [67, 10], [66, 10], [65, 10], [64, 10]]\n",
      "finish :  []\n",
      "time :  74\n",
      "start line :  []\n",
      "gogo :  [[74, 10], [73, 10], [72, 10], [71, 10], [70, 10], [69, 10], [68, 10], [67, 10], [66, 10], [65, 10]]\n",
      "finish :  []\n",
      "time :  75\n",
      "start line :  []\n",
      "gogo :  [[75, 10], [74, 10], [73, 10], [72, 10], [71, 10], [70, 10], [69, 10], [68, 10], [67, 10], [66, 10]]\n",
      "finish :  []\n",
      "time :  76\n",
      "start line :  []\n",
      "gogo :  [[76, 10], [75, 10], [74, 10], [73, 10], [72, 10], [71, 10], [70, 10], [69, 10], [68, 10], [67, 10]]\n",
      "finish :  []\n",
      "time :  77\n",
      "start line :  []\n",
      "gogo :  [[77, 10], [76, 10], [75, 10], [74, 10], [73, 10], [72, 10], [71, 10], [70, 10], [69, 10], [68, 10]]\n",
      "finish :  []\n",
      "time :  78\n",
      "start line :  []\n",
      "gogo :  [[78, 10], [77, 10], [76, 10], [75, 10], [74, 10], [73, 10], [72, 10], [71, 10], [70, 10], [69, 10]]\n",
      "finish :  []\n",
      "time :  79\n",
      "start line :  []\n",
      "gogo :  [[79, 10], [78, 10], [77, 10], [76, 10], [75, 10], [74, 10], [73, 10], [72, 10], [71, 10], [70, 10]]\n",
      "finish :  []\n",
      "time :  80\n",
      "start line :  []\n",
      "gogo :  [[80, 10], [79, 10], [78, 10], [77, 10], [76, 10], [75, 10], [74, 10], [73, 10], [72, 10], [71, 10]]\n",
      "finish :  []\n",
      "time :  81\n",
      "start line :  []\n",
      "gogo :  [[81, 10], [80, 10], [79, 10], [78, 10], [77, 10], [76, 10], [75, 10], [74, 10], [73, 10], [72, 10]]\n",
      "finish :  []\n",
      "time :  82\n",
      "start line :  []\n",
      "gogo :  [[82, 10], [81, 10], [80, 10], [79, 10], [78, 10], [77, 10], [76, 10], [75, 10], [74, 10], [73, 10]]\n",
      "finish :  []\n",
      "time :  83\n",
      "start line :  []\n",
      "gogo :  [[83, 10], [82, 10], [81, 10], [80, 10], [79, 10], [78, 10], [77, 10], [76, 10], [75, 10], [74, 10]]\n",
      "finish :  []\n",
      "time :  84\n",
      "start line :  []\n",
      "gogo :  [[84, 10], [83, 10], [82, 10], [81, 10], [80, 10], [79, 10], [78, 10], [77, 10], [76, 10], [75, 10]]\n",
      "finish :  []\n",
      "time :  85\n",
      "start line :  []\n",
      "gogo :  [[85, 10], [84, 10], [83, 10], [82, 10], [81, 10], [80, 10], [79, 10], [78, 10], [77, 10], [76, 10]]\n",
      "finish :  []\n",
      "time :  86\n",
      "start line :  []\n",
      "gogo :  [[86, 10], [85, 10], [84, 10], [83, 10], [82, 10], [81, 10], [80, 10], [79, 10], [78, 10], [77, 10]]\n",
      "finish :  []\n",
      "time :  87\n",
      "start line :  []\n",
      "gogo :  [[87, 10], [86, 10], [85, 10], [84, 10], [83, 10], [82, 10], [81, 10], [80, 10], [79, 10], [78, 10]]\n",
      "finish :  []\n",
      "time :  88\n",
      "start line :  []\n",
      "gogo :  [[88, 10], [87, 10], [86, 10], [85, 10], [84, 10], [83, 10], [82, 10], [81, 10], [80, 10], [79, 10]]\n",
      "finish :  []\n",
      "time :  89\n",
      "start line :  []\n",
      "gogo :  [[89, 10], [88, 10], [87, 10], [86, 10], [85, 10], [84, 10], [83, 10], [82, 10], [81, 10], [80, 10]]\n",
      "finish :  []\n",
      "time :  90\n",
      "start line :  []\n",
      "gogo :  [[90, 10], [89, 10], [88, 10], [87, 10], [86, 10], [85, 10], [84, 10], [83, 10], [82, 10], [81, 10]]\n",
      "finish :  []\n",
      "time :  91\n",
      "start line :  []\n",
      "gogo :  [[91, 10], [90, 10], [89, 10], [88, 10], [87, 10], [86, 10], [85, 10], [84, 10], [83, 10], [82, 10]]\n",
      "finish :  []\n",
      "time :  92\n",
      "start line :  []\n",
      "gogo :  [[92, 10], [91, 10], [90, 10], [89, 10], [88, 10], [87, 10], [86, 10], [85, 10], [84, 10], [83, 10]]\n",
      "finish :  []\n",
      "time :  93\n",
      "start line :  []\n",
      "gogo :  [[93, 10], [92, 10], [91, 10], [90, 10], [89, 10], [88, 10], [87, 10], [86, 10], [85, 10], [84, 10]]\n",
      "finish :  []\n",
      "time :  94\n",
      "start line :  []\n",
      "gogo :  [[94, 10], [93, 10], [92, 10], [91, 10], [90, 10], [89, 10], [88, 10], [87, 10], [86, 10], [85, 10]]\n",
      "finish :  []\n",
      "time :  95\n",
      "start line :  []\n",
      "gogo :  [[95, 10], [94, 10], [93, 10], [92, 10], [91, 10], [90, 10], [89, 10], [88, 10], [87, 10], [86, 10]]\n",
      "finish :  []\n",
      "time :  96\n",
      "start line :  []\n",
      "gogo :  [[96, 10], [95, 10], [94, 10], [93, 10], [92, 10], [91, 10], [90, 10], [89, 10], [88, 10], [87, 10]]\n",
      "finish :  []\n",
      "time :  97\n",
      "start line :  []\n",
      "gogo :  [[97, 10], [96, 10], [95, 10], [94, 10], [93, 10], [92, 10], [91, 10], [90, 10], [89, 10], [88, 10]]\n",
      "finish :  []\n",
      "time :  98\n",
      "start line :  []\n",
      "gogo :  [[98, 10], [97, 10], [96, 10], [95, 10], [94, 10], [93, 10], [92, 10], [91, 10], [90, 10], [89, 10]]\n",
      "finish :  []\n",
      "time :  99\n",
      "start line :  []\n",
      "gogo :  [[99, 10], [98, 10], [97, 10], [96, 10], [95, 10], [94, 10], [93, 10], [92, 10], [91, 10], [90, 10]]\n",
      "finish :  []\n",
      "time :  100\n",
      "start line :  []\n",
      "gogo :  [[100, 10], [99, 10], [98, 10], [97, 10], [96, 10], [95, 10], [94, 10], [93, 10], [92, 10], [91, 10]]\n",
      "finish :  []\n",
      "time :  101\n",
      "start line :  []\n",
      "gogo :  [[100, 10], [99, 10], [98, 10], [97, 10], [96, 10], [95, 10], [94, 10], [93, 10], [92, 10]]\n",
      "finish :  [[101, 10]]\n",
      "time :  102\n",
      "start line :  []\n",
      "gogo :  [[100, 10], [99, 10], [98, 10], [97, 10], [96, 10], [95, 10], [94, 10], [93, 10]]\n",
      "finish :  [[101, 10], [101, 10]]\n",
      "time :  103\n",
      "start line :  []\n",
      "gogo :  [[100, 10], [99, 10], [98, 10], [97, 10], [96, 10], [95, 10], [94, 10]]\n",
      "finish :  [[101, 10], [101, 10], [101, 10]]\n",
      "time :  104\n",
      "start line :  []\n",
      "gogo :  [[100, 10], [99, 10], [98, 10], [97, 10], [96, 10], [95, 10]]\n",
      "finish :  [[101, 10], [101, 10], [101, 10], [101, 10]]\n",
      "time :  105\n",
      "start line :  []\n",
      "gogo :  [[100, 10], [99, 10], [98, 10], [97, 10], [96, 10]]\n",
      "finish :  [[101, 10], [101, 10], [101, 10], [101, 10], [101, 10]]\n",
      "time :  106\n",
      "start line :  []\n",
      "gogo :  [[100, 10], [99, 10], [98, 10], [97, 10]]\n",
      "finish :  [[101, 10], [101, 10], [101, 10], [101, 10], [101, 10], [101, 10]]\n",
      "time :  107\n",
      "start line :  []\n",
      "gogo :  [[100, 10], [99, 10], [98, 10]]\n",
      "finish :  [[101, 10], [101, 10], [101, 10], [101, 10], [101, 10], [101, 10], [101, 10]]\n",
      "time :  108\n",
      "start line :  []\n",
      "gogo :  [[100, 10], [99, 10]]\n",
      "finish :  [[101, 10], [101, 10], [101, 10], [101, 10], [101, 10], [101, 10], [101, 10], [101, 10]]\n",
      "time :  109\n",
      "start line :  []\n",
      "gogo :  [[100, 10]]\n",
      "finish :  [[101, 10], [101, 10], [101, 10], [101, 10], [101, 10], [101, 10], [101, 10], [101, 10], [101, 10]]\n",
      "time :  110\n",
      "start line :  []\n",
      "gogo :  []\n",
      "finish :  [[101, 10], [101, 10], [101, 10], [101, 10], [101, 10], [101, 10], [101, 10], [101, 10], [101, 10], [101, 10]]\n"
     ]
    },
    {
     "data": {
      "text/plain": [
       "110"
      ]
     },
     "execution_count": 501,
     "metadata": {},
     "output_type": "execute_result"
    }
   ],
   "source": [
    "while True:\n",
    "    #truck_ls[0][0] : time\n",
    "    time+=1\n",
    "    for ls in truck_ls:\n",
    "        ls[0]+=1\n",
    "    \n",
    "    if len(truck_ls)!=0 and truck_ls[0][0] != 1 and truck_ls[0][0]%(bridge_length)==1: # truck_ls=0이면 pop안돼.\n",
    "        truck_finish.append(truck_ls.pop(0)) # 다리 길이가 2이면 2초에 하나씩 지나감.\n",
    " \n",
    "    truckSum = sum([ls[1] for ls in truck_ls])\n",
    "    if len(truck_weights) !=0  and truckSum <= weight:\n",
    "        if truckSum + truck_weights[0] <= weight:\n",
    "            truck_ls.append([1,truck_weights.pop(0)])\n",
    "            \n",
    "    print('time : ', time)\n",
    "    print('start line : ', truck_weights)\n",
    "    print('gogo : ', truck_ls)\n",
    "    print('finish : ', truck_finish)\n",
    "    \n",
    "    if len(truck_finish) == finish_len:\n",
    "        break \n",
    "    \n",
    "time   "
   ]
  },
  {
   "cell_type": "markdown",
   "metadata": {},
   "source": [
    "# excercise"
   ]
  },
  {
   "cell_type": "code",
   "execution_count": 291,
   "metadata": {},
   "outputs": [],
   "source": [
    "from collections import deque"
   ]
  },
  {
   "cell_type": "code",
   "execution_count": 289,
   "metadata": {},
   "outputs": [],
   "source": [
    "test = [1,2,3,4,5]"
   ]
  },
  {
   "cell_type": "code",
   "execution_count": 293,
   "metadata": {},
   "outputs": [],
   "source": [
    "test = deque(test)"
   ]
  },
  {
   "cell_type": "code",
   "execution_count": 294,
   "metadata": {},
   "outputs": [
    {
     "data": {
      "text/plain": [
       "deque([1, 2, 3, 4, 5])"
      ]
     },
     "execution_count": 294,
     "metadata": {},
     "output_type": "execute_result"
    }
   ],
   "source": [
    "test"
   ]
  },
  {
   "cell_type": "code",
   "execution_count": 300,
   "metadata": {},
   "outputs": [
    {
     "data": {
      "text/plain": [
       "deque([1, 2, 3, 4, 5])"
      ]
     },
     "execution_count": 300,
     "metadata": {},
     "output_type": "execute_result"
    }
   ],
   "source": [
    "test.rotate(-1)\n",
    "test"
   ]
  },
  {
   "cell_type": "code",
   "execution_count": 301,
   "metadata": {},
   "outputs": [
    {
     "data": {
      "text/plain": [
       "[1, 2, 3, 4, 5]"
      ]
     },
     "execution_count": 301,
     "metadata": {},
     "output_type": "execute_result"
    }
   ],
   "source": [
    "list(test)"
   ]
  },
  {
   "cell_type": "markdown",
   "metadata": {},
   "source": [
    "# 기능 개발"
   ]
  },
  {
   "cell_type": "code",
   "execution_count": 356,
   "metadata": {},
   "outputs": [],
   "source": [
    "progresses, speeds = [93, 30, 55], [1, 30, 5]\n",
    "#기댓값 [2, 1]"
   ]
  },
  {
   "cell_type": "code",
   "execution_count": 348,
   "metadata": {},
   "outputs": [
    {
     "data": {
      "text/plain": [
       "[100, 240, 90]"
      ]
     },
     "execution_count": 348,
     "metadata": {},
     "output_type": "execute_result"
    }
   ],
   "source": [
    "while 0<progresses[0] and progresses[0] < 100:\n",
    "    progresses = [progresses[i]+speeds[i] for i in range(len(progresses))]\n",
    "progresses"
   ]
  },
  {
   "cell_type": "code",
   "execution_count": 349,
   "metadata": {},
   "outputs": [
    {
     "name": "stdout",
     "output_type": "stream",
     "text": [
      "[0, 0, 90]\n",
      "[0, 0, 5]\n",
      "2\n"
     ]
    }
   ],
   "source": [
    "k=0\n",
    "for i in range(len(progresses)):\n",
    "    if progresses[i] >= 100:\n",
    "        k+=1 \n",
    "        progresses[i] = 0\n",
    "        speeds[i] = 0\n",
    "    elif 0 < progresses[i] and progresses[i]<100:\n",
    "        break\n",
    "print(progresses)\n",
    "print(speeds)\n",
    "print(k)"
   ]
  },
  {
   "cell_type": "code",
   "execution_count": 357,
   "metadata": {},
   "outputs": [
    {
     "data": {
      "text/plain": [
       "[2, 1]"
      ]
     },
     "execution_count": 357,
     "metadata": {},
     "output_type": "execute_result"
    }
   ],
   "source": [
    "answer = []\n",
    "for j in range(len(progresses)):\n",
    "    while 0<progresses[j] and progresses[j] < 100:\n",
    "        progresses = [progresses[i]+speeds[i] for i in range(len(progresses))]\n",
    "    #print(progresses)\n",
    "    k=0\n",
    "    for i in range(len(progresses)):\n",
    "        if progresses[i] >= 100:\n",
    "            k+=1 \n",
    "            progresses[i] = 0\n",
    "            speeds[i] = 0\n",
    "        elif 0 < progresses[i] and progresses[i]<100:\n",
    "            break\n",
    "    #print(progresses)\n",
    "    #print(speeds)\n",
    "    if k !=0:\n",
    "        answer.append(k)\n",
    "answer        "
   ]
  },
  {
   "cell_type": "markdown",
   "metadata": {},
   "source": [
    "### 좋은 풀이"
   ]
  },
  {
   "cell_type": "code",
   "execution_count": 358,
   "metadata": {},
   "outputs": [],
   "source": [
    "progresses, speeds = [93, 30, 55], [1, 30, 5]\n",
    "#기댓값 [2, 1]"
   ]
  },
  {
   "cell_type": "code",
   "execution_count": 359,
   "metadata": {},
   "outputs": [
    {
     "data": {
      "text/plain": [
       "[2, 1]"
      ]
     },
     "execution_count": 359,
     "metadata": {},
     "output_type": "execute_result"
    }
   ],
   "source": [
    "Q=[]\n",
    "for p, s in zip(progresses, speeds):\n",
    "        if len(Q)==0 or Q[-1][0]<-((p-100)//s):\n",
    "            Q.append([-((p-100)//s),1])\n",
    "        else:\n",
    "            Q[-1][1]+=1\n",
    "[q[1] for q in Q]"
   ]
  },
  {
   "cell_type": "markdown",
   "metadata": {},
   "source": [
    "- 공식이 나올 수 있는 문제이니 공식을 만들어서 푼다."
   ]
  },
  {
   "cell_type": "markdown",
   "metadata": {},
   "source": [
    "# 힙"
   ]
  },
  {
   "cell_type": "code",
   "execution_count": 502,
   "metadata": {},
   "outputs": [],
   "source": [
    "import heapq"
   ]
  },
  {
   "cell_type": "markdown",
   "metadata": {},
   "source": [
    "# 더맵게"
   ]
  },
  {
   "cell_type": "code",
   "execution_count": 557,
   "metadata": {},
   "outputs": [],
   "source": [
    "scoville, K = [1, 1, 5, 4,3, 5,7,9, 10, 12], 7\n",
    "# 기댓값 2"
   ]
  },
  {
   "cell_type": "code",
   "execution_count": 558,
   "metadata": {},
   "outputs": [],
   "source": [
    "heapq.heapify(scoville)"
   ]
  },
  {
   "cell_type": "code",
   "execution_count": 559,
   "metadata": {},
   "outputs": [
    {
     "data": {
      "text/plain": [
       "[1, 1, 5, 4, 3, 5, 7, 9, 10, 12]"
      ]
     },
     "execution_count": 559,
     "metadata": {},
     "output_type": "execute_result"
    }
   ],
   "source": [
    "scoville"
   ]
  },
  {
   "cell_type": "code",
   "execution_count": 561,
   "metadata": {},
   "outputs": [
    {
     "data": {
      "text/plain": [
       "(9, 0, 1)"
      ]
     },
     "execution_count": 561,
     "metadata": {},
     "output_type": "execute_result"
    }
   ],
   "source": [
    "size, cnt = len(scoville) - 1, 0\n",
    "f = heapq.heappop(scoville)\n",
    "size, cnt, f"
   ]
  },
  {
   "cell_type": "code",
   "execution_count": 562,
   "metadata": {},
   "outputs": [
    {
     "name": "stdout",
     "output_type": "stream",
     "text": [
      "4\n",
      "5\n",
      "6\n",
      "7\n",
      "8\n",
      "9\n",
      "-1\n"
     ]
    }
   ],
   "source": [
    "while size > 0:\n",
    "        s = heapq.heappop(scoville)\n",
    "        f = heapq.heappushpop(scoville, f + s + s)\n",
    "        if f >= K:\n",
    "            print(cnt + 1)\n",
    "        cnt += 1\n",
    "        size -= 1\n",
    "print(-1)"
   ]
  },
  {
   "cell_type": "markdown",
   "metadata": {},
   "source": [
    "# 탐욕법 : 저울"
   ]
  },
  {
   "cell_type": "code",
   "execution_count": 564,
   "metadata": {},
   "outputs": [],
   "source": [
    "from itertools import combinations"
   ]
  },
  {
   "cell_type": "code",
   "execution_count": 621,
   "metadata": {},
   "outputs": [],
   "source": [
    "weight = [3, 1,6,8, 6, 2, 7, 30, 1]\n",
    "# 기댓값 21"
   ]
  },
  {
   "cell_type": "code",
   "execution_count": 611,
   "metadata": {},
   "outputs": [],
   "source": [
    "ls = list(map(lambda x: list(map(lambda y: sum(y), x)), \\\n",
    "    [list(combinations(weight,i)) for i in range(1,len(weight)+1)]))"
   ]
  },
  {
   "cell_type": "code",
   "execution_count": 612,
   "metadata": {},
   "outputs": [
    {
     "data": {
      "text/plain": [
       "{1, 3, 4, 6, 7, 8, 9, 10, 11, 12, 14, 15, 17, 18}"
      ]
     },
     "execution_count": 612,
     "metadata": {},
     "output_type": "execute_result"
    }
   ],
   "source": [
    "ls = set(sum(ls,[])) #flatten\n",
    "ls"
   ]
  },
  {
   "cell_type": "code",
   "execution_count": 613,
   "metadata": {},
   "outputs": [
    {
     "data": {
      "text/plain": [
       "2"
      ]
     },
     "execution_count": 613,
     "metadata": {},
     "output_type": "execute_result"
    }
   ],
   "source": [
    "k=1\n",
    "while k in ls:\n",
    "    k+=1\n",
    "k    "
   ]
  },
  {
   "cell_type": "code",
   "execution_count": 617,
   "metadata": {},
   "outputs": [
    {
     "data": {
      "text/plain": [
       "2"
      ]
     },
     "execution_count": 617,
     "metadata": {},
     "output_type": "execute_result"
    }
   ],
   "source": [
    "k=1\n",
    "ls = set(sum(list(map(lambda x: list(map(lambda y: sum(y), x)), \\\n",
    "    [list(combinations(weight,i)) for i in range(1,len(weight)+1)])),[]))\n",
    "while k in ls:\n",
    "    k+=1\n",
    "k    "
   ]
  },
  {
   "cell_type": "code",
   "execution_count": 623,
   "metadata": {},
   "outputs": [
    {
     "name": "stdout",
     "output_type": "stream",
     "text": [
      "1 2\n",
      "1 3\n",
      "2 5\n",
      "3 8\n",
      "6 14\n",
      "6 20\n",
      "7 27\n",
      "8 35\n",
      "30 65\n"
     ]
    },
    {
     "data": {
      "text/plain": [
       "65"
      ]
     },
     "execution_count": 623,
     "metadata": {},
     "output_type": "execute_result"
    }
   ],
   "source": [
    "weight.sort()\n",
    "ans = 1\n",
    "for e in weight:\n",
    "        if ans < e:\n",
    "            break\n",
    "        ans += e\n",
    "        print(e, ans)\n",
    "\n",
    "ans"
   ]
  },
  {
   "cell_type": "code",
   "execution_count": 619,
   "metadata": {},
   "outputs": [
    {
     "data": {
      "text/plain": [
       "[1, 3, 6, 8]"
      ]
     },
     "execution_count": 619,
     "metadata": {},
     "output_type": "execute_result"
    }
   ],
   "source": [
    "weight"
   ]
  },
  {
   "cell_type": "markdown",
   "metadata": {},
   "source": [
    "# 오픈채팅방"
   ]
  },
  {
   "cell_type": "code",
   "execution_count": 662,
   "metadata": {},
   "outputs": [],
   "source": [
    "record = [\"Enter uid1234 Muzi\", \"Enter uid4567 Prodo\", \"Leave uid1234\", \\\n",
    "          \"Enter uid1234 Prodo\", \"Change uid4567 Ryan\"]\n",
    "# [\"Prodo님이 들어왔습니다.\", \"Ryan님이 들어왔습니다.\", \"Prodo님이 나갔습니다.\", \n",
    "#\"Prodo님이 들어왔습니다.\"]"
   ]
  },
  {
   "cell_type": "code",
   "execution_count": 645,
   "metadata": {},
   "outputs": [
    {
     "name": "stdout",
     "output_type": "stream",
     "text": [
      "['uid1234님이 들어왔습니다.', 'uid4567님이 들어왔습니다.', 'uid1234님이 나갔습니다.', 'uid1234님이 들어왔습니다.']\n",
      "{'uid1234': 'Prodo', 'uid4567': 'Ryan'}\n"
     ]
    }
   ],
   "source": [
    "r_dic = {'Enter' : '님이 들어왔습니다.', 'Leave' : '님이 나갔습니다.'}\n",
    "id_dic={}\n",
    "output = []\n",
    "\n",
    "for i in record:\n",
    "    i = i.split(' ')\n",
    "    if i[0] == 'Enter':\n",
    "        id_dic[i[1]] = i[2]\n",
    "        output += [i[1]+r_dic[i[0]]]\n",
    "    elif i[0] == 'Change':\n",
    "        id_dic[i[1]] = i[2]\n",
    "    elif i[0] == 'Leave' : \n",
    "        output += [i[1]+r_dic[i[0]]]\n",
    "        \n",
    "print(output)        \n",
    "print(id_dic)        "
   ]
  },
  {
   "cell_type": "code",
   "execution_count": 661,
   "metadata": {},
   "outputs": [
    {
     "data": {
      "text/plain": [
       "['Prodo님이 들어왔습니다.', 'Ryan님이 들어왔습니다.', 'Prodo님이 나갔습니다.', 'Prodo님이 들어왔습니다.']"
      ]
     },
     "execution_count": 661,
     "metadata": {},
     "output_type": "execute_result"
    }
   ],
   "source": [
    "for i in range(len(output)):\n",
    "    idd = output[i].split('님')[0]\n",
    "    output[i] = output[i].replace(idd,id_dic[idd])\n",
    "output    "
   ]
  },
  {
   "cell_type": "code",
   "execution_count": 651,
   "metadata": {},
   "outputs": [
    {
     "data": {
      "text/plain": [
       "False"
      ]
     },
     "execution_count": 651,
     "metadata": {},
     "output_type": "execute_result"
    }
   ],
   "source": [
    "'uid4567' in output[0]"
   ]
  },
  {
   "cell_type": "code",
   "execution_count": 658,
   "metadata": {},
   "outputs": [
    {
     "data": {
      "text/plain": [
       "'Prodo님이 들어왔습니다.'"
      ]
     },
     "execution_count": 658,
     "metadata": {},
     "output_type": "execute_result"
    }
   ],
   "source": [
    "idd = output[0].split('님')[0]\n",
    "output[0] = output[0].replace(idd,id_dic[idd])"
   ]
  },
  {
   "cell_type": "code",
   "execution_count": 663,
   "metadata": {},
   "outputs": [
    {
     "data": {
      "text/plain": [
       "['Prodo님이 들어왔습니다.', 'Ryan님이 들어왔습니다.', 'Prodo님이 나갔습니다.', 'Prodo님이 들어왔습니다.']"
      ]
     },
     "execution_count": 663,
     "metadata": {},
     "output_type": "execute_result"
    }
   ],
   "source": [
    "#정리\n",
    "r_dic = {'Enter' : '님이 들어왔습니다.', 'Leave' : '님이 나갔습니다.'}\n",
    "id_dic={}\n",
    "output = []\n",
    "\n",
    "for i in record:\n",
    "    i = i.split(' ')\n",
    "    if i[0] == 'Enter':\n",
    "        id_dic[i[1]] = i[2]\n",
    "        output += [i[1]+r_dic[i[0]]]\n",
    "    elif i[0] == 'Change':\n",
    "        id_dic[i[1]] = i[2]\n",
    "    elif i[0] == 'Leave' : \n",
    "        output += [i[1]+r_dic[i[0]]]\n",
    "        \n",
    "for i in range(len(output)):\n",
    "    idd = output[i].split('님')[0]\n",
    "    output[i] = output[i].replace(idd,id_dic[idd])\n",
    "output          "
   ]
  },
  {
   "cell_type": "markdown",
   "metadata": {},
   "source": [
    "# 블록게임"
   ]
  },
  {
   "cell_type": "code",
   "execution_count": 664,
   "metadata": {},
   "outputs": [],
   "source": [
    "import numpy as np"
   ]
  },
  {
   "cell_type": "code",
   "execution_count": 665,
   "metadata": {},
   "outputs": [],
   "source": [
    "board = [[0, 0, 0, 0, 0, 0, 0, 0, 0, 0], [0, 0, 0, 0, 0, 0, 0, 0, 0, 0], [0, 0, 0, 0, 0, 0, 0, 0, 0, 0], [0, 0, 0, 0, 0, 0, 0, 0, 0, 0], [0, 0, 0, 0, 0, 0, 4, 0, 0, 0], [0, 0, 0, 0, 0, 4, 4, 0, 0, 0], [0, 0, 0, 0, 3, 0, 4, 0, 0, 0], [0, 0, 0, 2, 3, 0, 0, 0, 5, 5], [1, 2, 2, 2, 3, 3, 0, 0, 0, 5], [1, 1, 1, 0, 0, 0, 0, 0, 0, 5]]"
   ]
  },
  {
   "cell_type": "code",
   "execution_count": 676,
   "metadata": {},
   "outputs": [
    {
     "data": {
      "text/plain": [
       "array([[0, 0, 0, 0, 0, 0, 0, 0, 0, 0],\n",
       "       [0, 0, 0, 0, 0, 0, 0, 0, 0, 0],\n",
       "       [0, 0, 0, 0, 0, 0, 0, 0, 0, 0],\n",
       "       [0, 0, 0, 0, 0, 0, 0, 0, 0, 0],\n",
       "       [0, 0, 0, 0, 0, 0, 4, 0, 0, 0],\n",
       "       [0, 0, 0, 0, 0, 4, 4, 0, 0, 0],\n",
       "       [0, 0, 0, 0, 3, 0, 4, 0, 0, 0],\n",
       "       [0, 0, 0, 2, 3, 0, 0, 0, 5, 5],\n",
       "       [1, 2, 2, 2, 3, 3, 0, 0, 0, 5],\n",
       "       [1, 1, 1, 0, 0, 0, 0, 0, 0, 5]])"
      ]
     },
     "execution_count": 676,
     "metadata": {},
     "output_type": "execute_result"
    }
   ],
   "source": [
    "board = np.array(board)\n",
    "board"
   ]
  },
  {
   "cell_type": "code",
   "execution_count": 690,
   "metadata": {},
   "outputs": [
    {
     "data": {
      "text/plain": [
       "(array([8, 9, 9, 9]), array([0, 0, 1, 2]))"
      ]
     },
     "execution_count": 690,
     "metadata": {},
     "output_type": "execute_result"
    }
   ],
   "source": [
    "i=1\n",
    "npi = np.where(board == i)\n",
    "npi"
   ]
  },
  {
   "cell_type": "code",
   "execution_count": 691,
   "metadata": {},
   "outputs": [
    {
     "data": {
      "text/plain": [
       "(8, 9, 2, 0)"
      ]
     },
     "execution_count": 691,
     "metadata": {},
     "output_type": "execute_result"
    }
   ],
   "source": [
    "npi[0].min(), npi[0].max(), npi[1].max(),npi[1].min()"
   ]
  },
  {
   "cell_type": "code",
   "execution_count": 693,
   "metadata": {},
   "outputs": [
    {
     "data": {
      "text/plain": [
       "array([[1, 2, 2],\n",
       "       [1, 1, 1]])"
      ]
     },
     "execution_count": 693,
     "metadata": {},
     "output_type": "execute_result"
    }
   ],
   "source": [
    "box = board[npi[0].min():npi[0].max()+1, npi[1].min():npi[1].max()+1]\n",
    "box"
   ]
  },
  {
   "cell_type": "code",
   "execution_count": 697,
   "metadata": {},
   "outputs": [
    {
     "data": {
      "text/plain": [
       "False"
      ]
     },
     "execution_count": 697,
     "metadata": {},
     "output_type": "execute_result"
    }
   ],
   "source": [
    "1 in box"
   ]
  },
  {
   "cell_type": "code",
   "execution_count": 706,
   "metadata": {},
   "outputs": [],
   "source": [
    "n,edge = 6, [[3, 6], [4, 3], [3, 2], [1, 3], [1, 2], [2, 4], [5, 2]]\n",
    "# 3"
   ]
  },
  {
   "cell_type": "code",
   "execution_count": 708,
   "metadata": {},
   "outputs": [
    {
     "data": {
      "text/plain": [
       "{3: [6, 2], 4: [3], 1: [3, 2], 2: [4], 5: [2]}"
      ]
     },
     "execution_count": 708,
     "metadata": {},
     "output_type": "execute_result"
    }
   ],
   "source": [
    "adjlist = {j[0]:[] for j in edge}\n",
    "for e in edge:\n",
    "        v = e[0]\n",
    "        w = e[1]\n",
    "        adjlist[v].append(w)\n",
    "        \n",
    "        \n",
    "   # print(adjlist)\n",
    "    \n",
    "adjlist"
   ]
  },
  {
   "cell_type": "code",
   "execution_count": 720,
   "metadata": {},
   "outputs": [
    {
     "name": "stdout",
     "output_type": "stream",
     "text": [
      "3 6\n",
      "4 3\n",
      "3 2\n",
      "1 3\n",
      "1 2\n",
      "2 4\n",
      "5 2\n"
     ]
    },
    {
     "data": {
      "text/plain": [
       "{1: [3, 2], 2: [4], 3: [6, 2], 4: [3], 5: [2], 6: []}"
      ]
     },
     "execution_count": 720,
     "metadata": {},
     "output_type": "execute_result"
    }
   ],
   "source": [
    "adjlist = {j:[] for j in range(1,n+1)}\n",
    "#dict.fromkeys(range(1,n+1),[])\n",
    "\n",
    "for e in edge:\n",
    "        v = e[0]\n",
    "        w = e[1]\n",
    "        print(v,w)\n",
    "        adjlist[v].append(w)\n",
    "adjlist        "
   ]
  },
  {
   "cell_type": "code",
   "execution_count": 717,
   "metadata": {},
   "outputs": [],
   "source": [
    "adjlist = \n",
    "#dict.fromkeys(range(1,n+1),[])\n",
    "adjlist[1].append(1)"
   ]
  },
  {
   "cell_type": "code",
   "execution_count": 718,
   "metadata": {},
   "outputs": [
    {
     "data": {
      "text/plain": [
       "{1: [1], 2: [1], 3: [1], 4: [1], 5: [1], 6: [1]}"
      ]
     },
     "execution_count": 718,
     "metadata": {},
     "output_type": "execute_result"
    }
   ],
   "source": [
    "adjlist"
   ]
  },
  {
   "cell_type": "code",
   "execution_count": null,
   "metadata": {},
   "outputs": [],
   "source": []
  }
 ],
 "metadata": {
  "kernelspec": {
   "display_name": "Python 3",
   "language": "python",
   "name": "python3"
  },
  "language_info": {
   "codemirror_mode": {
    "name": "ipython",
    "version": 3
   },
   "file_extension": ".py",
   "mimetype": "text/x-python",
   "name": "python",
   "nbconvert_exporter": "python",
   "pygments_lexer": "ipython3",
   "version": "3.6.5"
  }
 },
 "nbformat": 4,
 "nbformat_minor": 2
}
