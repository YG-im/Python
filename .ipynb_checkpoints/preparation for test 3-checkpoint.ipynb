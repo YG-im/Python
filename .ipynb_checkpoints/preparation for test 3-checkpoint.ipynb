{
 "cells": [
  {
   "cell_type": "markdown",
   "metadata": {},
   "source": [
    "# 무지의 먹방 라이브"
   ]
  },
  {
   "cell_type": "code",
   "execution_count": 17,
   "metadata": {},
   "outputs": [],
   "source": [
    "food_times, k = [3, 1, 2], 5\n",
    "# 기댓값 1"
   ]
  },
  {
   "cell_type": "code",
   "execution_count": 14,
   "metadata": {},
   "outputs": [
    {
     "data": {
      "text/plain": [
       "[1, 2, 3, 1, 3, 1]"
      ]
     },
     "execution_count": 14,
     "metadata": {},
     "output_type": "execute_result"
    }
   ],
   "source": [
    "# 목표 리스트\n",
    "[1,2,3,1,3,1]"
   ]
  },
  {
   "cell_type": "code",
   "execution_count": 15,
   "metadata": {},
   "outputs": [
    {
     "data": {
      "text/plain": [
       "False"
      ]
     },
     "execution_count": 15,
     "metadata": {},
     "output_type": "execute_result"
    }
   ],
   "source": [
    "bool(sum([0,0]))"
   ]
  },
  {
   "cell_type": "code",
   "execution_count": 16,
   "metadata": {},
   "outputs": [
    {
     "name": "stdout",
     "output_type": "stream",
     "text": [
      "0\n",
      "1\n",
      "2\n",
      "0\n",
      "1\n",
      "2\n",
      "0\n",
      "1\n",
      "2\n"
     ]
    },
    {
     "data": {
      "text/plain": [
       "1"
      ]
     },
     "execution_count": 16,
     "metadata": {},
     "output_type": "execute_result"
    }
   ],
   "source": [
    "ls =[]\n",
    "while sum(food_times): # foodtimes = [0,0,..] ->sum : False\n",
    "    for ft in range(len(food_times)):\n",
    "        print(ft)\n",
    "        if food_times[ft] !=0 :\n",
    "            food_times[ft] = food_times[ft] - 1\n",
    "            ls.append(ft+1)\n",
    "\n",
    "ls[k]"
   ]
  },
  {
   "cell_type": "code",
   "execution_count": 66,
   "metadata": {},
   "outputs": [],
   "source": [
    "food_times, k = [3, 1, 2], 5\n",
    "# 기댓값 1"
   ]
  },
  {
   "cell_type": "code",
   "execution_count": 65,
   "metadata": {},
   "outputs": [
    {
     "name": "stdout",
     "output_type": "stream",
     "text": [
      "1\n",
      "[1]\n",
      "2\n",
      "[1, 2]\n",
      "3\n",
      "[1, 2, 3]\n",
      "1\n",
      "[1, 2, 3, 1]\n",
      "2\n",
      "3\n",
      "[1, 2, 3, 1, 3]\n",
      "1\n",
      "[1, 2, 3, 1, 3, 1]\n",
      "1\n"
     ]
    },
    {
     "data": {
      "text/plain": [
       "-1"
      ]
     },
     "execution_count": 65,
     "metadata": {},
     "output_type": "execute_result"
    }
   ],
   "source": [
    "# 좀더 효율적으로.\n",
    "ls=[]\n",
    "ft=0\n",
    "len_ft = len(food_times)\n",
    "while sum(food_times): # foodtimes = [0,0,..] ->sum : False\n",
    "    #for ft in range(len(food_times)):\n",
    "        if food_times[ft] !=0 :\n",
    "            food_times[ft] = food_times[ft] - 1\n",
    "            ft+=1\n",
    "            print(ft)\n",
    "            ls.append(ft)\n",
    "            print(ls)\n",
    "        else:\n",
    "            ft+=1\n",
    "            print(ft)\n",
    "        if ft == len_ft:\n",
    "            ft=0\n",
    "        if len(ls) == k+1:\n",
    "            print(ls[k])\n",
    "            break\n",
    "-1"
   ]
  },
  {
   "cell_type": "code",
   "execution_count": 67,
   "metadata": {},
   "outputs": [],
   "source": [
    "def solution(food_times, k):\n",
    "    ls=[]\n",
    "    ft=0\n",
    "    i=0\n",
    "    len_ft = len(food_times)\n",
    "    while sum(food_times): \n",
    "    \n",
    "        if food_times[ft] !=0 :\n",
    "            food_times[ft] = food_times[ft] - 1\n",
    "            ft+=1\n",
    "            i+=0\n",
    "            #ls.append(ft)\n",
    "        else:\n",
    "            ft+=1\n",
    "            i+=0\n",
    "        if ft == len_ft:\n",
    "            ft=0\n",
    "        if i == k:\n",
    "            return ft\n",
    "            break    \n",
    "    return -1"
   ]
  },
  {
   "cell_type": "code",
   "execution_count": 68,
   "metadata": {},
   "outputs": [
    {
     "data": {
      "text/plain": [
       "-1"
      ]
     },
     "execution_count": 68,
     "metadata": {},
     "output_type": "execute_result"
    }
   ],
   "source": [
    "solution(food_times,k)"
   ]
  },
  {
   "cell_type": "code",
   "execution_count": 93,
   "metadata": {},
   "outputs": [],
   "source": [
    "food_times, k = [3, 1, 2,0,0,3,3,2], 7\n",
    "# 기댓값 1"
   ]
  },
  {
   "cell_type": "code",
   "execution_count": 94,
   "metadata": {},
   "outputs": [],
   "source": [
    "def solution(food_times, k):\n",
    "    ft=0\n",
    "    i=0\n",
    "    len_ft = len(food_times)\n",
    "    while sum(food_times): \n",
    "        if food_times[ft] !=0 :\n",
    "            food_times[ft] -= 1\n",
    "            ft+=1\n",
    "            i+=1\n",
    "            #print('print:',ft,i,food_times)\n",
    "        else:\n",
    "            ft+=1\n",
    "            #print('pass:',ft,i,food_times)\n",
    "        if ft == len_ft:\n",
    "            ft=0\n",
    "            #print('reset:',ft,i,food_times)\n",
    "        if i == k+1:\n",
    "            #print('finish:',ft,i,food_times)\n",
    "            return ft\n",
    "            break    \n",
    "    return -1"
   ]
  },
  {
   "cell_type": "code",
   "execution_count": 95,
   "metadata": {},
   "outputs": [
    {
     "data": {
      "text/plain": [
       "3"
      ]
     },
     "execution_count": 95,
     "metadata": {},
     "output_type": "execute_result"
    }
   ],
   "source": [
    "solution(food_times,k)"
   ]
  },
  {
   "cell_type": "code",
   "execution_count": null,
   "metadata": {},
   "outputs": [],
   "source": []
  }
 ],
 "metadata": {
  "kernelspec": {
   "display_name": "Python 3",
   "language": "python",
   "name": "python3"
  },
  "language_info": {
   "codemirror_mode": {
    "name": "ipython",
    "version": 3
   },
   "file_extension": ".py",
   "mimetype": "text/x-python",
   "name": "python",
   "nbconvert_exporter": "python",
   "pygments_lexer": "ipython3",
   "version": "3.6.5"
  }
 },
 "nbformat": 4,
 "nbformat_minor": 2
}
