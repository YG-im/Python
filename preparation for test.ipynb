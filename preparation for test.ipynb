{
 "cells": [
  {
   "cell_type": "markdown",
   "metadata": {},
   "source": [
    "# 오픈 채팅방"
   ]
  },
  {
   "cell_type": "code",
   "execution_count": 65,
   "metadata": {},
   "outputs": [
    {
     "name": "stdout",
     "output_type": "stream",
     "text": [
      "{'uid4567': 'Ryan'}\n",
      "['[uid1234]님이 들어왔습니다.', '[Ryan]님이 들어왔습니다.', '[uid1234]님이 나갔습니다.']\n"
     ]
    }
   ],
   "source": [
    "record = [\"Enter uid1234 Muzi\",\"Enter uid4567 Prodo\",\"Leave uid1234\", \"Enter uid1234 Prodo\", \"Change uid4567 Ryan\"]\n",
    "record_dic = {}\n",
    "result = []\n",
    "for record_str in record:\n",
    "    record_ls = record_str.split(' ')\n",
    "    if 'Enter' in record_str:\n",
    "        ID = record_ls[1]\n",
    "        NAME = record_ls[2]\n",
    "        record_dic[ID] = NAME\n",
    "        result.append(\"[{}]님이 들어왔습니다.\".format(ID))\n",
    "    elif 'Leave' in record_str:\n",
    "        ID = record_ls[1]\n",
    "        NAME = record_dic[ID]\n",
    "        result.append(\"[{}]님이 나갔습니다.\".format(ID))\n",
    "        del record_dic[ID]\n",
    "    else: #change\n",
    "        ID = record_ls[1]\n",
    "        NAME = record_ls[2]\n",
    "        record_dic[ID] = NAME\n",
    "\n",
    "for key in record_dic:\n",
    "    for i in range(len(answer)):\n",
    "        #id -> NAME\n",
    "        result[i] = result[i].replace(key,record_dic[key])\n",
    "        \n",
    "print(record_dic)\n",
    "print(result)\n",
    "            "
   ]
  },
  {
   "cell_type": "code",
   "execution_count": 30,
   "metadata": {},
   "outputs": [
    {
     "name": "stdout",
     "output_type": "stream",
     "text": [
      "uid1234\n",
      "uid1234\n"
     ]
    }
   ],
   "source": [
    "for value in record_dic:\n",
    "    print(key)"
   ]
  },
  {
   "cell_type": "code",
   "execution_count": 39,
   "metadata": {},
   "outputs": [
    {
     "ename": "AttributeError",
     "evalue": "'list' object has no attribute 'replace'",
     "output_type": "error",
     "traceback": [
      "\u001b[0;31m---------------------------------------------------------------------------\u001b[0m",
      "\u001b[0;31mAttributeError\u001b[0m                            Traceback (most recent call last)",
      "\u001b[0;32m<ipython-input-39-d8ee3efad718>\u001b[0m in \u001b[0;36m<module>\u001b[0;34m\u001b[0m\n\u001b[1;32m      1\u001b[0m \u001b[0maa\u001b[0m \u001b[0;34m=\u001b[0m \u001b[0;34m[\u001b[0m\u001b[0;34m'[Muzi]님이 들어왔습니다.'\u001b[0m\u001b[0;34m]\u001b[0m\u001b[0;34m\u001b[0m\u001b[0m\n\u001b[0;32m----> 2\u001b[0;31m \u001b[0maa\u001b[0m\u001b[0;34m.\u001b[0m\u001b[0mreplace\u001b[0m\u001b[0;34m(\u001b[0m\u001b[0;34m'k'\u001b[0m\u001b[0;34m,\u001b[0m\u001b[0;34m'A'\u001b[0m\u001b[0;34m)\u001b[0m\u001b[0;34m\u001b[0m\u001b[0m\n\u001b[0m",
      "\u001b[0;31mAttributeError\u001b[0m: 'list' object has no attribute 'replace'"
     ]
    }
   ],
   "source": [
    "aa = ['[Muzi]님이 들어왔습니다.']\n",
    "aa.replace('k','A')"
   ]
  },
  {
   "cell_type": "code",
   "execution_count": 19,
   "metadata": {},
   "outputs": [],
   "source": [
    "a= {'uid4567': 'Ryan', 'uid1234': 'Prodo'}\n",
    "a['uid4567'] = 'A'"
   ]
  },
  {
   "cell_type": "code",
   "execution_count": 20,
   "metadata": {},
   "outputs": [
    {
     "data": {
      "text/plain": [
       "{'uid4567': 'A', 'uid1234': 'Prodo'}"
      ]
     },
     "execution_count": 20,
     "metadata": {},
     "output_type": "execute_result"
    }
   ],
   "source": [
    "a"
   ]
  },
  {
   "cell_type": "code",
   "execution_count": 66,
   "metadata": {},
   "outputs": [],
   "source": [
    "def solution(record):\n",
    "    answer = []\n",
    "    record_dic = {}\n",
    "    for record_str in record:\n",
    "        record_ls = record_str.split(' ')\n",
    "        if 'Enter' in record_ls:\n",
    "            ID = record_ls[1]\n",
    "            record_dic[ID]= record_ls[2]\n",
    "            answer.append(\"{}님이 들어왔습니다.\".format(ID))\n",
    "        elif 'Leave' in record_ls:\n",
    "            answer.append(\"{}님이 나갔습니다.\".format(record_ls[1]))\n",
    "        else: #change\n",
    "            ID = record_ls[1]\n",
    "            record_dic[ID] = record_ls[2]\n",
    "\n",
    "    for key in record_dic:\n",
    "        for i in range(len(answer)):\n",
    "            #id -> NAME\n",
    "            answer[i] = answer[i].replace(key,record_dic[key])\n",
    "    return answer\n"
   ]
  },
  {
   "cell_type": "code",
   "execution_count": 78,
   "metadata": {},
   "outputs": [],
   "source": [
    "def solution(record): # 아이디랑 이름이 같은 사람이 있으면 실패\n",
    "    answer = []\n",
    "    record_dic = {}\n",
    "    for record_str in record: \n",
    "        record_ls = record_str.split(' ')\n",
    "        if 'Enter' in record_ls:\n",
    "            record_dic[record_ls[1]]= record_ls[2]\n",
    "            answer.append(\"{}님이 들어왔습니다.\".format(ID))\n",
    "        elif 'Leave' in record_ls:\n",
    "            answer.append(\"{}님이 나갔습니다.\".format(record_ls[1]))\n",
    "        else: #change\n",
    "            record_dic[record_ls[1]] = record_ls[2]\n",
    "\n",
    "    for key in record_dic:\n",
    "        for i in range(len(answer)):\n",
    "            #id -> NAME\n",
    "            answer[i] = answer[i].replace(key,record_dic[key])\n",
    "    return answer, record_dic\n"
   ]
  },
  {
   "cell_type": "code",
   "execution_count": 79,
   "metadata": {},
   "outputs": [
    {
     "data": {
      "text/plain": [
       "(['uid4567님이 들어왔습니다.',\n",
       "  'uid4567님이 들어왔습니다.',\n",
       "  'Ryan님이 나갔습니다.',\n",
       "  'uid4567님이 들어왔습니다.'],\n",
       " {'uid1234': 'Ryan', 'uid4567': 'uid4567'})"
      ]
     },
     "execution_count": 79,
     "metadata": {},
     "output_type": "execute_result"
    }
   ],
   "source": [
    "record = [\"Enter uid1234 Muzi\",\"Enter uid4567 uid4567\", \"Leave uid1234\", \"Enter uid1234 Prodo\", \"Change uid1234 Ryan\"]\n",
    "solution(record)"
   ]
  },
  {
   "cell_type": "code",
   "execution_count": 80,
   "metadata": {},
   "outputs": [],
   "source": [
    "def solution(record):\n",
    "    answer = []\n",
    "    record_dic = {}\n",
    "    printer = {'Enter' : '님이 들어왔습니다.', 'Leave' : '님이 나갔습니다.'}\n",
    "    for record_str in record:\n",
    "        record_ls = record_str.split(' ')\n",
    "        if record_ls[0] == 'Enter':\n",
    "            record_dic[record_ls[1]] = record_ls[2]\n",
    "        elif record_ls[0] == 'Change':\n",
    "            record_dic[record_ls[1]] = record_ls[2]\n",
    "                    \n",
    "    for record_str in record:\n",
    "        if record_str.split(' ')[0] != 'Change':\n",
    "            answer.append(record_dic[record_str.split(' ')[1]]+printer[record_str.split(' ')[0]])\n",
    "    return answer"
   ]
  },
  {
   "cell_type": "markdown",
   "metadata": {},
   "source": [
    "# 실패율"
   ]
  },
  {
   "cell_type": "code",
   "execution_count": 136,
   "metadata": {},
   "outputs": [
    {
     "data": {
      "text/plain": [
       "[2, 3, 1, 0, 4]"
      ]
     },
     "execution_count": 136,
     "metadata": {},
     "output_type": "execute_result"
    }
   ],
   "source": [
    "N=5; stages = [2, 1, 2, 6, 2, 4, 3, 3]; #[3,4,2,1,5]\n",
    "s_dic = [stages.count(i) for i in range(1,N+2)]\n",
    "fail = [s_dic[i-1]/sum(s_dic[i:]) for i in range(1,N+1)]\n",
    "a = sorted(range(len(fail)),key=fail.__getitem__, reverse=True)\n",
    "a"
   ]
  },
  {
   "cell_type": "code",
   "execution_count": 131,
   "metadata": {},
   "outputs": [
    {
     "data": {
      "text/plain": [
       "[1, 3, 2, 1, 0, 1]"
      ]
     },
     "execution_count": 131,
     "metadata": {},
     "output_type": "execute_result"
    }
   ],
   "source": [
    "s_dic"
   ]
  },
  {
   "cell_type": "code",
   "execution_count": 135,
   "metadata": {},
   "outputs": [
    {
     "data": {
      "text/plain": [
       "0.14285714285714285"
      ]
     },
     "execution_count": 135,
     "metadata": {},
     "output_type": "execute_result"
    }
   ],
   "source": [
    "i=1\n",
    "s_dic[i-1]/sum(s_dic[i:])"
   ]
  },
  {
   "cell_type": "code",
   "execution_count": 134,
   "metadata": {},
   "outputs": [
    {
     "data": {
      "text/plain": [
       "3"
      ]
     },
     "execution_count": 134,
     "metadata": {},
     "output_type": "execute_result"
    }
   ],
   "source": [
    "s_dic[i]"
   ]
  },
  {
   "cell_type": "code",
   "execution_count": 129,
   "metadata": {
    "scrolled": true
   },
   "outputs": [
    {
     "data": {
      "text/plain": [
       "[0.42857142857142855, 0.5, 0.5, 0.0, 1.0]"
      ]
     },
     "execution_count": 129,
     "metadata": {},
     "output_type": "execute_result"
    }
   ],
   "source": [
    "fail"
   ]
  },
  {
   "cell_type": "code",
   "execution_count": 130,
   "metadata": {},
   "outputs": [
    {
     "data": {
      "text/plain": [
       "0.125"
      ]
     },
     "execution_count": 130,
     "metadata": {},
     "output_type": "execute_result"
    }
   ],
   "source": [
    "1/8"
   ]
  },
  {
   "cell_type": "code",
   "execution_count": 142,
   "metadata": {},
   "outputs": [],
   "source": [
    "def solution(N, stages):\n",
    "    #answer = []\n",
    "    epsilon = 1e-6\n",
    "    s_dic = [stages.count(i) for i in range(1,N+2)]\n",
    "    fail = [s_dic[i-1]/(sum(s_dic[i:])+epsilon) for i in range(1,N+1)]\n",
    "    answer = sorted(range(len(fail)),key=fail.__getitem__, reverse=True)\n",
    "    answer = [i+1 for i in answer]\n",
    "    return answer"
   ]
  },
  {
   "cell_type": "code",
   "execution_count": 143,
   "metadata": {},
   "outputs": [
    {
     "data": {
      "text/plain": [
       "[4, 1, 2, 3]"
      ]
     },
     "execution_count": 143,
     "metadata": {},
     "output_type": "execute_result"
    }
   ],
   "source": [
    "solution(4,[4,4,4,4])"
   ]
  },
  {
   "cell_type": "code",
   "execution_count": 144,
   "metadata": {},
   "outputs": [
    {
     "data": {
      "text/plain": [
       "[3, 4, 2, 1, 5]"
      ]
     },
     "execution_count": 144,
     "metadata": {},
     "output_type": "execute_result"
    }
   ],
   "source": [
    "solution(5,[2, 1, 2, 6, 2, 4, 3, 3])"
   ]
  },
  {
   "cell_type": "markdown",
   "metadata": {},
   "source": [
    "# 후보키"
   ]
  },
  {
   "cell_type": "code",
   "execution_count": 213,
   "metadata": {},
   "outputs": [],
   "source": [
    "relation = [[\"100\",\"ryan\",\"music\",\"2\"],[\"200\",\"apeach\",\"math\",\"2\"],[\"300\",\"tube\",\"computer\",\"3\"],\\\n",
    "            [\"400\",\"con\",\"computer\",\"4\"],[\"500\",\"muzi\",\"music\",\"3\"],[\"600\",\"apeach\",\"music\",\"2\"]]"
   ]
  },
  {
   "cell_type": "code",
   "execution_count": 165,
   "metadata": {},
   "outputs": [],
   "source": [
    "a = [len(set([relation[i][j] for i in range(len(relation))])) for j in range(len(relation[0]))]"
   ]
  },
  {
   "cell_type": "code",
   "execution_count": 170,
   "metadata": {},
   "outputs": [
    {
     "data": {
      "text/plain": [
       "[6, 5, 3, 3]"
      ]
     },
     "execution_count": 170,
     "metadata": {},
     "output_type": "execute_result"
    }
   ],
   "source": [
    "a"
   ]
  },
  {
   "cell_type": "code",
   "execution_count": 169,
   "metadata": {},
   "outputs": [
    {
     "data": {
      "text/plain": [
       "[0, 1, 2, 3]"
      ]
     },
     "execution_count": 169,
     "metadata": {},
     "output_type": "execute_result"
    }
   ],
   "source": [
    "b= sorted(range(len(a)),key=a.__getitem__, reverse=True)"
   ]
  },
  {
   "cell_type": "code",
   "execution_count": 163,
   "metadata": {},
   "outputs": [
    {
     "data": {
      "text/plain": [
       "1"
      ]
     },
     "execution_count": 163,
     "metadata": {},
     "output_type": "execute_result"
    }
   ],
   "source": [
    "len([j for j in range(len(relation[0])) if len(set([relation[i][j] for i in range(len(relation))])) == len(relation)])"
   ]
  },
  {
   "cell_type": "code",
   "execution_count": 172,
   "metadata": {},
   "outputs": [
    {
     "data": {
      "text/plain": [
       "[1, 2, 3]"
      ]
     },
     "execution_count": 172,
     "metadata": {},
     "output_type": "execute_result"
    }
   ],
   "source": [
    "[j for j in range(len(relation[0])) if len(set([relation[i][j] for i in range(len(relation))])) != len(relation)]"
   ]
  },
  {
   "cell_type": "code",
   "execution_count": 190,
   "metadata": {},
   "outputs": [
    {
     "data": {
      "text/plain": [
       "'apeach'"
      ]
     },
     "execution_count": 190,
     "metadata": {},
     "output_type": "execute_result"
    }
   ],
   "source": [
    "relation[1][nomax[0]]"
   ]
  },
  {
   "cell_type": "code",
   "execution_count": 193,
   "metadata": {},
   "outputs": [
    {
     "data": {
      "text/plain": [
       "\"['A', 'B']\""
      ]
     },
     "execution_count": 193,
     "metadata": {},
     "output_type": "execute_result"
    }
   ],
   "source": [
    "str(['A','B'])"
   ]
  },
  {
   "cell_type": "code",
   "execution_count": 196,
   "metadata": {},
   "outputs": [
    {
     "data": {
      "text/plain": [
       "['600', 'apeach', 'music', '2']"
      ]
     },
     "execution_count": 196,
     "metadata": {},
     "output_type": "execute_result"
    }
   ],
   "source": [
    "ls_j = []\n",
    "nomax = [j for j in range(len(relation[0])) if len(set([relation[i][j] for i in range(len(relation))])) != len(relation)]\n",
    "for i in range(len(relation)):\n",
    "    a= [j for j in relation[i]]#relation[j].count(j)\n",
    "a"
   ]
  },
  {
   "cell_type": "code",
   "execution_count": 197,
   "metadata": {},
   "outputs": [],
   "source": [
    "from itertools import combinations"
   ]
  },
  {
   "cell_type": "code",
   "execution_count": 198,
   "metadata": {},
   "outputs": [],
   "source": [
    "relation.extend(combinations(range(4),1))"
   ]
  },
  {
   "cell_type": "code",
   "execution_count": 244,
   "metadata": {},
   "outputs": [],
   "source": [
    "lsls = list(range(len(relation[0])))\n",
    "answer = []"
   ]
  },
  {
   "cell_type": "code",
   "execution_count": 245,
   "metadata": {},
   "outputs": [
    {
     "data": {
      "text/plain": [
       "([0, 1, 2],\n",
       " [],\n",
       " [['ryan', 'music', '2'],\n",
       "  ['apeach', 'math', '2'],\n",
       "  ['tube', 'computer', '3'],\n",
       "  ['con', 'computer', '4'],\n",
       "  ['muzi', 'music', '3'],\n",
       "  ['apeach', 'music', '2']])"
      ]
     },
     "execution_count": 245,
     "metadata": {},
     "output_type": "execute_result"
    }
   ],
   "source": [
    "k=2\n",
    "for j in range(len(list(combinations(relation[0],k)))):\n",
    "    ls = [list(combinations(relation[i],k))[j] for i in range(len(relation))]\n",
    "    ls_set = set(ls)\n",
    "    if len(ls_set)==6:\n",
    "        answer.append(j)\n",
    "        for i in range(len(relation)):\n",
    "            relation[i].remove(relation[i][j])\n",
    "\n",
    "lsls, answer, relation"
   ]
  },
  {
   "cell_type": "code",
   "execution_count": 254,
   "metadata": {},
   "outputs": [
    {
     "data": {
      "text/plain": [
       "['ryan', 'music', '2']"
      ]
     },
     "execution_count": 254,
     "metadata": {},
     "output_type": "execute_result"
    }
   ],
   "source": [
    "relation[0]"
   ]
  },
  {
   "cell_type": "code",
   "execution_count": null,
   "metadata": {},
   "outputs": [],
   "source": [
    "\n",
    "def solution(relation):\n",
    "    answer_list = list()\n",
    "    for i in range(1, 1 << len(relation[0])):\n",
    "        tmp_set = set()\n",
    "        for j in range(len(relation)):\n",
    "            tmp = ''\n",
    "            for k in range(len(relation[0])):\n",
    "                if i & (1 << k):\n",
    "                    tmp += str(relation[j][k])\n",
    "            tmp_set.add(tmp)\n",
    "\n",
    "        if len(tmp_set) == len(relation):\n",
    "            not_duplicate = True\n",
    "            for num in answer_list:\n",
    "                if (num & i) == num:\n",
    "                    not_duplicate = False\n",
    "                    break\n",
    "            if not_duplicate:\n",
    "                answer_list.append(i)\n",
    "    return len(answer_list)"
   ]
  },
  {
   "cell_type": "code",
   "execution_count": 256,
   "metadata": {
    "scrolled": true
   },
   "outputs": [
    {
     "ename": "ValueError",
     "evalue": "list.remove(x): x not in list",
     "output_type": "error",
     "traceback": [
      "\u001b[0;31m---------------------------------------------------------------------------\u001b[0m",
      "\u001b[0;31mValueError\u001b[0m                                Traceback (most recent call last)",
      "\u001b[0;32m<ipython-input-256-fdefa96cde60>\u001b[0m in \u001b[0;36m<module>\u001b[0;34m\u001b[0m\n\u001b[1;32m      1\u001b[0m \u001b[0mk\u001b[0m\u001b[0;34m=\u001b[0m\u001b[0;36m2\u001b[0m\u001b[0;34m;\u001b[0m\u001b[0mj\u001b[0m\u001b[0;34m=\u001b[0m\u001b[0;36m1\u001b[0m\u001b[0;34m\u001b[0m\u001b[0m\n\u001b[0;32m----> 2\u001b[0;31m \u001b[0mrelation\u001b[0m\u001b[0;34m[\u001b[0m\u001b[0;36m0\u001b[0m\u001b[0;34m]\u001b[0m\u001b[0;34m.\u001b[0m\u001b[0mremove\u001b[0m\u001b[0;34m(\u001b[0m\u001b[0;34m[\u001b[0m\u001b[0;34m'ryan'\u001b[0m\u001b[0;34m,\u001b[0m \u001b[0;34m'music'\u001b[0m\u001b[0;34m]\u001b[0m\u001b[0;34m)\u001b[0m\u001b[0;31m#[list(combinations(relation[i],k))[j] for i in range(len(relation))][0])\u001b[0m\u001b[0;34m\u001b[0m\u001b[0m\n\u001b[0m",
      "\u001b[0;31mValueError\u001b[0m: list.remove(x): x not in list"
     ]
    }
   ],
   "source": [
    "k=2;j=1\n",
    "relation[0].remove()#[list(combinations(relation[i],k))[j] for i in range(len(relation))][0])"
   ]
  },
  {
   "cell_type": "code",
   "execution_count": 235,
   "metadata": {},
   "outputs": [
    {
     "data": {
      "text/plain": [
       "[1, 2, 3]"
      ]
     },
     "execution_count": 235,
     "metadata": {},
     "output_type": "execute_result"
    }
   ],
   "source": [
    "lsls"
   ]
  },
  {
   "cell_type": "code",
   "execution_count": 212,
   "metadata": {
    "scrolled": true
   },
   "outputs": [
    {
     "data": {
      "text/plain": [
       "10"
      ]
     },
     "execution_count": 212,
     "metadata": {},
     "output_type": "execute_result"
    }
   ],
   "source": [
    "len(relation)"
   ]
  },
  {
   "cell_type": "code",
   "execution_count": 210,
   "metadata": {},
   "outputs": [
    {
     "data": {
      "text/plain": [
       "[('200', 'apeach', 'math'),\n",
       " ('200', 'apeach', '2'),\n",
       " ('200', 'math', '2'),\n",
       " ('apeach', 'math', '2')]"
      ]
     },
     "execution_count": 210,
     "metadata": {},
     "output_type": "execute_result"
    }
   ],
   "source": [
    "list(combinations(relation[1],3))"
   ]
  },
  {
   "cell_type": "markdown",
   "metadata": {},
   "source": [
    "# stock price"
   ]
  },
  {
   "cell_type": "code",
   "execution_count": 318,
   "metadata": {},
   "outputs": [
    {
     "data": {
      "text/plain": [
       "[4, 3, 1, 1, 0]"
      ]
     },
     "execution_count": 318,
     "metadata": {},
     "output_type": "execute_result"
    }
   ],
   "source": [
    "#[1, 2, 3, 2, 3] -> [4, 3, 1, 1, 0]\n",
    "ls = [1, 2, 3, 2, 3]\n",
    "answer = []\n",
    "for i in range(len(ls)):\n",
    "    if i == len(ls)-1:\n",
    "        answer.append(0)\n",
    "        break\n",
    "    j=1\n",
    "    for k in range(i+1,len(ls)):\n",
    "        if k == len(ls)-1:\n",
    "            answer.append(j)\n",
    "        elif ls[i] <= ls[k]:\n",
    "            j+=1\n",
    "        else:\n",
    "            answer.append(j) \n",
    "            break\n",
    "answer        "
   ]
  },
  {
   "cell_type": "code",
   "execution_count": 305,
   "metadata": {},
   "outputs": [
    {
     "data": {
      "text/plain": [
       "[0, 1, 2, 3, 4]"
      ]
     },
     "execution_count": 305,
     "metadata": {},
     "output_type": "execute_result"
    }
   ],
   "source": [
    "list(range(len(ls)))"
   ]
  },
  {
   "cell_type": "code",
   "execution_count": 304,
   "metadata": {},
   "outputs": [
    {
     "data": {
      "text/plain": [
       "4"
      ]
     },
     "execution_count": 304,
     "metadata": {},
     "output_type": "execute_result"
    }
   ],
   "source": [
    "len(ls)-1"
   ]
  },
  {
   "cell_type": "code",
   "execution_count": 317,
   "metadata": {
    "scrolled": true
   },
   "outputs": [
    {
     "data": {
      "text/plain": [
       "[1]"
      ]
     },
     "execution_count": 317,
     "metadata": {},
     "output_type": "execute_result"
    }
   ],
   "source": [
    "ls = [1, 2, 3, 2, 3]\n",
    "i=2\n",
    "j=1\n",
    "answer = []\n",
    "for k in range(i+1,len(ls)):\n",
    "        if k == len(ls)-1:\n",
    "            answer.append(j)\n",
    "        elif ls[i] <= ls[k]:\n",
    "            j+=1\n",
    "        else:\n",
    "            answer.append(j)\n",
    "            break\n",
    "answer"
   ]
  },
  {
   "cell_type": "markdown",
   "metadata": {},
   "source": [
    "# skill tree"
   ]
  },
  {
   "cell_type": "code",
   "execution_count": 382,
   "metadata": {},
   "outputs": [],
   "source": [
    "#CBD, [BACDE, CBADF, AECB, BDA]->2\n",
    "skill = 'CBD'\n",
    "skill_trees = ['BACDE', 'CBADF', 'AECB', 'BDA']"
   ]
  },
  {
   "cell_type": "code",
   "execution_count": 374,
   "metadata": {},
   "outputs": [
    {
     "data": {
      "text/plain": [
       "[['B', 'A', 'C', 'D', 'E'],\n",
       " ['C', 'B', 'A', 'D', 'F'],\n",
       " ['A', 'E', 'C', 'B'],\n",
       " ['B', 'D', 'A']]"
      ]
     },
     "execution_count": 374,
     "metadata": {},
     "output_type": "execute_result"
    }
   ],
   "source": [
    "skill_trees_ls = [list(i) for i in skill_trees] # str -> list\n",
    "skill_trees_ls"
   ]
  },
  {
   "cell_type": "code",
   "execution_count": 375,
   "metadata": {},
   "outputs": [
    {
     "name": "stdout",
     "output_type": "stream",
     "text": [
      "[['B', 'C', 'D'], ['C', 'B', 'A', 'D', 'F'], ['A', 'E', 'C', 'B'], ['B', 'D', 'A']]\n",
      "[['B', 'C', 'D'], ['C', 'B', 'D'], ['A', 'E', 'C', 'B'], ['B', 'D', 'A']]\n",
      "[['B', 'C', 'D'], ['C', 'B', 'D'], ['C', 'B'], ['B', 'D', 'A']]\n",
      "[['B', 'C', 'D'], ['C', 'B', 'D'], ['C', 'B'], ['B', 'D']]\n"
     ]
    }
   ],
   "source": [
    "for i in range(len(skill_trees_ls)):\n",
    "    kmax = len(skill_trees_ls)\n",
    "    test = list(set(skill_trees_ls[i]) - set(skill)) # 차집합 구해서\n",
    "    for elem in test:\n",
    "        skill_trees_ls[i].remove(elem)  # 순서 유지하면서 skill_trees_ls와 skill사이에 공통된것만 남기기\n",
    "    print(skill_trees_ls)  "
   ]
  },
  {
   "cell_type": "code",
   "execution_count": 380,
   "metadata": {},
   "outputs": [
    {
     "name": "stdout",
     "output_type": "stream",
     "text": [
      "[['B', 'C', 'D'], ['C', 'B', 'D'], ['C', 'B'], ['B', 'D']]\n",
      "[['B', 'C', 'D'], ['C', 'B', 'D'], ['C', 'B'], ['B', 'D']]\n",
      "[['B', 'C', 'D'], ['C', 'B', 'D'], ['C', 'B'], ['B', 'D']]\n",
      "[['B', 'C', 'D'], ['C', 'B', 'D'], ['C', 'B'], ['B', 'D']]\n"
     ]
    },
    {
     "data": {
      "text/plain": [
       "2"
      ]
     },
     "execution_count": 380,
     "metadata": {},
     "output_type": "execute_result"
    }
   ],
   "source": [
    "ls_final = []\n",
    "for i in range(len(skill_trees_ls)):\n",
    "    kmax = len(skill_trees_ls)\n",
    "    test = list(set(skill_trees_ls[i]) - set(skill))# 차집합 구해서\n",
    "    for elem in test:\n",
    "        skill_trees_ls[i].remove(elem) # 순서 유지하면서 skill_trees_ls와 skill사이에 공통된것만 남기기\n",
    "    print(skill_trees_ls)    \n",
    "       \n",
    "    for j in range(len(skill_trees_ls[i])):    \n",
    "        if skill_trees_ls[i][j] == list(skill)[j]: # 서로 같은지 비교\n",
    "            continue\n",
    "        elif skill_trees_ls[i][j] != list(skill)[j]: # 순서상 다른게 나오면 ls_final에 false 추가\n",
    "            ls_final.append(False)\n",
    "            break\n",
    "kmax - len(ls_final)"
   ]
  },
  {
   "cell_type": "code",
   "execution_count": 381,
   "metadata": {},
   "outputs": [],
   "source": [
    "#교집합 써서 아닌 것들 지우고 남은 것들로 순서 따지기"
   ]
  },
  {
   "cell_type": "code",
   "execution_count": 388,
   "metadata": {},
   "outputs": [],
   "source": [
    "#CBD, [BACDE, CBADF, AECB, BDA]->2\n",
    "skill = 'CBD'\n",
    "skill_trees = ['BACDE', 'CBADF', 'AECB', 'BDA']"
   ]
  },
  {
   "cell_type": "code",
   "execution_count": 393,
   "metadata": {},
   "outputs": [
    {
     "data": {
      "text/plain": [
       "2"
      ]
     },
     "execution_count": 393,
     "metadata": {},
     "output_type": "execute_result"
    }
   ],
   "source": [
    "answer = 0\n",
    "\n",
    "for skills in skill_trees:\n",
    "    skill_list = list(skill)\n",
    "\n",
    "    for s in skills:\n",
    "        if s in skill:\n",
    "            if s != skill_list.pop(0): #처음부터 pop시키기\n",
    "                break\n",
    "    else: #오잉??\n",
    "        answer += 1\n",
    "\n",
    "answer"
   ]
  },
  {
   "cell_type": "code",
   "execution_count": 392,
   "metadata": {},
   "outputs": [
    {
     "data": {
      "text/plain": [
       "'C'"
      ]
     },
     "execution_count": 392,
     "metadata": {},
     "output_type": "execute_result"
    }
   ],
   "source": [
    "list(skill).pop(0)"
   ]
  },
  {
   "cell_type": "code",
   "execution_count": 385,
   "metadata": {},
   "outputs": [
    {
     "data": {
      "text/plain": [
       "'B'"
      ]
     },
     "execution_count": 385,
     "metadata": {},
     "output_type": "execute_result"
    }
   ],
   "source": [
    "skill_list.pop(0)"
   ]
  },
  {
   "cell_type": "markdown",
   "metadata": {},
   "source": [
    "# 송신탑"
   ]
  },
  {
   "cell_type": "code",
   "execution_count": 437,
   "metadata": {},
   "outputs": [],
   "source": [
    "# [3,9,9,3,5,7,2] -> [0,0,0,3,3,3,6]\n",
    "heights = [3,9,9,3,5,7,2]\n",
    "answer = []"
   ]
  },
  {
   "cell_type": "code",
   "execution_count": 439,
   "metadata": {},
   "outputs": [
    {
     "name": "stdout",
     "output_type": "stream",
     "text": [
      "[5, 4, 3, 2, 1, 0]\n",
      "[4, 3, 2, 1, 0]\n",
      "[3, 2, 1, 0]\n",
      "[2, 1, 0]\n",
      "[1, 0]\n",
      "[0]\n",
      "[]\n"
     ]
    },
    {
     "data": {
      "text/plain": [
       "[6, 3, 3, 3, 0, 0, 0]"
      ]
     },
     "execution_count": 439,
     "metadata": {},
     "output_type": "execute_result"
    }
   ],
   "source": [
    "kk = len(heights)\n",
    "for _ in range(kk):\n",
    "    h_pop = heights.pop()\n",
    "    h_ls = list(range(0,len(heights)))\n",
    "    h_ls.reverse()\n",
    "#    print(h_ls)\n",
    "    if len(h_ls)==0:\n",
    "        answer.append(0)\n",
    "\n",
    "    for i in h_ls:\n",
    "        if heights[i] > h_pop:\n",
    "            answer.append(i+1)\n",
    "            break\n",
    "        elif i ==0:\n",
    "            answer.append(0)\n",
    "answer    \n",
    "# h_ls에서 인덱스 하나씩 뽑아서 heights와 비교하고 작으면 넘기고 크면 멈추고 빈 list에 인덱스 추가하는 식으로"
   ]
  },
  {
   "cell_type": "code",
   "execution_count": 441,
   "metadata": {},
   "outputs": [
    {
     "name": "stdout",
     "output_type": "stream",
     "text": [
      "[5, 4, 3, 2, 1, 0]\n"
     ]
    },
    {
     "data": {
      "text/plain": [
       "[6]"
      ]
     },
     "execution_count": 441,
     "metadata": {},
     "output_type": "execute_result"
    }
   ],
   "source": [
    "# [3,9,9,3,5,7,2] -> [0,0,0,3,3,3,6]\n",
    "heights = [3,9,9,3,5,7,2]\n",
    "answer = []\n",
    "\n",
    "h_pop = heights.pop()\n",
    "h_ls = list(range(0,len(heights)))\n",
    "h_ls.reverse()\n",
    "print(h_ls)\n",
    "if len(h_ls)==0:\n",
    "    answer.append(0)\n",
    "\n",
    "for i in h_ls:\n",
    "        if heights[i] > h_pop:\n",
    "            answer.append(i+1)\n",
    "            break\n",
    "        elif i ==0:\n",
    "            answer.append(0)\n",
    "answer            "
   ]
  },
  {
   "cell_type": "code",
   "execution_count": 443,
   "metadata": {},
   "outputs": [
    {
     "data": {
      "text/plain": [
       "[0, 0, 0, 0, 0, 0]"
      ]
     },
     "execution_count": 443,
     "metadata": {},
     "output_type": "execute_result"
    }
   ],
   "source": [
    "ans = [0] * len(heights)\n",
    "ans"
   ]
  },
  {
   "cell_type": "code",
   "execution_count": 449,
   "metadata": {},
   "outputs": [],
   "source": [
    "# [3,9,9,3,5,7,2] -> [0,0,0,3,3,3,6]\n",
    "heights = [3,9,9,3,5,7,2]\n",
    "answer = []\n",
    "\n",
    "def solution(h):\n",
    "    ans = []\n",
    "    for i in range(len(h)-1, 0, -1): #range 에서 inverse : -1\n",
    "        for j in range(i-1, -1, -1):\n",
    "            if h[i] < h[j]:\n",
    "                ans.append(j+1) # 이렇게 하면 끝에 0이 안채워짐\n",
    "                break\n",
    "    ans.reverse()            \n",
    "    return ans"
   ]
  },
  {
   "cell_type": "code",
   "execution_count": 450,
   "metadata": {},
   "outputs": [
    {
     "data": {
      "text/plain": [
       "[3, 3, 3, 6]"
      ]
     },
     "execution_count": 450,
     "metadata": {},
     "output_type": "execute_result"
    }
   ],
   "source": [
    "solution(heights)"
   ]
  },
  {
   "cell_type": "code",
   "execution_count": 451,
   "metadata": {},
   "outputs": [],
   "source": [
    "def solution(h):\n",
    "    ans = [0] * len(h) # 해당사항 없는거에 자동으로 0채워지도록!\n",
    "    for i in range(len(h)-1, 0, -1):\n",
    "        for j in range(i-1, -1, -1): #range 에서 inverse : -1\n",
    "            if h[i] < h[j]:\n",
    "                ans[i] = j+1\n",
    "                break\n",
    "    return ans"
   ]
  },
  {
   "cell_type": "code",
   "execution_count": 452,
   "metadata": {},
   "outputs": [
    {
     "data": {
      "text/plain": [
       "[0, 0, 0, 3, 3, 3, 6]"
      ]
     },
     "execution_count": 452,
     "metadata": {},
     "output_type": "execute_result"
    }
   ],
   "source": [
    "solution(heights)"
   ]
  },
  {
   "cell_type": "markdown",
   "metadata": {},
   "source": [
    "# 네트워크 문제"
   ]
  },
  {
   "cell_type": "code",
   "execution_count": 487,
   "metadata": {},
   "outputs": [
    {
     "data": {
      "text/plain": [
       "[[0, 1], [1, 2]]"
      ]
     },
     "execution_count": 487,
     "metadata": {},
     "output_type": "execute_result"
    }
   ],
   "source": [
    "# N = 3; computers = [[1, 1, 0], [1, 1, 0], [0, 0, 1]]; return = 2\n",
    "# N = 3; computers = [[1, 1, 0], [1, 1, 1], [0, 1, 1]]; return = 1\n",
    "N = 3; computers = [[1, 1, 0], [1, 1, 1], [0, 1, 1]];\n",
    "ls = []\n",
    "for i in range(len(computers)):\n",
    "    for j in range(i,len(computers[i])):\n",
    "        if i!=j and computers[i][j]:\n",
    "            ls.append([i,j])\n",
    "ls\n",
    "            #for k in range(len(ls)):\n",
    "#     list(ls)"
   ]
  },
  {
   "cell_type": "code",
   "execution_count": 482,
   "metadata": {},
   "outputs": [],
   "source": [
    "ls.remove(ls[0])"
   ]
  },
  {
   "cell_type": "code",
   "execution_count": 489,
   "metadata": {},
   "outputs": [
    {
     "data": {
      "text/plain": [
       "[[0, 1], [1, 2]]"
      ]
     },
     "execution_count": 489,
     "metadata": {},
     "output_type": "execute_result"
    }
   ],
   "source": [
    "ls"
   ]
  },
  {
   "cell_type": "code",
   "execution_count": 488,
   "metadata": {},
   "outputs": [
    {
     "ename": "SyntaxError",
     "evalue": "invalid syntax (<ipython-input-488-316f50727ee1>, line 6)",
     "output_type": "error",
     "traceback": [
      "\u001b[0;36m  File \u001b[0;32m\"<ipython-input-488-316f50727ee1>\"\u001b[0;36m, line \u001b[0;32m6\u001b[0m\n\u001b[0;31m    ls.remove(ls[k])\u001b[0m\n\u001b[0m     ^\u001b[0m\n\u001b[0;31mSyntaxError\u001b[0m\u001b[0;31m:\u001b[0m invalid syntax\n"
     ]
    }
   ],
   "source": [
    "for k in range(len(ls)):\n",
    "    \n",
    "    for m in range(k,len(ls)):\n",
    "        if len(set(ls[k]) & set(ls[m])) !=0 :\n",
    "            ls_tot = list(set(ls[k]+ls[m])\n",
    "            ls.remove(ls[k])\n",
    "            ls.remove(ls[m])\n",
    "            ls.append(ls_tot)\n",
    "        elif len(ls)==1:\n",
    "            break\n",
    "        else\n",
    "ls        "
   ]
  },
  {
   "cell_type": "code",
   "execution_count": 474,
   "metadata": {},
   "outputs": [
    {
     "data": {
      "text/plain": [
       "{0, 1, 2}"
      ]
     },
     "execution_count": 474,
     "metadata": {},
     "output_type": "execute_result"
    }
   ],
   "source": [
    "set(ls[0]+ls[1])"
   ]
  },
  {
   "cell_type": "markdown",
   "metadata": {},
   "source": [
    "# simple array"
   ]
  },
  {
   "cell_type": "code",
   "execution_count": 491,
   "metadata": {},
   "outputs": [],
   "source": [
    "a=[1,2,3]"
   ]
  },
  {
   "cell_type": "code",
   "execution_count": 492,
   "metadata": {},
   "outputs": [
    {
     "data": {
      "text/plain": [
       "6"
      ]
     },
     "execution_count": 492,
     "metadata": {},
     "output_type": "execute_result"
    }
   ],
   "source": [
    "sum(a)"
   ]
  },
  {
   "cell_type": "code",
   "execution_count": 494,
   "metadata": {},
   "outputs": [
    {
     "data": {
      "text/plain": [
       "[2, 1]"
      ]
     },
     "execution_count": 494,
     "metadata": {},
     "output_type": "execute_result"
    }
   ],
   "source": [
    "a=[17, 28, 30]\n",
    "b=[99, 16, 8]\n",
    "A=0\n",
    "B=0\n",
    "for i in range(len(a)):\n",
    "        if a[i]>b[i]:\n",
    "            A+=1\n",
    "        elif a[i]<b[i]:\n",
    "            B+=1\n",
    "\n",
    "[A,B]  "
   ]
  },
  {
   "cell_type": "code",
   "execution_count": 495,
   "metadata": {},
   "outputs": [
    {
     "data": {
      "text/plain": [
       "5000000015"
      ]
     },
     "execution_count": 495,
     "metadata": {},
     "output_type": "execute_result"
    }
   ],
   "source": [
    "test =[1000000001, 1000000002, 1000000003, 1000000004, 1000000005]\n",
    "sum(test)"
   ]
  },
  {
   "cell_type": "code",
   "execution_count": 498,
   "metadata": {},
   "outputs": [],
   "source": [
    "N=4"
   ]
  },
  {
   "cell_type": "code",
   "execution_count": 504,
   "metadata": {},
   "outputs": [
    {
     "data": {
      "text/plain": [
       "'1234'"
      ]
     },
     "execution_count": 504,
     "metadata": {},
     "output_type": "execute_result"
    }
   ],
   "source": [
    "sol = ''\n",
    "for i in list(range(1,4+1)):\n",
    "    sol = sol+str(i)\n",
    "sol    "
   ]
  },
  {
   "cell_type": "code",
   "execution_count": 503,
   "metadata": {},
   "outputs": [
    {
     "data": {
      "text/plain": [
       "'23'"
      ]
     },
     "execution_count": 503,
     "metadata": {},
     "output_type": "execute_result"
    }
   ],
   "source": [
    "'2'+'3'"
   ]
  },
  {
   "cell_type": "code",
   "execution_count": 518,
   "metadata": {},
   "outputs": [
    {
     "data": {
      "text/plain": [
       "21"
      ]
     },
     "execution_count": 518,
     "metadata": {},
     "output_type": "execute_result"
    }
   ],
   "source": [
    "len('-------WELCOME-------')"
   ]
  },
  {
   "cell_type": "code",
   "execution_count": 520,
   "metadata": {},
   "outputs": [
    {
     "data": {
      "text/plain": [
       "'-------'"
      ]
     },
     "execution_count": 520,
     "metadata": {},
     "output_type": "execute_result"
    }
   ],
   "source": [
    "'-'*int((3*N-7)/2)"
   ]
  },
  {
   "cell_type": "code",
   "execution_count": 534,
   "metadata": {},
   "outputs": [
    {
     "name": "stdout",
     "output_type": "stream",
     "text": [
      "7 21\n"
     ]
    }
   ],
   "source": [
    "STDIN = input()"
   ]
  },
  {
   "cell_type": "code",
   "execution_count": 536,
   "metadata": {},
   "outputs": [
    {
     "data": {
      "text/plain": [
       "7"
      ]
     },
     "execution_count": 536,
     "metadata": {},
     "output_type": "execute_result"
    }
   ],
   "source": [
    "int(STDIN[0])"
   ]
  },
  {
   "cell_type": "code",
   "execution_count": 555,
   "metadata": {},
   "outputs": [
    {
     "name": "stdout",
     "output_type": "stream",
     "text": [
      "11\n",
      "---------------.|.---------------\n",
      "------------.|..|..|.------------\n",
      "---------.|..|..|..|..|.---------\n",
      "------.|..|..|..|..|..|..|.------\n",
      "---.|..|..|..|..|..|..|..|..|.---\n",
      "-------------WELCOME-------------\n",
      "---.|..|..|..|..|..|..|..|..|.---\n",
      "------.|..|..|..|..|..|..|.------\n",
      "---------.|..|..|..|..|.---------\n",
      "------------.|..|..|.------------\n",
      "---------------.|.---------------\n",
      "\n"
     ]
    }
   ],
   "source": [
    "STDIN = input()\n",
    "N=int(STDIN.split(' ')[0])\n",
    "n = N//2\n",
    "STDOUT = ''\n",
    "for i in range(N):\n",
    "    if i <n:\n",
    "        STDOUT=STDOUT + '---'*(n-i) + '.|.'*(N-2*(n-i))+'---'*(n-i)+'\\n'\n",
    "    elif i == n :\n",
    "        STDOUT=STDOUT + '-'*int((3*N-7)/2)+'WELCOME'+'-'*int((3*N-7)/2)+'\\n'\n",
    "    else:\n",
    "        STDOUT=STDOUT + '---'*(i-n) + '.|.'*(N-2*(i-n))+'---'*(i-n)+'\\n'\n",
    "print(STDOUT)        "
   ]
  },
  {
   "cell_type": "code",
   "execution_count": 550,
   "metadata": {},
   "outputs": [
    {
     "name": "stdout",
     "output_type": "stream",
     "text": [
      "11 33\n"
     ]
    }
   ],
   "source": [
    "STDIN = input()"
   ]
  },
  {
   "cell_type": "code",
   "execution_count": 554,
   "metadata": {},
   "outputs": [
    {
     "data": {
      "text/plain": [
       "'11'"
      ]
     },
     "execution_count": 554,
     "metadata": {},
     "output_type": "execute_result"
    }
   ],
   "source": [
    "STDIN.split(' ')[0]"
   ]
  },
  {
   "cell_type": "code",
   "execution_count": 549,
   "metadata": {},
   "outputs": [
    {
     "name": "stdout",
     "output_type": "stream",
     "text": [
      "---------.|..|..|..|..|.---------\n",
      "\n"
     ]
    }
   ],
   "source": [
    "N=11\n",
    "i=2\n",
    "STDOUT = ''\n",
    "n = N//2\n",
    "STDOUT=STDOUT + '---'*(n-i) + '.|.'*(N-2*(n-i))+'---'*(n-i)+'\\n'\n",
    "print(STDOUT)"
   ]
  },
  {
   "cell_type": "code",
   "execution_count": 531,
   "metadata": {},
   "outputs": [
    {
     "data": {
      "text/plain": [
       "'---------.|.---------\\n'"
      ]
     },
     "execution_count": 531,
     "metadata": {},
     "output_type": "execute_result"
    }
   ],
   "source": [
    "N=11\n",
    "n = N//2\n",
    "STDOUT = ''\n",
    "for i in range(N):\n",
    "    if i <n:\n",
    "        STDOUT=STDOUT + '---'*(n-i) + '.|.'*(N-2*(n-i))+'---'*(n-i)+'\\n'\n",
    "    elif i == n :\n",
    "        STDOUT=STDOUT + '-'*int((3*N-7)/2)+'WELCOME'+'-'*int((3*N-7)/2)+'\\n'\n",
    "    else:\n",
    "        STDOUT=STDOUT + '---'*(i-n) + '.|.'*(N-2*(i-n))+'---'*(i-n)+'\\n'\n",
    "print(STDOUT)     "
   ]
  },
  {
   "cell_type": "markdown",
   "metadata": {},
   "source": [
    "# Sparse Arrays\n",
    "\n"
   ]
  },
  {
   "cell_type": "code",
   "execution_count": 556,
   "metadata": {},
   "outputs": [
    {
     "data": {
      "text/plain": [
       "[2, 1, 0]"
      ]
     },
     "execution_count": 556,
     "metadata": {},
     "output_type": "execute_result"
    }
   ],
   "source": [
    "strings = ['ab','abc','ab','be']\n",
    "query = ['ab','be','e']\n",
    "result = []\n",
    "for i in query:\n",
    "    test = [True for j in strings if i==j]\n",
    "    result.append(sum(test))\n",
    "result    \n",
    "    "
   ]
  },
  {
   "cell_type": "code",
   "execution_count": 566,
   "metadata": {},
   "outputs": [],
   "source": [
    "a = input()\n",
    "a = a.split(' ')\n",
    "strings = a[1:int(a[0])+1]\n",
    "queries = a[int(a[0])+2:]"
   ]
  },
  {
   "cell_type": "code",
   "execution_count": 567,
   "metadata": {},
   "outputs": [
    {
     "data": {
      "text/plain": [
       "(['def', 'de', 'fgh'], ['de', 'lmn', 'fgh'])"
      ]
     },
     "execution_count": 567,
     "metadata": {},
     "output_type": "execute_result"
    }
   ],
   "source": [
    "strings, queries"
   ]
  },
  {
   "cell_type": "markdown",
   "metadata": {},
   "source": [
    "# 단어변환"
   ]
  },
  {
   "cell_type": "code",
   "execution_count": 569,
   "metadata": {},
   "outputs": [],
   "source": [
    "begin = 'hit'; target='cog'; words = ['hot', 'dot', 'dog', 'lot', 'log', 'cog'] #4\n",
    "#begin=hit; target=cog; words=[hot, dot, dog, lot, log] #0"
   ]
  },
  {
   "cell_type": "code",
   "execution_count": 611,
   "metadata": {},
   "outputs": [
    {
     "name": "stdout",
     "output_type": "stream",
     "text": [
      "['h', 'i', 't']\n",
      "['c', 'o', 'g']\n",
      "[['h', 'o', 't'], ['d', 'o', 't'], ['d', 'o', 'g'], ['l', 'o', 't'], ['l', 'o', 'g'], ['c', 'o', 'g']]\n"
     ]
    }
   ],
   "source": [
    "begin_ls = list(begin)\n",
    "words_ls = [list(k) for k in words]\n",
    "target_ls = list(target)\n",
    "print(begin_ls)\n",
    "print(target_ls)\n",
    "print(words_ls)\n"
   ]
  },
  {
   "cell_type": "code",
   "execution_count": 622,
   "metadata": {},
   "outputs": [
    {
     "data": {
      "text/plain": [
       "['h', 'o', 't']"
      ]
     },
     "execution_count": 622,
     "metadata": {},
     "output_type": "execute_result"
    }
   ],
   "source": [
    "dicaa = {}\n",
    "best_score = 0\n",
    "best_list = []\n",
    "for j in ls:\n",
    "    if best_score <ls.count(j):\n",
    "        best_score = ls.count(j) \n",
    "        best_list = j\n",
    "ls = [best_list]"
   ]
  },
  {
   "cell_type": "code",
   "execution_count": 647,
   "metadata": {},
   "outputs": [
    {
     "data": {
      "text/plain": [
       "(['h', 't'], ['c', 'g'])"
      ]
     },
     "execution_count": 647,
     "metadata": {},
     "output_type": "execute_result"
    }
   ],
   "source": [
    "b_ls = []\n",
    "t_ls = []\n",
    "for i in range(len(begin_ls)):\n",
    "    if begin_ls[i]!=target_ls[i]:\n",
    "        b_ls.append(begin_ls[i])\n",
    "        t_ls.append(target_ls[i])\n",
    "b_ls, t_ls        "
   ]
  },
  {
   "cell_type": "code",
   "execution_count": 648,
   "metadata": {},
   "outputs": [],
   "source": [
    "for i in t_ls:\n",
    "    begin_ls = list(begin)\n",
    "    begin_ls[target_ls.index(i)] = i\n",
    "    if begin_ls in words_ls:\n",
    "        begin = ''.join(begin_ls)\n",
    "        break\n",
    "begin_ls = list(begin)"
   ]
  },
  {
   "cell_type": "code",
   "execution_count": 649,
   "metadata": {},
   "outputs": [
    {
     "data": {
      "text/plain": [
       "['h', 'o', 't']"
      ]
     },
     "execution_count": 649,
     "metadata": {},
     "output_type": "execute_result"
    }
   ],
   "source": [
    "begin_ls"
   ]
  },
  {
   "cell_type": "code",
   "execution_count": 629,
   "metadata": {},
   "outputs": [],
   "source": [
    "b_ls[0] = 'c'"
   ]
  },
  {
   "cell_type": "code",
   "execution_count": 630,
   "metadata": {},
   "outputs": [
    {
     "data": {
      "text/plain": [
       "['c', 'i', 't']"
      ]
     },
     "execution_count": 630,
     "metadata": {},
     "output_type": "execute_result"
    }
   ],
   "source": [
    "b_ls"
   ]
  },
  {
   "cell_type": "code",
   "execution_count": 627,
   "metadata": {
    "scrolled": true
   },
   "outputs": [
    {
     "data": {
      "text/plain": [
       "1"
      ]
     },
     "execution_count": 627,
     "metadata": {},
     "output_type": "execute_result"
    }
   ],
   "source": [
    "target_ls.index('o')"
   ]
  },
  {
   "cell_type": "code",
   "execution_count": 573,
   "metadata": {},
   "outputs": [
    {
     "data": {
      "text/plain": [
       "True"
      ]
     },
     "execution_count": 573,
     "metadata": {},
     "output_type": "execute_result"
    }
   ],
   "source": [
    "target in words"
   ]
  },
  {
   "cell_type": "code",
   "execution_count": 599,
   "metadata": {},
   "outputs": [
    {
     "ename": "KeyboardInterrupt",
     "evalue": "",
     "output_type": "error",
     "traceback": [
      "\u001b[0;31m---------------------------------------------------------------------------\u001b[0m",
      "\u001b[0;31mKeyboardInterrupt\u001b[0m                         Traceback (most recent call last)",
      "\u001b[0;32m<ipython-input-599-37905956ffbe>\u001b[0m in \u001b[0;36m<module>\u001b[0;34m\u001b[0m\n\u001b[1;32m      1\u001b[0m \u001b[0mls\u001b[0m \u001b[0;34m=\u001b[0m \u001b[0;34m[\u001b[0m\u001b[0;34m]\u001b[0m\u001b[0;34m\u001b[0m\u001b[0m\n\u001b[0;32m----> 2\u001b[0;31m \u001b[0;32mwhile\u001b[0m \u001b[0mbegin_ls\u001b[0m \u001b[0;32mnot\u001b[0m \u001b[0;32min\u001b[0m \u001b[0mls\u001b[0m\u001b[0;34m:\u001b[0m\u001b[0;34m\u001b[0m\u001b[0m\n\u001b[0m\u001b[1;32m      3\u001b[0m     \u001b[0;32mfor\u001b[0m \u001b[0mi\u001b[0m \u001b[0;32min\u001b[0m \u001b[0mrange\u001b[0m\u001b[0;34m(\u001b[0m\u001b[0mlen\u001b[0m\u001b[0;34m(\u001b[0m\u001b[0mbegin_ls\u001b[0m\u001b[0;34m)\u001b[0m\u001b[0;34m)\u001b[0m\u001b[0;34m:\u001b[0m\u001b[0;34m\u001b[0m\u001b[0m\n\u001b[1;32m      4\u001b[0m         \u001b[0;32mfor\u001b[0m \u001b[0mk_ls\u001b[0m \u001b[0;32min\u001b[0m \u001b[0mwords_ls\u001b[0m\u001b[0;34m:\u001b[0m\u001b[0;34m\u001b[0m\u001b[0m\n\u001b[1;32m      5\u001b[0m             \u001b[0;32mif\u001b[0m \u001b[0mbegin_ls\u001b[0m\u001b[0;34m[\u001b[0m\u001b[0mi\u001b[0m\u001b[0;34m]\u001b[0m \u001b[0;34m==\u001b[0m \u001b[0mk_ls\u001b[0m\u001b[0;34m[\u001b[0m\u001b[0mi\u001b[0m\u001b[0;34m]\u001b[0m\u001b[0;34m:\u001b[0m\u001b[0;34m\u001b[0m\u001b[0m\n",
      "\u001b[0;31mKeyboardInterrupt\u001b[0m: "
     ]
    }
   ],
   "source": [
    "ls = []\n",
    "while begin_ls not in ls:\n",
    "    for i in range(len(begin_ls)):\n",
    "        for k_ls in words_ls:\n",
    "            if begin_ls[i] == k_ls[i]:\n",
    "                ls.append(k_ls)                \n",
    "            "
   ]
  },
  {
   "cell_type": "code",
   "execution_count": 606,
   "metadata": {},
   "outputs": [
    {
     "data": {
      "text/plain": [
       "[['h', 'i', 't']]"
      ]
     },
     "execution_count": 606,
     "metadata": {},
     "output_type": "execute_result"
    }
   ],
   "source": [
    "ls = []\n",
    "i=0\n",
    "ls.append(begin_ls)\n",
    "#while begin_ls not in ls:\n",
    "\n",
    "ls"
   ]
  },
  {
   "cell_type": "code",
   "execution_count": 607,
   "metadata": {},
   "outputs": [
    {
     "data": {
      "text/plain": [
       "[['h', 'i', 't'], ['h', 'o', 't'], ['d', 'o', 't']]"
      ]
     },
     "execution_count": 607,
     "metadata": {},
     "output_type": "execute_result"
    }
   ],
   "source": [
    "for k_ls in words_ls:\n",
    "            if ls[-1][:i] == k_ls[:i]:\n",
    "                ls.append(k_ls) \n",
    "                i+=1\n",
    "            else:\n",
    "                break\n",
    "ls"
   ]
  },
  {
   "cell_type": "code",
   "execution_count": 593,
   "metadata": {},
   "outputs": [
    {
     "data": {
      "text/plain": [
       "False"
      ]
     },
     "execution_count": 593,
     "metadata": {},
     "output_type": "execute_result"
    }
   ],
   "source": [
    "['h', 'i', 't']!=begin_ls"
   ]
  },
  {
   "cell_type": "markdown",
   "metadata": {},
   "source": [
    "# 완주하지 못한 선수"
   ]
  },
  {
   "cell_type": "code",
   "execution_count": 667,
   "metadata": {},
   "outputs": [],
   "source": [
    "participant = ['marina', 'josipa', 'nikola', 'vinko', 'filipa'];\n",
    "completion = ['josipa', 'filipa', 'nikola','vinko'];"
   ]
  },
  {
   "cell_type": "code",
   "execution_count": 686,
   "metadata": {},
   "outputs": [],
   "source": [
    "participant = [\"marina\", \"josipa\", \"nikola\", \"vinko\", \"filipa\"];\n",
    "completion = [\"josipa\", \"filipa\", \"marina\", \"nikola\"]"
   ]
  },
  {
   "cell_type": "code",
   "execution_count": 656,
   "metadata": {},
   "outputs": [
    {
     "data": {
      "text/plain": [
       "['vinko', 'filipa']"
      ]
     },
     "execution_count": 656,
     "metadata": {},
     "output_type": "execute_result"
    }
   ],
   "source": [
    "for name in completion:\n",
    "    participant.remove(name)\n",
    "participant    "
   ]
  },
  {
   "cell_type": "code",
   "execution_count": 685,
   "metadata": {},
   "outputs": [
    {
     "data": {
      "text/plain": [
       "['vinko', 'nikola', 'marina', 'josipa', 'filipa']"
      ]
     },
     "execution_count": 685,
     "metadata": {},
     "output_type": "execute_result"
    }
   ],
   "source": [
    "sorted(participant,reverse=True)"
   ]
  },
  {
   "cell_type": "code",
   "execution_count": 682,
   "metadata": {},
   "outputs": [],
   "source": [
    "completion.append('1')"
   ]
  },
  {
   "cell_type": "code",
   "execution_count": 687,
   "metadata": {},
   "outputs": [
    {
     "data": {
      "text/plain": [
       "['nikola', 'marina', 'josipa', 'filipa']"
      ]
     },
     "execution_count": 687,
     "metadata": {},
     "output_type": "execute_result"
    }
   ],
   "source": [
    "sorted(completion, reverse=True)"
   ]
  },
  {
   "cell_type": "code",
   "execution_count": 677,
   "metadata": {},
   "outputs": [
    {
     "data": {
      "text/plain": [
       "[('filipa', 'filipa'),\n",
       " ('josipa', 'josipa'),\n",
       " ('marina', 'marina'),\n",
       " ('nikola', 'nikola')]"
      ]
     },
     "execution_count": 677,
     "metadata": {},
     "output_type": "execute_result"
    }
   ],
   "source": [
    "list(zip(sorted(participant), sorted(completion)))"
   ]
  },
  {
   "cell_type": "code",
   "execution_count": 689,
   "metadata": {
    "scrolled": true
   },
   "outputs": [
    {
     "data": {
      "text/plain": [
       "'vinko'"
      ]
     },
     "execution_count": 689,
     "metadata": {},
     "output_type": "execute_result"
    }
   ],
   "source": [
    "completion.append('1')\n",
    "[i for i, j in zip(sorted(participant, reverse=True), sorted(completion, reverse=True)) if i != j][0]"
   ]
  },
  {
   "cell_type": "markdown",
   "metadata": {},
   "source": [
    "# 전화번호부 테스트"
   ]
  },
  {
   "cell_type": "code",
   "execution_count": 727,
   "metadata": {},
   "outputs": [],
   "source": [
    "phone_book = [\"113\", \"12340\", \"123440\", \"12345\", \"98346\"]\n",
    "#phone_book = [\"12232332\", \"12\", \"222222\"]"
   ]
  },
  {
   "cell_type": "code",
   "execution_count": 714,
   "metadata": {},
   "outputs": [
    {
     "data": {
      "text/plain": [
       "True"
      ]
     },
     "execution_count": 714,
     "metadata": {},
     "output_type": "execute_result"
    }
   ],
   "source": [
    "j=1\n",
    "phone_book[j] not in [phone[:len(phone_book[j])] for phone in phone_book[j+1:len(phone_book[j])]]"
   ]
  },
  {
   "cell_type": "code",
   "execution_count": 728,
   "metadata": {},
   "outputs": [
    {
     "data": {
      "text/plain": [
       "True"
      ]
     },
     "execution_count": 728,
     "metadata": {},
     "output_type": "execute_result"
    }
   ],
   "source": [
    "answer =True\n",
    "for j in range(len(phone_book)):\n",
    "    if phone_book[j] in [phone[:len(phone_book[j])] for phone in list(set(phone_book) - set([phone_book[j]]))]:\n",
    "        answer = False\n",
    "        break\n",
    "answer        "
   ]
  },
  {
   "cell_type": "markdown",
   "metadata": {},
   "source": [
    "# 위장"
   ]
  },
  {
   "cell_type": "code",
   "execution_count": 2,
   "metadata": {},
   "outputs": [],
   "source": [
    "clothes = [[\"yellow_hat\", \"headgear\"], [\"blue_sunglasses\", \"eyewear\"], [\"green_turban\", \"headgear\"],['smoky_makeup', 'face']]"
   ]
  },
  {
   "cell_type": "code",
   "execution_count": 6,
   "metadata": {},
   "outputs": [
    {
     "data": {
      "text/plain": [
       "[1, 2, 1]"
      ]
     },
     "execution_count": 6,
     "metadata": {},
     "output_type": "execute_result"
    }
   ],
   "source": [
    "cl_ls = list(map(lambda x:x[1], clothes))\n",
    "test = list(map(lambda y:  cl_ls.count(y), set(cl_ls)))"
   ]
  },
  {
   "cell_type": "code",
   "execution_count": 9,
   "metadata": {},
   "outputs": [],
   "source": [
    "from itertools import combinations\n",
    "from functools import reduce"
   ]
  },
  {
   "cell_type": "code",
   "execution_count": 772,
   "metadata": {},
   "outputs": [],
   "source": [
    "aa = [list(combinations(test,i+1)) for i in range(len(test))]"
   ]
  },
  {
   "cell_type": "code",
   "execution_count": 781,
   "metadata": {},
   "outputs": [
    {
     "data": {
      "text/plain": [
       "2"
      ]
     },
     "execution_count": 781,
     "metadata": {},
     "output_type": "execute_result"
    }
   ],
   "source": [
    "reduce(lambda x,y:x*y,(1,2))\n",
    "#aa[1]"
   ]
  },
  {
   "cell_type": "code",
   "execution_count": 783,
   "metadata": {},
   "outputs": [
    {
     "data": {
      "text/plain": [
       "[1, 1, 2]"
      ]
     },
     "execution_count": 783,
     "metadata": {},
     "output_type": "execute_result"
    }
   ],
   "source": [
    "test"
   ]
  },
  {
   "cell_type": "code",
   "execution_count": 15,
   "metadata": {},
   "outputs": [
    {
     "data": {
      "text/plain": [
       "11"
      ]
     },
     "execution_count": 15,
     "metadata": {},
     "output_type": "execute_result"
    }
   ],
   "source": [
    "cl_ls = list(map(lambda x:x[1], clothes))\n",
    "test = list(map(lambda y:  cl_ls.count(y), set(cl_ls)))\n",
    "answer=0\n",
    "answer += sum(test)\n",
    "ls = []\n",
    "for i in range(1,len(test)):    \n",
    "    ls += [reduce(lambda x,y:x*y,tup) for tup in list(combinations(test,i+1))]\n",
    "    \n",
    "        \n",
    "answer+=sum(ls)\n",
    "answer"
   ]
  },
  {
   "cell_type": "code",
   "execution_count": 10,
   "metadata": {},
   "outputs": [
    {
     "data": {
      "text/plain": [
       "11"
      ]
     },
     "execution_count": 10,
     "metadata": {},
     "output_type": "execute_result"
    }
   ],
   "source": [
    "cl_ls = list(map(lambda x:x[1], clothes))\n",
    "test = list(map(lambda y:  cl_ls.count(y), set(cl_ls)))\n",
    "answer=0\n",
    "answer += sum(test)\n",
    "for i in range(1,len(test)):    \n",
    "    for tup in list(combinations(test,i+1)):\n",
    "        \n",
    "        answer+=reduce(lambda x,y:x*y,tup)\n",
    "        \n",
    "answer        "
   ]
  },
  {
   "cell_type": "markdown",
   "metadata": {},
   "source": [
    "# 베스트 앨범"
   ]
  },
  {
   "cell_type": "code",
   "execution_count": 928,
   "metadata": {},
   "outputs": [],
   "source": [
    "genres = [\"classic\", \"pop\", \"classic\", \"classic\", \"pop\",\"song\",'song','song','song']; \n",
    "plays= [500, 600, 150, 800, 2500,100,300,50,1000]\n",
    "#[4, 1, 3, 0]"
   ]
  },
  {
   "cell_type": "code",
   "execution_count": 929,
   "metadata": {},
   "outputs": [],
   "source": [
    "gp = [(i, genres[i], plays[i]) for i in range(len(genres))]\n",
    "ls = []\n",
    "for _ in range(len(set(genres))):\n",
    "    plays = [ii[2] for ii in gp]\n",
    "    best = gp[plays.index(max(plays))]\n",
    "    idx, name, _ = best\n",
    "    ls.append(idx)\n",
    "    gp.remove(best)\n",
    "    best_c=0\n",
    "    best_idx=0\n",
    "    for i, n, c in gp:\n",
    "        if n == name:\n",
    "            if best_c<c:\n",
    "                best_idx=i    \n",
    "            gp.remove((i,n,c))    \n",
    "    ls.append(best_idx)"
   ]
  },
  {
   "cell_type": "code",
   "execution_count": 930,
   "metadata": {},
   "outputs": [
    {
     "data": {
      "text/plain": [
       "[(2, 'classic', 150), (6, 'song', 300)]"
      ]
     },
     "execution_count": 930,
     "metadata": {},
     "output_type": "execute_result"
    }
   ],
   "source": [
    "gp"
   ]
  },
  {
   "cell_type": "code",
   "execution_count": 931,
   "metadata": {},
   "outputs": [
    {
     "data": {
      "text/plain": [
       "[4, 1, 8, 7, 3, 0]"
      ]
     },
     "execution_count": 931,
     "metadata": {},
     "output_type": "execute_result"
    }
   ],
   "source": [
    "ls"
   ]
  },
  {
   "cell_type": "code",
   "execution_count": 899,
   "metadata": {},
   "outputs": [
    {
     "data": {
      "text/plain": [
       "[(0, 'classic', 500),\n",
       " (1, 'pop', 600),\n",
       " (2, 'classic', 150),\n",
       " (3, 'classic', 800),\n",
       " (4, 'pop', 2500),\n",
       " (5, 'pop', 1000)]"
      ]
     },
     "execution_count": 899,
     "metadata": {},
     "output_type": "execute_result"
    }
   ],
   "source": [
    "gp = [(i, genres[i], plays[i]) for i in range(len(genres))]\n",
    "ls = []\n",
    "gp"
   ]
  },
  {
   "cell_type": "code",
   "execution_count": 905,
   "metadata": {},
   "outputs": [
    {
     "data": {
      "text/plain": [
       "[500, 150, 800]"
      ]
     },
     "execution_count": 905,
     "metadata": {},
     "output_type": "execute_result"
    }
   ],
   "source": [
    "plays = [ii[2] for ii in gp]\n",
    "plays"
   ]
  },
  {
   "cell_type": "code",
   "execution_count": 906,
   "metadata": {},
   "outputs": [
    {
     "data": {
      "text/plain": [
       "[(0, 'classic', 500), (2, 'classic', 150)]"
      ]
     },
     "execution_count": 906,
     "metadata": {},
     "output_type": "execute_result"
    }
   ],
   "source": [
    "\n",
    "best = gp[plays.index(max(plays))]\n",
    "idx, name, _ = best\n",
    "ls.append(idx)\n",
    "gp.remove(best)\n",
    "gp"
   ]
  },
  {
   "cell_type": "code",
   "execution_count": 908,
   "metadata": {},
   "outputs": [
    {
     "name": "stdout",
     "output_type": "stream",
     "text": [
      "[]\n"
     ]
    }
   ],
   "source": [
    "best_c=0\n",
    "best_idx=0\n",
    "for i, n, c in gp:\n",
    "    if n == name:\n",
    "        gp.remove((i,n,c)) \n",
    "        if best_c<c:\n",
    "            best_idx=i    \n",
    "        print(gp)\n",
    "ls.append(best_idx)\n",
    "        "
   ]
  },
  {
   "cell_type": "code",
   "execution_count": 903,
   "metadata": {},
   "outputs": [
    {
     "data": {
      "text/plain": [
       "[(0, 'classic', 500), (2, 'classic', 150), (3, 'classic', 800)]"
      ]
     },
     "execution_count": 903,
     "metadata": {},
     "output_type": "execute_result"
    }
   ],
   "source": [
    "gp"
   ]
  },
  {
   "cell_type": "code",
   "execution_count": 904,
   "metadata": {},
   "outputs": [
    {
     "data": {
      "text/plain": [
       "[4, 5]"
      ]
     },
     "execution_count": 904,
     "metadata": {},
     "output_type": "execute_result"
    }
   ],
   "source": [
    "ls"
   ]
  },
  {
   "cell_type": "code",
   "execution_count": 831,
   "metadata": {},
   "outputs": [],
   "source": [
    "def indices( mylist, value):\n",
    "    return [i for i,x in enumerate(mylist) if x==value]"
   ]
  },
  {
   "cell_type": "code",
   "execution_count": 818,
   "metadata": {},
   "outputs": [
    {
     "data": {
      "text/plain": [
       "(2500, 4, 'pop')"
      ]
     },
     "execution_count": 818,
     "metadata": {},
     "output_type": "execute_result"
    }
   ],
   "source": [
    "max_ = max(gp[1])\n",
    "idx_max = plays.index(max_)\n",
    "name_max = genres[idx_max]\n",
    "max_, idx_max, name_max"
   ]
  },
  {
   "cell_type": "code",
   "execution_count": 819,
   "metadata": {},
   "outputs": [],
   "source": [
    "gp[0].pop(idx_max)\n",
    "gp[1].pop(idx_max)\n",
    "ls.append(idx_max)"
   ]
  },
  {
   "cell_type": "code",
   "execution_count": 932,
   "metadata": {},
   "outputs": [
    {
     "data": {
      "text/plain": [
       "[('classic', 500), ('pop', 150), ('classic', 800), ('classic', 300)]"
      ]
     },
     "execution_count": 932,
     "metadata": {},
     "output_type": "execute_result"
    }
   ],
   "source": [
    "list(zip(genres,plays))"
   ]
  },
  {
   "cell_type": "code",
   "execution_count": null,
   "metadata": {},
   "outputs": [],
   "source": [
    "genres = [\"classic\", \"pop\", \"classic\", \"classic\", \"pop\",\"song\",'song','song','song']; \n",
    "plays= [500, 600, 150, 800, 2500,100,300,50,1000]\n",
    "\n",
    "answer = []\n",
    "d = {e:[] for e in set(genres)}\n",
    "    for e in zip(genres, plays, range(len(plays))):\n",
    "        d[e[0]].append([e[1] , e[2]])\n",
    "    genreSort =sorted(list(d.keys()), key= lambda x: sum( map(lambda y: y[0],d[x])), reverse = True)\n",
    "    for g in genreSort:\n",
    "        temp = [e[1] for e in sorted(d[g],key= lambda x: (x[0], -x[1]), reverse = True)]\n",
    "        answer += temp[:min(len(temp),2)]\n",
    "    return answer"
   ]
  },
  {
   "cell_type": "code",
   "execution_count": null,
   "metadata": {},
   "outputs": [],
   "source": [
    "genres = [\"classic\", \"pop\", \"classic\", \"classic\", \"pop\",\"song\",'song','song','song']; \n",
    "plays= [500, 600, 150, 800, 2500,100,300,50,1000]\n",
    "def solution(genres, plays):\n",
    "    answer = []\n",
    "    d = {e:[] for e in set(genres)}\n",
    "    for e in zip(genres, plays, range(len(plays))):\n",
    "        d[e[0]].append([e[1] , e[2]])\n",
    "    genreSort =sorted(list(d.keys()), key= lambda x: sum( map(lambda y: y[0],d[x])), reverse = True)\n",
    "    for g in genreSort:\n",
    "        temp = [e[1] for e in sorted(d[g],key= lambda x: (x[0], -x[1]), reverse = True)]\n",
    "        answer += temp[:min(len(temp),2)]\n",
    "    return answer"
   ]
  }
 ],
 "metadata": {
  "kernelspec": {
   "display_name": "Python 3",
   "language": "python",
   "name": "python3"
  },
  "language_info": {
   "codemirror_mode": {
    "name": "ipython",
    "version": 3
   },
   "file_extension": ".py",
   "mimetype": "text/x-python",
   "name": "python",
   "nbconvert_exporter": "python",
   "pygments_lexer": "ipython3",
   "version": "3.6.5"
  }
 },
 "nbformat": 4,
 "nbformat_minor": 2
}
